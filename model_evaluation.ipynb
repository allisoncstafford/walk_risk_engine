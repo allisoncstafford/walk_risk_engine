{
 "cells": [
  {
   "cell_type": "code",
   "execution_count": 1,
   "metadata": {},
   "outputs": [],
   "source": [
    "from model2 import *\n",
    "import pandas as pd\n",
    "from sklearn.ensemble import RandomForestClassifier\n",
    "from sklearn.compose import ColumnTransformer\n",
    "from sklearn.pipeline import Pipeline\n",
    "from sklearn.impute import SimpleImputer\n",
    "from sklearn.preprocessing import StandardScaler, OneHotEncoder\n",
    "\n",
    "%load_ext autoreload\n",
    "%autoreload 2"
   ]
  },
  {
   "cell_type": "code",
   "execution_count": 45,
   "metadata": {},
   "outputs": [],
   "source": [
    "df = pd.read_sql_query(\"\"\"\n",
    "                        SELECT latitude, \n",
    "                                longitude, \n",
    "                                ap_t_high100, \n",
    "                                n_arrests\n",
    "                        FROM manhattan_loc_d_ar_wea \n",
    "                        ;\"\"\"\n",
    "                        , 'postgresql:///walk')"
   ]
  },
  {
   "cell_type": "code",
   "execution_count": 46,
   "metadata": {},
   "outputs": [
    {
     "data": {
      "text/html": [
       "<div>\n",
       "<style scoped>\n",
       "    .dataframe tbody tr th:only-of-type {\n",
       "        vertical-align: middle;\n",
       "    }\n",
       "\n",
       "    .dataframe tbody tr th {\n",
       "        vertical-align: top;\n",
       "    }\n",
       "\n",
       "    .dataframe thead th {\n",
       "        text-align: right;\n",
       "    }\n",
       "</style>\n",
       "<table border=\"1\" class=\"dataframe\">\n",
       "  <thead>\n",
       "    <tr style=\"text-align: right;\">\n",
       "      <th></th>\n",
       "      <th>latitude</th>\n",
       "      <th>longitude</th>\n",
       "      <th>ap_t_high100</th>\n",
       "      <th>n_arrests</th>\n",
       "    </tr>\n",
       "  </thead>\n",
       "  <tbody>\n",
       "    <tr>\n",
       "      <th>count</th>\n",
       "      <td>3.440040e+06</td>\n",
       "      <td>3.440040e+06</td>\n",
       "      <td>3.440040e+06</td>\n",
       "      <td>60430.000000</td>\n",
       "    </tr>\n",
       "    <tr>\n",
       "      <th>mean</th>\n",
       "      <td>4.077739e+01</td>\n",
       "      <td>-7.396711e+01</td>\n",
       "      <td>5.850189e+03</td>\n",
       "      <td>1.488251</td>\n",
       "    </tr>\n",
       "    <tr>\n",
       "      <th>std</th>\n",
       "      <td>4.462658e-02</td>\n",
       "      <td>2.698981e-02</td>\n",
       "      <td>2.107483e+03</td>\n",
       "      <td>1.374859</td>\n",
       "    </tr>\n",
       "    <tr>\n",
       "      <th>min</th>\n",
       "      <td>4.068300e+01</td>\n",
       "      <td>-7.404700e+01</td>\n",
       "      <td>-2.610000e+02</td>\n",
       "      <td>1.000000</td>\n",
       "    </tr>\n",
       "    <tr>\n",
       "      <th>25%</th>\n",
       "      <td>4.074300e+01</td>\n",
       "      <td>-7.398800e+01</td>\n",
       "      <td>4.074000e+03</td>\n",
       "      <td>1.000000</td>\n",
       "    </tr>\n",
       "    <tr>\n",
       "      <th>50%</th>\n",
       "      <td>4.077600e+01</td>\n",
       "      <td>-7.396800e+01</td>\n",
       "      <td>5.786000e+03</td>\n",
       "      <td>1.000000</td>\n",
       "    </tr>\n",
       "    <tr>\n",
       "      <th>75%</th>\n",
       "      <td>4.080500e+01</td>\n",
       "      <td>-7.394500e+01</td>\n",
       "      <td>7.559000e+03</td>\n",
       "      <td>2.000000</td>\n",
       "    </tr>\n",
       "    <tr>\n",
       "      <th>max</th>\n",
       "      <td>4.087900e+01</td>\n",
       "      <td>-7.390700e+01</td>\n",
       "      <td>1.014000e+04</td>\n",
       "      <td>87.000000</td>\n",
       "    </tr>\n",
       "  </tbody>\n",
       "</table>\n",
       "</div>"
      ],
      "text/plain": [
       "           latitude     longitude  ap_t_high100     n_arrests\n",
       "count  3.440040e+06  3.440040e+06  3.440040e+06  60430.000000\n",
       "mean   4.077739e+01 -7.396711e+01  5.850189e+03      1.488251\n",
       "std    4.462658e-02  2.698981e-02  2.107483e+03      1.374859\n",
       "min    4.068300e+01 -7.404700e+01 -2.610000e+02      1.000000\n",
       "25%    4.074300e+01 -7.398800e+01  4.074000e+03      1.000000\n",
       "50%    4.077600e+01 -7.396800e+01  5.786000e+03      1.000000\n",
       "75%    4.080500e+01 -7.394500e+01  7.559000e+03      2.000000\n",
       "max    4.087900e+01 -7.390700e+01  1.014000e+04     87.000000"
      ]
     },
     "execution_count": 46,
     "metadata": {},
     "output_type": "execute_result"
    }
   ],
   "source": [
    "df.describe()"
   ]
  },
  {
   "cell_type": "code",
   "execution_count": 49,
   "metadata": {},
   "outputs": [],
   "source": [
    "    categorized_df = categorize_arrests(df)"
   ]
  },
  {
   "cell_type": "code",
   "execution_count": 50,
   "metadata": {},
   "outputs": [
    {
     "data": {
      "text/html": [
       "<div>\n",
       "<style scoped>\n",
       "    .dataframe tbody tr th:only-of-type {\n",
       "        vertical-align: middle;\n",
       "    }\n",
       "\n",
       "    .dataframe tbody tr th {\n",
       "        vertical-align: top;\n",
       "    }\n",
       "\n",
       "    .dataframe thead th {\n",
       "        text-align: right;\n",
       "    }\n",
       "</style>\n",
       "<table border=\"1\" class=\"dataframe\">\n",
       "  <thead>\n",
       "    <tr style=\"text-align: right;\">\n",
       "      <th></th>\n",
       "      <th>latitude</th>\n",
       "      <th>longitude</th>\n",
       "      <th>ap_t_high100</th>\n",
       "      <th>n_arrests</th>\n",
       "    </tr>\n",
       "  </thead>\n",
       "  <tbody>\n",
       "    <tr>\n",
       "      <th>count</th>\n",
       "      <td>3.440040e+06</td>\n",
       "      <td>3.440040e+06</td>\n",
       "      <td>3.440040e+06</td>\n",
       "      <td>3.440040e+06</td>\n",
       "    </tr>\n",
       "    <tr>\n",
       "      <th>mean</th>\n",
       "      <td>4.077739e+01</td>\n",
       "      <td>-7.396711e+01</td>\n",
       "      <td>5.850189e+03</td>\n",
       "      <td>1.756666e-02</td>\n",
       "    </tr>\n",
       "    <tr>\n",
       "      <th>std</th>\n",
       "      <td>4.462658e-02</td>\n",
       "      <td>2.698981e-02</td>\n",
       "      <td>2.107483e+03</td>\n",
       "      <td>1.313700e-01</td>\n",
       "    </tr>\n",
       "    <tr>\n",
       "      <th>min</th>\n",
       "      <td>4.068300e+01</td>\n",
       "      <td>-7.404700e+01</td>\n",
       "      <td>-2.610000e+02</td>\n",
       "      <td>0.000000e+00</td>\n",
       "    </tr>\n",
       "    <tr>\n",
       "      <th>25%</th>\n",
       "      <td>4.074300e+01</td>\n",
       "      <td>-7.398800e+01</td>\n",
       "      <td>4.074000e+03</td>\n",
       "      <td>0.000000e+00</td>\n",
       "    </tr>\n",
       "    <tr>\n",
       "      <th>50%</th>\n",
       "      <td>4.077600e+01</td>\n",
       "      <td>-7.396800e+01</td>\n",
       "      <td>5.786000e+03</td>\n",
       "      <td>0.000000e+00</td>\n",
       "    </tr>\n",
       "    <tr>\n",
       "      <th>75%</th>\n",
       "      <td>4.080500e+01</td>\n",
       "      <td>-7.394500e+01</td>\n",
       "      <td>7.559000e+03</td>\n",
       "      <td>0.000000e+00</td>\n",
       "    </tr>\n",
       "    <tr>\n",
       "      <th>max</th>\n",
       "      <td>4.087900e+01</td>\n",
       "      <td>-7.390700e+01</td>\n",
       "      <td>1.014000e+04</td>\n",
       "      <td>1.000000e+00</td>\n",
       "    </tr>\n",
       "  </tbody>\n",
       "</table>\n",
       "</div>"
      ],
      "text/plain": [
       "           latitude     longitude  ap_t_high100     n_arrests\n",
       "count  3.440040e+06  3.440040e+06  3.440040e+06  3.440040e+06\n",
       "mean   4.077739e+01 -7.396711e+01  5.850189e+03  1.756666e-02\n",
       "std    4.462658e-02  2.698981e-02  2.107483e+03  1.313700e-01\n",
       "min    4.068300e+01 -7.404700e+01 -2.610000e+02  0.000000e+00\n",
       "25%    4.074300e+01 -7.398800e+01  4.074000e+03  0.000000e+00\n",
       "50%    4.077600e+01 -7.396800e+01  5.786000e+03  0.000000e+00\n",
       "75%    4.080500e+01 -7.394500e+01  7.559000e+03  0.000000e+00\n",
       "max    4.087900e+01 -7.390700e+01  1.014000e+04  1.000000e+00"
      ]
     },
     "execution_count": 50,
     "metadata": {},
     "output_type": "execute_result"
    }
   ],
   "source": [
    "categorized_df.describe()"
   ]
  },
  {
   "cell_type": "code",
   "execution_count": null,
   "metadata": {},
   "outputs": [],
   "source": []
  },
  {
   "cell_type": "code",
   "execution_count": 53,
   "metadata": {},
   "outputs": [],
   "source": [
    "    # add combined lat/long location feature\n",
    "    categorized_df['latlong'] = (categorized_df['latitude'].astype(str) \n",
    "                                + categorized_df['longitude'].astype(str))\n",
    "    X_train, y_train, X_eval, y_eval = split_last(categorized_df, sort_col=None, cut=.8)\n",
    "\n",
    "    "
   ]
  },
  {
   "cell_type": "code",
   "execution_count": 54,
   "metadata": {},
   "outputs": [
    {
     "data": {
      "text/html": [
       "<div>\n",
       "<style scoped>\n",
       "    .dataframe tbody tr th:only-of-type {\n",
       "        vertical-align: middle;\n",
       "    }\n",
       "\n",
       "    .dataframe tbody tr th {\n",
       "        vertical-align: top;\n",
       "    }\n",
       "\n",
       "    .dataframe thead th {\n",
       "        text-align: right;\n",
       "    }\n",
       "</style>\n",
       "<table border=\"1\" class=\"dataframe\">\n",
       "  <thead>\n",
       "    <tr style=\"text-align: right;\">\n",
       "      <th></th>\n",
       "      <th>latitude</th>\n",
       "      <th>longitude</th>\n",
       "      <th>ap_t_high100</th>\n",
       "    </tr>\n",
       "  </thead>\n",
       "  <tbody>\n",
       "    <tr>\n",
       "      <th>count</th>\n",
       "      <td>688008.000000</td>\n",
       "      <td>688008.000000</td>\n",
       "      <td>688008.000000</td>\n",
       "    </tr>\n",
       "    <tr>\n",
       "      <th>mean</th>\n",
       "      <td>40.777394</td>\n",
       "      <td>-73.967106</td>\n",
       "      <td>6601.403670</td>\n",
       "    </tr>\n",
       "    <tr>\n",
       "      <th>std</th>\n",
       "      <td>0.044627</td>\n",
       "      <td>0.026990</td>\n",
       "      <td>1346.445281</td>\n",
       "    </tr>\n",
       "    <tr>\n",
       "      <th>min</th>\n",
       "      <td>40.683000</td>\n",
       "      <td>-74.047000</td>\n",
       "      <td>3806.000000</td>\n",
       "    </tr>\n",
       "    <tr>\n",
       "      <th>25%</th>\n",
       "      <td>40.743000</td>\n",
       "      <td>-73.988000</td>\n",
       "      <td>5749.000000</td>\n",
       "    </tr>\n",
       "    <tr>\n",
       "      <th>50%</th>\n",
       "      <td>40.776000</td>\n",
       "      <td>-73.968000</td>\n",
       "      <td>6783.000000</td>\n",
       "    </tr>\n",
       "    <tr>\n",
       "      <th>75%</th>\n",
       "      <td>40.805000</td>\n",
       "      <td>-73.945000</td>\n",
       "      <td>7559.000000</td>\n",
       "    </tr>\n",
       "    <tr>\n",
       "      <th>max</th>\n",
       "      <td>40.879000</td>\n",
       "      <td>-73.907000</td>\n",
       "      <td>9330.000000</td>\n",
       "    </tr>\n",
       "  </tbody>\n",
       "</table>\n",
       "</div>"
      ],
      "text/plain": [
       "            latitude      longitude   ap_t_high100\n",
       "count  688008.000000  688008.000000  688008.000000\n",
       "mean       40.777394     -73.967106    6601.403670\n",
       "std         0.044627       0.026990    1346.445281\n",
       "min        40.683000     -74.047000    3806.000000\n",
       "25%        40.743000     -73.988000    5749.000000\n",
       "50%        40.776000     -73.968000    6783.000000\n",
       "75%        40.805000     -73.945000    7559.000000\n",
       "max        40.879000     -73.907000    9330.000000"
      ]
     },
     "execution_count": 54,
     "metadata": {},
     "output_type": "execute_result"
    }
   ],
   "source": [
    "X_eval.describe()"
   ]
  },
  {
   "cell_type": "code",
   "execution_count": null,
   "metadata": {},
   "outputs": [],
   "source": []
  },
  {
   "cell_type": "code",
   "execution_count": null,
   "metadata": {},
   "outputs": [],
   "source": []
  },
  {
   "cell_type": "code",
   "execution_count": 55,
   "metadata": {},
   "outputs": [],
   "source": [
    "    column_transformer = ColumnTransformer( \n",
    "        transformers=[\n",
    "        ('ohe', OneHotEncoder(categories='auto'), ['latlong']),\n",
    "        ('ss', StandardScaler(), ['latitude', 'longitude', 'ap_t_high100'])],\n",
    "        remainder='drop')\n",
    "\n",
    "    "
   ]
  },
  {
   "cell_type": "code",
   "execution_count": 56,
   "metadata": {},
   "outputs": [],
   "source": [
    "    # for max_feature in np.linspace():\n",
    "    #     print(f\"n_estimators = {n_estimators}\")\n",
    "    rfc = RandomForestClassifier(n_estimators=10, max_depth=10,\n",
    "                            class_weight='balanced', max_features=None)\n",
    "\n",
    "    pipe = Pipeline([\n",
    "        ('preprocessor', column_transformer),\n",
    "        ('model', rfc)\n",
    "    ])\n",
    "\n",
    "    # log_loss_cvs(pipe, X_train, y_train)\n",
    "\n",
    "    "
   ]
  },
  {
   "cell_type": "code",
   "execution_count": 57,
   "metadata": {
    "scrolled": true
   },
   "outputs": [
    {
     "name": "stdout",
     "output_type": "stream",
     "text": [
      "evaluating model\n",
      "fitting model\n",
      "model fit. Predicting for training set\n",
      "training log loss: 0.5098131965744109\n",
      "Predicting for evaluation set\n",
      "test probabilities: [[1. 0.]\n",
      " [1. 0.]\n",
      " [1. 0.]\n",
      " [1. 0.]\n",
      " [1. 0.]\n",
      " [1. 0.]\n",
      " [1. 0.]\n",
      " [1. 0.]\n",
      " [1. 0.]\n",
      " [1. 0.]]\n",
      "test neg log loss: 0.5128030982665949\n",
      "confusion matrix: \n",
      "[[474744 202107]\n",
      " [  2988   8169]]\n",
      "accuracy: 0.7019002686015279\n",
      "F1: 0.07378304046822289\n"
     ]
    }
   ],
   "source": [
    "eval_probas = evaluate_model(pipe, X_train, y_train, X_eval, y_eval)"
   ]
  },
  {
   "cell_type": "code",
   "execution_count": 58,
   "metadata": {},
   "outputs": [
    {
     "data": {
      "text/plain": [
       "array([[<matplotlib.axes._subplots.AxesSubplot object at 0x19f138240>,\n",
       "        <matplotlib.axes._subplots.AxesSubplot object at 0x1415e6438>]],\n",
       "      dtype=object)"
      ]
     },
     "execution_count": 58,
     "metadata": {},
     "output_type": "execute_result"
    },
    {
     "data": {
      "image/png": "[encoded data removed]",
      "text/plain": [
       "<Figure size 432x288 with 2 Axes>"
      ]
     },
     "metadata": {
      "needs_background": "light"
     },
     "output_type": "display_data"
    }
   ],
   "source": [
    "pd.DataFrame(eval_probas).hist()"
   ]
  },
  {
   "cell_type": "code",
   "execution_count": null,
   "metadata": {},
   "outputs": [],
   "source": [
    "from sklearn."
   ]
  }
 ],
 "metadata": {
  "kernelspec": {
   "display_name": "Python 3 (geo-env)",
   "language": "python",
   "name": "geo-env"
  },
  "language_info": {
   "codemirror_mode": {
    "name": "ipython",
    "version": 3
   },
   "file_extension": ".py",
   "mimetype": "text/x-python",
   "name": "python",
   "nbconvert_exporter": "python",
   "pygments_lexer": "ipython3",
   "version": "3.7.3"
  }
 },
 "nbformat": 4,
 "nbformat_minor": 2
}
