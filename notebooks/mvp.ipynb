{
 "cells": [
  {
   "cell_type": "code",
   "execution_count": 1,
   "metadata": {},
   "outputs": [],
   "source": [
    "import sqlalchemy\n",
    "import pandas as pd\n",
    "import numpy as np\n",
    "from sklearn.linear_model import LinearRegression\n",
    "from sklearn.metrics import mean_squared_error\n",
    "from sklearn.ensemble import RandomForestClassifier\n",
    "from sklearn.metrics import confusion_matrix, f1_score, accuracy_score\n",
    "from sklearn.metrics import log_loss\n",
    "from imblearn.over_sampling import SMOTE\n",
    "from sklearn.compose import ColumnTransformer\n",
    "from sklearn.pipeline import Pipeline\n",
    "from sklearn.impute import SimpleImputer\n",
    "from sklearn.preprocessing import StandardScaler\n",
    "from sklearn.preprocessing import OneHotEncoder\n",
    "import time\n",
    "from sklearn.model_selection import train_test_split\n",
    "from datetime import datetime"
   ]
  },
  {
   "cell_type": "markdown",
   "metadata": {},
   "source": [
    "## MVP"
   ]
  },
  {
   "cell_type": "code",
   "execution_count": null,
   "metadata": {},
   "outputs": [],
   "source": [
    "# from sqlalchemy import create_engine\n",
    "# engine = create_engine('postgresql:///walk')"
   ]
  },
  {
   "cell_type": "code",
   "execution_count": null,
   "metadata": {},
   "outputs": [],
   "source": [
    "df = pd.read_sql_table('manhattan_loc_d_ar_wea', 'postgresql:///walk')"
   ]
  },
  {
   "cell_type": "code",
   "execution_count": 9,
   "metadata": {},
   "outputs": [],
   "source": [
    "def categorize_arrests(dataframe):\n",
    "    cat_df = dataframe.copy()\n",
    "    cat_df.loc[cat_df['n_arrests'] > 0] = 1\n",
    "    cat_df['n_arrests'] = cat_df['n_arrests'].fillna(value=0)\n",
    "    return cat_df"
   ]
  },
  {
   "cell_type": "code",
   "execution_count": null,
   "metadata": {},
   "outputs": [],
   "source": [
    "last_ten = df.shape[0]*.9\n",
    "eval_df = df.reset_index(drop=True).loc[last_ten:]\n",
    "test_train_df = df.reset_index(drop=True).loc[:last_ten]\n",
    "X_eval = eval_df.drop(columns=['n_arrests'])\n",
    "y_eval = categorize_arrests(eval_df['n_arrests'])"
   ]
  },
  {
   "cell_type": "code",
   "execution_count": null,
   "metadata": {},
   "outputs": [],
   "source": [
    "X = test_train_df.drop(columns=['n_arrests'])\n",
    "y = categorize_arrests(test_train_df['n_arrests'])\n",
    "\n",
    "X_train, X_test, y_train, y_test = train_test_split(X, y, test_size=0.2, random_state=30)"
   ]
  },
  {
   "cell_type": "code",
   "execution_count": null,
   "metadata": {},
   "outputs": [],
   "source": [
    "df.head()"
   ]
  },
  {
   "cell_type": "code",
   "execution_count": null,
   "metadata": {},
   "outputs": [],
   "source": [
    "class DateTransformer():\n",
    "    \"\"\"Transforms df so that there are columns representing the features of the date.\n",
    "    \"\"\"\n",
    "    \n",
    "    def __init__(self):\n",
    "        pass\n",
    "    \n",
    "    def fit(self, X, y=None):\n",
    "        return self\n",
    "    \n",
    "    def transform(self, X, y=None):\n",
    "        X = pd.Series([pd.to_datetime(x, format=\"%Y-%m-%d\") for x in X['date']])\n",
    "        X_transf = pd.DataFrame()\n",
    "        X_transf['year'] = [x.year for x in X]\n",
    "        X_transf['month'] = [x.month for x in X]\n",
    "        X_transf['day'] = [x.day for x in X]\n",
    "        X_transf['weekday'] = [x.weekday() for x in X]\n",
    "        return np.array(X_transf)"
   ]
  },
  {
   "cell_type": "code",
   "execution_count": null,
   "metadata": {},
   "outputs": [],
   "source": [
    "class TimeOfDayTransformer():    \n",
    "    def __init__(self):\n",
    "        pass\n",
    "    \n",
    "    def fit(self, X, y=None):\n",
    "        return self\n",
    "    \n",
    "    def transform(self, X, y=None):\n",
    "        structtime = [time.gmtime(x) for x in X.values]\n",
    "        X_transf = np.array([(x.tm_hour*60 + x.tm_min) for x in structtime]).reshape(-1, 1)\n",
    "        return X_transf"
   ]
  },
  {
   "cell_type": "code",
   "execution_count": null,
   "metadata": {},
   "outputs": [],
   "source": [
    "class StringTransformer():    \n",
    "    def __init__(self):\n",
    "        pass\n",
    "    \n",
    "    def fit(self, X, y=None):\n",
    "        return self\n",
    "    \n",
    "    def transform(self, X, y=None):\n",
    "#         X_trans = np.array(X.astype(str)).reshape(-1, 1)\n",
    "#         print(X_trans)\n",
    "        return np.array(X.astype(str)).reshape(-1, 2)"
   ]
  },
  {
   "cell_type": "code",
   "execution_count": null,
   "metadata": {},
   "outputs": [],
   "source": [
    "impute_zero_features = ['precip_accum100']\n",
    "impute_zero_transformer = Pipeline(steps=[\n",
    "    ('imputer', SimpleImputer(strategy='constant', fill_value=0)),\n",
    "    ('scaler', StandardScaler())\n",
    "])\n",
    "\n",
    "# impute_mean_features = ['ozone10']\n",
    "# impute_mean_transformer = Pipeline(steps=[\n",
    "#     ('imputer', SimpleImputer()),\n",
    "#     ('scaler', StandardScaler())\n",
    "# ])\n",
    "\n",
    "date_transformer = Pipeline(steps=[\n",
    "    ('date_expansion', DateTransformer()),\n",
    "    ('ohe', OneHotEncoder(categories='auto'))\n",
    "])\n",
    "\n",
    "# categorical_features = ['icon', 'precipType']\n",
    "# categorical_transformer = Pipeline(steps=[\n",
    "#     ('string', StringTransformer()),\n",
    "#     ('ohe', OneHotEncoder(categories='auto'))\n",
    "# ])\n",
    "\n",
    "time_of_day_features = ['sunriseTime', 'sunsetTime']\n",
    "time_of_day_transformer = Pipeline(steps=[\n",
    "    ('time', TimeOfDayTransformer()),\n",
    "    ('scaler', StandardScaler())\n",
    "])\n",
    "\n",
    "other_numeric_features = ['latitude', 'longitude', 'ap_t_high100',\n",
    "                         'ap_t_low100', 'cloud', 'humidity',\n",
    "                          'precip_inten_max10000', 'precip_proba100', \n",
    "                          'wind_gust100',] \n",
    "                        # removed: 'moon_phase','pressure','uvIndex', \n",
    "\n",
    "preprocessor = ColumnTransformer( transformers=[\n",
    "    ('missing0', impute_zero_transformer, impute_zero_features),\n",
    "#     ('missing_mean', impute_mean_transformer, impute_mean_features),\n",
    "    ('date', date_transformer, ['date']),\n",
    "#     ('categoricals', categorical_transformer, categorical_features),\n",
    "    ('sunrise', time_of_day_transformer, ['sunriseTime']),\n",
    "    ('sunset', time_of_day_transformer, ['sunsetTime']),\n",
    "    ('ss', StandardScaler(), other_numeric_features)\n",
    "    ], remainder='passthrough')\n",
    "\n",
    "\n"
   ]
  },
  {
   "cell_type": "code",
   "execution_count": null,
   "metadata": {},
   "outputs": [],
   "source": [
    "rfc = RandomForestClassifier(n_estimators=10, max_depth=15, random_state=5,\n",
    "                            class_weight='balanced')\n",
    "# sm = SMOTE(random_state=20)"
   ]
  },
  {
   "cell_type": "code",
   "execution_count": null,
   "metadata": {},
   "outputs": [],
   "source": [
    "pipe = Pipeline([\n",
    "    ('preprocess', preprocessor),\n",
    "#     ('smote', sm),\n",
    "    ('model', rfc)\n",
    "])"
   ]
  },
  {
   "cell_type": "code",
   "execution_count": null,
   "metadata": {},
   "outputs": [],
   "source": [
    "from datetime import datetime\n",
    "now = datetime.now()\n",
    "current_time = now.strftime(\"%H:%M:%S\")\n",
    "print(\"Current Time =\", current_time)"
   ]
  },
  {
   "cell_type": "code",
   "execution_count": null,
   "metadata": {},
   "outputs": [],
   "source": [
    "pipe.fit(X_train, y_train)"
   ]
  },
  {
   "cell_type": "code",
   "execution_count": null,
   "metadata": {},
   "outputs": [],
   "source": [
    "from datetime import datetime\n",
    "now = datetime.now()\n",
    "current_time = now.strftime(\"%H:%M:%S\")\n",
    "print(\"Current Time =\", current_time)"
   ]
  },
  {
   "cell_type": "code",
   "execution_count": null,
   "metadata": {},
   "outputs": [],
   "source": [
    "train_preds = pipe.predict(X_train)\n",
    "train_proba = pipe.predict_proba(X_train)"
   ]
  },
  {
   "cell_type": "code",
   "execution_count": 2,
   "metadata": {},
   "outputs": [],
   "source": []
  },
  {
   "cell_type": "code",
   "execution_count": null,
   "metadata": {},
   "outputs": [],
   "source": [
    "print_scores(y_train, train_preds, train_proba)"
   ]
  },
  {
   "cell_type": "code",
   "execution_count": null,
   "metadata": {},
   "outputs": [],
   "source": [
    "test_preds = pipe.predict(X_test)\n",
    "test_proba = pipe.predict_proba(X_test)"
   ]
  },
  {
   "cell_type": "code",
   "execution_count": null,
   "metadata": {
    "scrolled": true
   },
   "outputs": [],
   "source": [
    "print_scores(y_test, test_preds, test_proba)"
   ]
  },
  {
   "cell_type": "code",
   "execution_count": 22,
   "metadata": {},
   "outputs": [],
   "source": [
    "from matplotlib import pyplot as plt\n",
    "%matplotlib inline"
   ]
  },
  {
   "cell_type": "code",
   "execution_count": null,
   "metadata": {},
   "outputs": [],
   "source": [
    "test_proba[:20]"
   ]
  },
  {
   "cell_type": "code",
   "execution_count": null,
   "metadata": {},
   "outputs": [],
   "source": [
    "fig, ax = plt.subplots()\n",
    "ax.hist(test_proba[:,0], bins=20)\n",
    "ax.tick_params(axis='x', colors='white')"
   ]
  },
  {
   "cell_type": "code",
   "execution_count": null,
   "metadata": {},
   "outputs": [],
   "source": [
    "from sklearn.metrics import roc_curve"
   ]
  },
  {
   "cell_type": "code",
   "execution_count": null,
   "metadata": {},
   "outputs": [],
   "source": [
    "fpr, tpr, thrsholds = roc_curve(y_test, test_proba[:, 1])"
   ]
  },
  {
   "cell_type": "code",
   "execution_count": null,
   "metadata": {},
   "outputs": [],
   "source": [
    "fig, ax = plt.subplots()\n",
    "ax.plot(fpr, tpr)\n",
    "ax.tick_params(axis='x', colors='white')\n",
    "ax.tick_params(axis='y', colors='white');"
   ]
  },
  {
   "cell_type": "code",
   "execution_count": null,
   "metadata": {},
   "outputs": [],
   "source": [
    "pipe.named_steps['preprocess']"
   ]
  },
  {
   "cell_type": "code",
   "execution_count": null,
   "metadata": {},
   "outputs": [],
   "source": [
    "plt.barh(range(rfc.n_features_), rfc.feature_importances_)"
   ]
  },
  {
   "cell_type": "code",
   "execution_count": null,
   "metadata": {},
   "outputs": [],
   "source": [
    "for estimator in rfc.estimators_:\n",
    "    print (estimator.tree_.node_count)"
   ]
  },
  {
   "cell_type": "code",
   "execution_count": null,
   "metadata": {},
   "outputs": [],
   "source": []
  },
  {
   "cell_type": "code",
   "execution_count": null,
   "metadata": {},
   "outputs": [],
   "source": [
    "from sklearn.linear_model import LogisticRegression"
   ]
  },
  {
   "cell_type": "code",
   "execution_count": null,
   "metadata": {},
   "outputs": [],
   "source": [
    "lr = LogisticRegression(random_state=0, solver='lbfgs')"
   ]
  },
  {
   "cell_type": "code",
   "execution_count": null,
   "metadata": {},
   "outputs": [],
   "source": [
    "lr_pipe = Pipeline([\n",
    "    ('preprocess', preprocessor),\n",
    "    ('model', rfc)\n",
    "])"
   ]
  },
  {
   "cell_type": "code",
   "execution_count": null,
   "metadata": {},
   "outputs": [],
   "source": [
    "lr_"
   ]
  },
  {
   "cell_type": "code",
   "execution_count": null,
   "metadata": {},
   "outputs": [],
   "source": []
  },
  {
   "cell_type": "code",
   "execution_count": null,
   "metadata": {},
   "outputs": [],
   "source": []
  },
  {
   "cell_type": "code",
   "execution_count": null,
   "metadata": {},
   "outputs": [],
   "source": []
  },
  {
   "cell_type": "code",
   "execution_count": null,
   "metadata": {},
   "outputs": [],
   "source": []
  },
  {
   "cell_type": "code",
   "execution_count": null,
   "metadata": {},
   "outputs": [],
   "source": [
    "import pickle"
   ]
  },
  {
   "cell_type": "code",
   "execution_count": null,
   "metadata": {},
   "outputs": [],
   "source": [
    "output_file = open(\"walk1.pickle\", \"wb\")\n",
    "pickle.dump(rfc, output_file)\n",
    "output_file.close()"
   ]
  },
  {
   "cell_type": "code",
   "execution_count": 29,
   "metadata": {},
   "outputs": [],
   "source": [
    "from joblib import dump, load"
   ]
  },
  {
   "cell_type": "code",
   "execution_count": null,
   "metadata": {},
   "outputs": [],
   "source": [
    "output_file = open(\"preprocessor.joblib\", \"wb\")\n",
    "dump(preprocessor, output_file)\n",
    "output_file.close()"
   ]
  },
  {
   "cell_type": "code",
   "execution_count": null,
   "metadata": {},
   "outputs": [],
   "source": []
  },
  {
   "cell_type": "code",
   "execution_count": null,
   "metadata": {},
   "outputs": [],
   "source": []
  },
  {
   "cell_type": "code",
   "execution_count": null,
   "metadata": {},
   "outputs": [],
   "source": []
  },
  {
   "cell_type": "code",
   "execution_count": null,
   "metadata": {},
   "outputs": [],
   "source": []
  },
  {
   "cell_type": "code",
   "execution_count": 27,
   "metadata": {},
   "outputs": [],
   "source": [
    "import pickle\n",
    "import pandas as pd\n",
    "import joblib"
   ]
  },
  {
   "cell_type": "code",
   "execution_count": null,
   "metadata": {},
   "outputs": [],
   "source": [
    "model_file = open('walk1.pickle', \"rb\")\n",
    "loaded_model = pickle.load(model_file)\n",
    "model_file.close()"
   ]
  },
  {
   "cell_type": "code",
   "execution_count": null,
   "metadata": {},
   "outputs": [],
   "source": [
    "preprocessor_file = open('preprocessor.joblib', 'rb')\n",
    "loaded_preprocessor = joblib.load(preprocessor_file)\n",
    "preprocessor_file.close()"
   ]
  },
  {
   "cell_type": "code",
   "execution_count": null,
   "metadata": {},
   "outputs": [],
   "source": [
    "# path, warnings = get_route(secret_loc_goog, start_lat_long, end_lat_long)\n",
    "\n",
    "pts = pd.read_csv('practice_route_pts.csv') # pts = get_points_near_path(path, )\n",
    "pts = pts.drop(columns=['geometry', 'on_path'])"
   ]
  },
  {
   "cell_type": "code",
   "execution_count": null,
   "metadata": {},
   "outputs": [],
   "source": [
    "df.columns"
   ]
  },
  {
   "cell_type": "code",
   "execution_count": null,
   "metadata": {},
   "outputs": [],
   "source": [
    "day_weather = pd.DataFrame(df.loc[0, 'date':'precip_accum100']).T"
   ]
  },
  {
   "cell_type": "code",
   "execution_count": null,
   "metadata": {},
   "outputs": [],
   "source": [
    "day_weather.head()"
   ]
  },
  {
   "cell_type": "code",
   "execution_count": null,
   "metadata": {},
   "outputs": [],
   "source": [
    "day_weather = day_weather.drop(columns=['n_arrests'])\n",
    "day_weather.columns"
   ]
  },
  {
   "cell_type": "code",
   "execution_count": null,
   "metadata": {},
   "outputs": [],
   "source": [
    "for col in day_weather.columns:\n",
    "\n",
    "    pts[col] = day_weather[col].values[0]"
   ]
  },
  {
   "cell_type": "code",
   "execution_count": null,
   "metadata": {},
   "outputs": [],
   "source": [
    "pts.head()"
   ]
  },
  {
   "cell_type": "code",
   "execution_count": null,
   "metadata": {},
   "outputs": [],
   "source": [
    "pts.columns"
   ]
  },
  {
   "cell_type": "code",
   "execution_count": null,
   "metadata": {},
   "outputs": [],
   "source": [
    "inputs = loaded_preprocessor.transform(pts)"
   ]
  },
  {
   "cell_type": "code",
   "execution_count": null,
   "metadata": {},
   "outputs": [],
   "source": [
    "preds = loaded_model.predict_proba(inputs)"
   ]
  },
  {
   "cell_type": "code",
   "execution_count": null,
   "metadata": {},
   "outputs": [],
   "source": [
    "arr_proba = [x[1] for x in preds]"
   ]
  },
  {
   "cell_type": "code",
   "execution_count": null,
   "metadata": {},
   "outputs": [],
   "source": [
    "sum(arr_proba)/24"
   ]
  },
  {
   "cell_type": "code",
   "execution_count": null,
   "metadata": {},
   "outputs": [],
   "source": [
    "arr_proba"
   ]
  },
  {
   "cell_type": "code",
   "execution_count": null,
   "metadata": {},
   "outputs": [],
   "source": []
  },
  {
   "cell_type": "code",
   "execution_count": null,
   "metadata": {},
   "outputs": [],
   "source": []
  },
  {
   "cell_type": "code",
   "execution_count": null,
   "metadata": {},
   "outputs": [],
   "source": []
  },
  {
   "cell_type": "code",
   "execution_count": null,
   "metadata": {},
   "outputs": [],
   "source": [
    "for estimator in loaded_model.estimators_:\n",
    "    print (estimator.tree_.node_count)"
   ]
  },
  {
   "cell_type": "code",
   "execution_count": null,
   "metadata": {},
   "outputs": [],
   "source": [
    "loaded_model.feature_importances_"
   ]
  },
  {
   "cell_type": "code",
   "execution_count": null,
   "metadata": {},
   "outputs": [],
   "source": []
  },
  {
   "cell_type": "code",
   "execution_count": null,
   "metadata": {},
   "outputs": [],
   "source": []
  },
  {
   "cell_type": "markdown",
   "metadata": {},
   "source": [
    "# Minimum MVP"
   ]
  },
  {
   "cell_type": "code",
   "execution_count": null,
   "metadata": {},
   "outputs": [],
   "source": [
    "def predict_arrest_proba(start, end):\n",
    "    return y.mean()"
   ]
  },
  {
   "cell_type": "code",
   "execution_count": null,
   "metadata": {},
   "outputs": [],
   "source": [
    "round(predict_arrest_proba(\"\",\"\"), 3)"
   ]
  },
  {
   "cell_type": "code",
   "execution_count": null,
   "metadata": {},
   "outputs": [],
   "source": [
    "round(y_eval.mean(), 3)"
   ]
  },
  {
   "cell_type": "markdown",
   "metadata": {},
   "source": [
    "# 2nd MVP"
   ]
  },
  {
   "cell_type": "code",
   "execution_count": null,
   "metadata": {},
   "outputs": [],
   "source": [
    "import pandas as pd"
   ]
  },
  {
   "cell_type": "code",
   "execution_count": null,
   "metadata": {},
   "outputs": [],
   "source": [
    "lat_long_arrests_df = pd.read_sql_query(\"\"\"\n",
    "                    SELECT latitude, \n",
    "                            longitude, \n",
    "                            COUNT(n_arrests) as arrest_days \n",
    "                    FROM manhattan_loc_d_ar_wea \n",
    "                    GROUP BY latitude, longitude;\"\"\"\n",
    "                                    , 'postgresql:///walk')\n",
    "\n",
    "final_date = pd.read_sql_query(\"\"\"SELECT date\n",
    "                                    FROM manhattan_loc_d_ar_wea\n",
    "                                    ORDER BY date DESC\n",
    "                                    LIMIT 1\"\"\", 'postgresql:///walk')\n",
    "\n",
    "start_date = pd.read_sql_query(\"\"\"SELECT date\n",
    "                                    FROM manhattan_loc_d_ar_wea\n",
    "                                    ORDER BY date ASC\n",
    "                                    LIMIT 1\"\"\", 'postgresql:///walk')\n",
    "\n",
    "total_days = (final_date.iloc[0,0] - start_date.iloc[0,0]).days\n",
    "\n",
    "# set probability for each location based on the rate of days with arrests in the data set\n",
    "lat_long_arrest_df['probability'] = lat_long_arrest_df['arrest_days'] / total_days\n",
    "\n",
    "# create latlong column as unique identifier to join on\n",
    "pts_df['latlong'] = (round(pts_df['latitude'], 3).astype(str) \n",
    "                     + round(pts_df['longitude'], 3).astype(str))\n",
    "lat_long_arrest_df['latlong'] = (round(lat_long_arrest_df['latitude'], 3).astype(str) \n",
    "                              + round(lat_long_arrest_df['longitude'], 3).astype(str))\n",
    "\n",
    "# clean lat_long_est_df\n",
    "lat_long_arrest_df = lat_long_arrest_df.drop(columns=['latitude', 'longitude'])\n",
    "\n",
    "# left join data tables on 'latlong', adding the probability of arrest occuring to each latlong in pts_df\n",
    "pts_proba_df = pts_df.set_index('latlong').join(lat_long_arrest_df.set_index('latlong'))\n"
   ]
  },
  {
   "cell_type": "markdown",
   "metadata": {},
   "source": [
    "# 3rd MVP"
   ]
  },
  {
   "cell_type": "code",
   "execution_count": 3,
   "metadata": {},
   "outputs": [],
   "source": []
  },
  {
   "cell_type": "code",
   "execution_count": 4,
   "metadata": {},
   "outputs": [],
   "source": [
    "df = pd.read_sql_query(\"\"\"\n",
    "                                        SELECT latitude, \n",
    "                                                longitude, \n",
    "                                                ap_t_high100, \n",
    "                                                n_arrests\n",
    "                                        FROM manhattan_loc_d_ar_wea \n",
    "                                        ;\"\"\"\n",
    "                                    , 'postgresql:///walk')"
   ]
  },
  {
   "cell_type": "code",
   "execution_count": 5,
   "metadata": {},
   "outputs": [],
   "source": [
    "df = df.fillna(0)"
   ]
  },
  {
   "cell_type": "code",
   "execution_count": 6,
   "metadata": {},
   "outputs": [],
   "source": [
    "df['latlong'] = df['latitude'].astype(str) + df['longitude'].astype(str)"
   ]
  },
  {
   "cell_type": "code",
   "execution_count": 10,
   "metadata": {},
   "outputs": [],
   "source": [
    "last_ten = df.shape[0]*.9\n",
    "eval_df = df.reset_index(drop=True).loc[last_ten:]\n",
    "test_train_df = df.reset_index(drop=True).loc[:last_ten]\n",
    "X_eval = eval_df.drop(columns=['n_arrests'])\n",
    "y_eval = categorize_arrests(eval_df['n_arrests'])"
   ]
  },
  {
   "cell_type": "code",
   "execution_count": 11,
   "metadata": {},
   "outputs": [],
   "source": [
    "X = test_train_df.drop(columns=['n_arrests'])\n",
    "y = categorize_arrests(test_train_df['n_arrests'])\n",
    "\n",
    "X_train, X_test, y_train, y_test = train_test_split(X, y, test_size=0.2, random_state=30)"
   ]
  },
  {
   "cell_type": "code",
   "execution_count": null,
   "metadata": {},
   "outputs": [],
   "source": []
  },
  {
   "cell_type": "code",
   "execution_count": 13,
   "metadata": {},
   "outputs": [],
   "source": [
    "column_transformer = ColumnTransformer( \n",
    "    transformers=[\n",
    "    ('ohe', OneHotEncoder(categories='auto'), ['latlong']),\n",
    "    ('ss', StandardScaler(), ['latitude', 'longitude', 'ap_t_high100'])],\n",
    "    remainder='drop')"
   ]
  },
  {
   "cell_type": "code",
   "execution_count": 14,
   "metadata": {},
   "outputs": [
    {
     "data": {
      "text/plain": [
       "<5x6315 sparse matrix of type '<class 'numpy.float64'>'\n",
       "\twith 20 stored elements in Compressed Sparse Row format>"
      ]
     },
     "execution_count": 14,
     "metadata": {},
     "output_type": "execute_result"
    }
   ],
   "source": [
    "transformed = column_transformer.fit_transform(X_train)\n",
    "transformed[0:5]"
   ]
  },
  {
   "cell_type": "code",
   "execution_count": 16,
   "metadata": {},
   "outputs": [],
   "source": [
    "rfc = RandomForestClassifier(n_estimators=10, random_state=5, max_depth=10,\n",
    "                            class_weight='balanced')"
   ]
  },
  {
   "cell_type": "code",
   "execution_count": 17,
   "metadata": {},
   "outputs": [],
   "source": [
    "pipe = Pipeline([\n",
    "    ('preprocessor', column_transformer),\n",
    "    ('model', rfc)\n",
    "])"
   ]
  },
  {
   "cell_type": "code",
   "execution_count": 18,
   "metadata": {},
   "outputs": [
    {
     "name": "stdout",
     "output_type": "stream",
     "text": [
      "Current Time = 18:16:35\n",
      "Current Time = 18:16:57\n"
     ]
    }
   ],
   "source": [
    "stamp_time()\n",
    "pipe.fit(X_train, y_train)\n",
    "stamp_time()"
   ]
  },
  {
   "cell_type": "code",
   "execution_count": 19,
   "metadata": {},
   "outputs": [
    {
     "name": "stdout",
     "output_type": "stream",
     "text": [
      "log loss: 0.6755737136737081\n",
      "\n",
      "confusion matrix:\n",
      "[[2417622   15312]\n",
      " [  34414    9481]]\n",
      "accuracy: 0.9799235231822625\n",
      "F1 score: 0.2760598648963429\n"
     ]
    }
   ],
   "source": [
    "train_preds = pipe.predict(X_train)\n",
    "train_proba = pipe.predict_proba(X_train)\n",
    "print_scores(y_train, train_preds, train_proba)"
   ]
  },
  {
   "cell_type": "code",
   "execution_count": 20,
   "metadata": {},
   "outputs": [
    {
     "name": "stdout",
     "output_type": "stream",
     "text": [
      "log loss: 0.6756658178293719\n",
      "\n",
      "confusion matrix:\n",
      "[[604261   3925]\n",
      " [  8722   2300]]\n",
      "accuracy: 0.9795755222800739\n",
      "F1 score: 0.26671305154519626\n"
     ]
    }
   ],
   "source": [
    "test_preds = pipe.predict(X_test)\n",
    "test_proba = pipe.predict_proba(X_test)\n",
    "print_scores(y_test, test_preds, test_proba)"
   ]
  },
  {
   "cell_type": "code",
   "execution_count": 24,
   "metadata": {},
   "outputs": [
    {
     "data": {
      "image/png": "[encoded data removed]",
      "text/plain": [
       "<Figure size 432x288 with 1 Axes>"
      ]
     },
     "metadata": {},
     "output_type": "display_data"
    }
   ],
   "source": [
    "fig, ax = plt.subplots()\n",
    "ax.hist(test_proba[:,1], bins=20)\n",
    "ax.tick_params(axis='x', colors='white')"
   ]
  },
  {
   "cell_type": "code",
   "execution_count": 25,
   "metadata": {},
   "outputs": [
    {
     "data": {
      "text/plain": [
       "<BarContainer object of 6315 artists>"
      ]
     },
     "execution_count": 25,
     "metadata": {},
     "output_type": "execute_result"
    },
    {
     "data": {
      "image/png": "[encoded data removed]",
      "text/plain": [
       "<Figure size 432x288 with 1 Axes>"
      ]
     },
     "metadata": {
      "needs_background": "light"
     },
     "output_type": "display_data"
    }
   ],
   "source": [
    "plt.barh(range(rfc.n_features_), rfc.feature_importances_)"
   ]
  },
  {
   "cell_type": "code",
   "execution_count": 26,
   "metadata": {},
   "outputs": [
    {
     "name": "stdout",
     "output_type": "stream",
     "text": [
      "231\n",
      "231\n",
      "237\n",
      "313\n",
      "329\n",
      "309\n",
      "285\n",
      "243\n",
      "247\n",
      "309\n"
     ]
    }
   ],
   "source": [
    "for estimator in rfc.estimators_:\n",
    "    print (estimator.tree_.node_count)"
   ]
  },
  {
   "cell_type": "code",
   "execution_count": 30,
   "metadata": {},
   "outputs": [
    {
     "ename": "NameError",
     "evalue": "name 'preprocessor' is not defined",
     "output_type": "error",
     "traceback": [
      "\u001b[0;31m---------------------------------------------------------------------------\u001b[0m",
      "\u001b[0;31mNameError\u001b[0m                                 Traceback (most recent call last)",
      "\u001b[0;32m<ipython-input-30-ad1f998ad706>\u001b[0m in \u001b[0;36m<module>\u001b[0;34m\u001b[0m\n\u001b[1;32m      1\u001b[0m \u001b[0moutput_file\u001b[0m \u001b[0;34m=\u001b[0m \u001b[0mopen\u001b[0m\u001b[0;34m(\u001b[0m\u001b[0;34m\"preprocessor.joblib\"\u001b[0m\u001b[0;34m,\u001b[0m \u001b[0;34m\"wb\"\u001b[0m\u001b[0;34m)\u001b[0m\u001b[0;34m\u001b[0m\u001b[0;34m\u001b[0m\u001b[0m\n\u001b[0;32m----> 2\u001b[0;31m \u001b[0mdump\u001b[0m\u001b[0;34m(\u001b[0m\u001b[0mpreprocessor\u001b[0m\u001b[0;34m,\u001b[0m \u001b[0moutput_file\u001b[0m\u001b[0;34m)\u001b[0m\u001b[0;34m\u001b[0m\u001b[0;34m\u001b[0m\u001b[0m\n\u001b[0m\u001b[1;32m      3\u001b[0m \u001b[0moutput_file\u001b[0m\u001b[0;34m.\u001b[0m\u001b[0mclose\u001b[0m\u001b[0;34m(\u001b[0m\u001b[0;34m)\u001b[0m\u001b[0;34m\u001b[0m\u001b[0;34m\u001b[0m\u001b[0m\n",
      "\u001b[0;31mNameError\u001b[0m: name 'preprocessor' is not defined"
     ]
    }
   ],
   "source": []
  },
  {
   "cell_type": "code",
   "execution_count": 1,
   "metadata": {},
   "outputs": [],
   "source": [
    "from datetime import datetime\n",
    "from sklearn.metrics import (log_loss, confusion_matrix, accuracy_score, \n",
    "                            f1_score)\n",
    "from sklearn.ensemble import RandomForestClassifier\n",
    "from sklearn.compose import ColumnTransformer\n",
    "from sklearn.pipeline import Pipeline\n",
    "from sklearn.impute import SimpleImputer\n",
    "from sklearn.preprocessing import StandardScaler, OneHotEncoder\n",
    "from sklearn.model_selection import train_test_split, cross_val_score\n",
    "from sqlalchemy import create_engine\n",
    "import pandas as pd"
   ]
  },
  {
   "cell_type": "code",
   "execution_count": 2,
   "metadata": {},
   "outputs": [],
   "source": [
    "def categorize_arrests(dataframe):\n",
    "    cat_df = pd.DataFrame(dataframe, columns=['n_arrests'])\n",
    "    cat_df.loc[cat_df['n_arrests'] > 0] = 1\n",
    "    cat_df = cat_df.fillna(value=0)\n",
    "    return cat_df"
   ]
  },
  {
   "cell_type": "code",
   "execution_count": 4,
   "metadata": {},
   "outputs": [
    {
     "ename": "KeyError",
     "evalue": "'latitude'",
     "output_type": "error",
     "traceback": [
      "\u001b[0;31m---------------------------------------------------------------------------\u001b[0m",
      "\u001b[0;31mKeyError\u001b[0m                                  Traceback (most recent call last)",
      "\u001b[0;32m//anaconda3/envs/walk-env/lib/python3.7/site-packages/pandas/core/indexes/base.py\u001b[0m in \u001b[0;36mget_loc\u001b[0;34m(self, key, method, tolerance)\u001b[0m\n\u001b[1;32m   2896\u001b[0m             \u001b[0;32mtry\u001b[0m\u001b[0;34m:\u001b[0m\u001b[0;34m\u001b[0m\u001b[0;34m\u001b[0m\u001b[0m\n\u001b[0;32m-> 2897\u001b[0;31m                 \u001b[0;32mreturn\u001b[0m \u001b[0mself\u001b[0m\u001b[0;34m.\u001b[0m\u001b[0m_engine\u001b[0m\u001b[0;34m.\u001b[0m\u001b[0mget_loc\u001b[0m\u001b[0;34m(\u001b[0m\u001b[0mkey\u001b[0m\u001b[0;34m)\u001b[0m\u001b[0;34m\u001b[0m\u001b[0;34m\u001b[0m\u001b[0m\n\u001b[0m\u001b[1;32m   2898\u001b[0m             \u001b[0;32mexcept\u001b[0m \u001b[0mKeyError\u001b[0m\u001b[0;34m:\u001b[0m\u001b[0;34m\u001b[0m\u001b[0;34m\u001b[0m\u001b[0m\n",
      "\u001b[0;32mpandas/_libs/index.pyx\u001b[0m in \u001b[0;36mpandas._libs.index.IndexEngine.get_loc\u001b[0;34m()\u001b[0m\n",
      "\u001b[0;32mpandas/_libs/index.pyx\u001b[0m in \u001b[0;36mpandas._libs.index.IndexEngine.get_loc\u001b[0;34m()\u001b[0m\n",
      "\u001b[0;32mpandas/_libs/hashtable_class_helper.pxi\u001b[0m in \u001b[0;36mpandas._libs.hashtable.PyObjectHashTable.get_item\u001b[0;34m()\u001b[0m\n",
      "\u001b[0;32mpandas/_libs/hashtable_class_helper.pxi\u001b[0m in \u001b[0;36mpandas._libs.hashtable.PyObjectHashTable.get_item\u001b[0;34m()\u001b[0m\n",
      "\u001b[0;31mKeyError\u001b[0m: 'latitude'",
      "\nDuring handling of the above exception, another exception occurred:\n",
      "\u001b[0;31mKeyError\u001b[0m                                  Traceback (most recent call last)",
      "\u001b[0;32m<ipython-input-4-77da187a5d47>\u001b[0m in \u001b[0;36m<module>\u001b[0;34m\u001b[0m\n\u001b[1;32m     10\u001b[0m \u001b[0;34m\u001b[0m\u001b[0m\n\u001b[1;32m     11\u001b[0m \u001b[0;31m# add combined lat/long location feature\u001b[0m\u001b[0;34m\u001b[0m\u001b[0;34m\u001b[0m\u001b[0;34m\u001b[0m\u001b[0m\n\u001b[0;32m---> 12\u001b[0;31m categorized_df['latlong'] = (categorized_df['latitude'].astype(str) \n\u001b[0m\u001b[1;32m     13\u001b[0m                             + categorized_df['longitude'].astype(str))\n\u001b[1;32m     14\u001b[0m \u001b[0mX_train\u001b[0m\u001b[0;34m,\u001b[0m \u001b[0my_train\u001b[0m\u001b[0;34m,\u001b[0m \u001b[0mX_eval\u001b[0m\u001b[0;34m,\u001b[0m \u001b[0my_eval\u001b[0m \u001b[0;34m=\u001b[0m \u001b[0msplit_last\u001b[0m\u001b[0;34m(\u001b[0m\u001b[0mcategorized_df\u001b[0m\u001b[0;34m)\u001b[0m\u001b[0;34m\u001b[0m\u001b[0;34m\u001b[0m\u001b[0m\n",
      "\u001b[0;32m//anaconda3/envs/walk-env/lib/python3.7/site-packages/pandas/core/frame.py\u001b[0m in \u001b[0;36m__getitem__\u001b[0;34m(self, key)\u001b[0m\n\u001b[1;32m   2978\u001b[0m             \u001b[0;32mif\u001b[0m \u001b[0mself\u001b[0m\u001b[0;34m.\u001b[0m\u001b[0mcolumns\u001b[0m\u001b[0;34m.\u001b[0m\u001b[0mnlevels\u001b[0m \u001b[0;34m>\u001b[0m \u001b[0;36m1\u001b[0m\u001b[0;34m:\u001b[0m\u001b[0;34m\u001b[0m\u001b[0;34m\u001b[0m\u001b[0m\n\u001b[1;32m   2979\u001b[0m                 \u001b[0;32mreturn\u001b[0m \u001b[0mself\u001b[0m\u001b[0;34m.\u001b[0m\u001b[0m_getitem_multilevel\u001b[0m\u001b[0;34m(\u001b[0m\u001b[0mkey\u001b[0m\u001b[0;34m)\u001b[0m\u001b[0;34m\u001b[0m\u001b[0;34m\u001b[0m\u001b[0m\n\u001b[0;32m-> 2980\u001b[0;31m             \u001b[0mindexer\u001b[0m \u001b[0;34m=\u001b[0m \u001b[0mself\u001b[0m\u001b[0;34m.\u001b[0m\u001b[0mcolumns\u001b[0m\u001b[0;34m.\u001b[0m\u001b[0mget_loc\u001b[0m\u001b[0;34m(\u001b[0m\u001b[0mkey\u001b[0m\u001b[0;34m)\u001b[0m\u001b[0;34m\u001b[0m\u001b[0;34m\u001b[0m\u001b[0m\n\u001b[0m\u001b[1;32m   2981\u001b[0m             \u001b[0;32mif\u001b[0m \u001b[0mis_integer\u001b[0m\u001b[0;34m(\u001b[0m\u001b[0mindexer\u001b[0m\u001b[0;34m)\u001b[0m\u001b[0;34m:\u001b[0m\u001b[0;34m\u001b[0m\u001b[0;34m\u001b[0m\u001b[0m\n\u001b[1;32m   2982\u001b[0m                 \u001b[0mindexer\u001b[0m \u001b[0;34m=\u001b[0m \u001b[0;34m[\u001b[0m\u001b[0mindexer\u001b[0m\u001b[0;34m]\u001b[0m\u001b[0;34m\u001b[0m\u001b[0;34m\u001b[0m\u001b[0m\n",
      "\u001b[0;32m//anaconda3/envs/walk-env/lib/python3.7/site-packages/pandas/core/indexes/base.py\u001b[0m in \u001b[0;36mget_loc\u001b[0;34m(self, key, method, tolerance)\u001b[0m\n\u001b[1;32m   2897\u001b[0m                 \u001b[0;32mreturn\u001b[0m \u001b[0mself\u001b[0m\u001b[0;34m.\u001b[0m\u001b[0m_engine\u001b[0m\u001b[0;34m.\u001b[0m\u001b[0mget_loc\u001b[0m\u001b[0;34m(\u001b[0m\u001b[0mkey\u001b[0m\u001b[0;34m)\u001b[0m\u001b[0;34m\u001b[0m\u001b[0;34m\u001b[0m\u001b[0m\n\u001b[1;32m   2898\u001b[0m             \u001b[0;32mexcept\u001b[0m \u001b[0mKeyError\u001b[0m\u001b[0;34m:\u001b[0m\u001b[0;34m\u001b[0m\u001b[0;34m\u001b[0m\u001b[0m\n\u001b[0;32m-> 2899\u001b[0;31m                 \u001b[0;32mreturn\u001b[0m \u001b[0mself\u001b[0m\u001b[0;34m.\u001b[0m\u001b[0m_engine\u001b[0m\u001b[0;34m.\u001b[0m\u001b[0mget_loc\u001b[0m\u001b[0;34m(\u001b[0m\u001b[0mself\u001b[0m\u001b[0;34m.\u001b[0m\u001b[0m_maybe_cast_indexer\u001b[0m\u001b[0;34m(\u001b[0m\u001b[0mkey\u001b[0m\u001b[0;34m)\u001b[0m\u001b[0;34m)\u001b[0m\u001b[0;34m\u001b[0m\u001b[0;34m\u001b[0m\u001b[0m\n\u001b[0m\u001b[1;32m   2900\u001b[0m         \u001b[0mindexer\u001b[0m \u001b[0;34m=\u001b[0m \u001b[0mself\u001b[0m\u001b[0;34m.\u001b[0m\u001b[0mget_indexer\u001b[0m\u001b[0;34m(\u001b[0m\u001b[0;34m[\u001b[0m\u001b[0mkey\u001b[0m\u001b[0;34m]\u001b[0m\u001b[0;34m,\u001b[0m \u001b[0mmethod\u001b[0m\u001b[0;34m=\u001b[0m\u001b[0mmethod\u001b[0m\u001b[0;34m,\u001b[0m \u001b[0mtolerance\u001b[0m\u001b[0;34m=\u001b[0m\u001b[0mtolerance\u001b[0m\u001b[0;34m)\u001b[0m\u001b[0;34m\u001b[0m\u001b[0;34m\u001b[0m\u001b[0m\n\u001b[1;32m   2901\u001b[0m         \u001b[0;32mif\u001b[0m \u001b[0mindexer\u001b[0m\u001b[0;34m.\u001b[0m\u001b[0mndim\u001b[0m \u001b[0;34m>\u001b[0m \u001b[0;36m1\u001b[0m \u001b[0;32mor\u001b[0m \u001b[0mindexer\u001b[0m\u001b[0;34m.\u001b[0m\u001b[0msize\u001b[0m \u001b[0;34m>\u001b[0m \u001b[0;36m1\u001b[0m\u001b[0;34m:\u001b[0m\u001b[0;34m\u001b[0m\u001b[0;34m\u001b[0m\u001b[0m\n",
      "\u001b[0;32mpandas/_libs/index.pyx\u001b[0m in \u001b[0;36mpandas._libs.index.IndexEngine.get_loc\u001b[0;34m()\u001b[0m\n",
      "\u001b[0;32mpandas/_libs/index.pyx\u001b[0m in \u001b[0;36mpandas._libs.index.IndexEngine.get_loc\u001b[0;34m()\u001b[0m\n",
      "\u001b[0;32mpandas/_libs/hashtable_class_helper.pxi\u001b[0m in \u001b[0;36mpandas._libs.hashtable.PyObjectHashTable.get_item\u001b[0;34m()\u001b[0m\n",
      "\u001b[0;32mpandas/_libs/hashtable_class_helper.pxi\u001b[0m in \u001b[0;36mpandas._libs.hashtable.PyObjectHashTable.get_item\u001b[0;34m()\u001b[0m\n",
      "\u001b[0;31mKeyError\u001b[0m: 'latitude'"
     ]
    }
   ],
   "source": [
    "    df = pd.read_sql_query(\"\"\"\n",
    "                        SELECT latitude, \n",
    "                                longitude, \n",
    "                                ap_t_high100, \n",
    "                                n_arrests\n",
    "                        FROM manhattan_loc_d_ar_wea \n",
    "                        ;\"\"\"\n",
    "                        , 'postgresql:///walk')\n",
    "    categorized_df = categorize_arrests(df)\n",
    "\n",
    "    # add combined lat/long location feature\n",
    "    categorized_df['latlong'] = (categorized_df['latitude'].astype(str) \n",
    "                                + categorized_df['longitude'].astype(str))\n",
    "    X_train, y_train, X_eval, y_eval = split_last(categorized_df)"
   ]
  },
  {
   "cell_type": "code",
   "execution_count": 5,
   "metadata": {},
   "outputs": [
    {
     "data": {
      "text/html": [
       "<div>\n",
       "<style scoped>\n",
       "    .dataframe tbody tr th:only-of-type {\n",
       "        vertical-align: middle;\n",
       "    }\n",
       "\n",
       "    .dataframe tbody tr th {\n",
       "        vertical-align: top;\n",
       "    }\n",
       "\n",
       "    .dataframe thead th {\n",
       "        text-align: right;\n",
       "    }\n",
       "</style>\n",
       "<table border=\"1\" class=\"dataframe\">\n",
       "  <thead>\n",
       "    <tr style=\"text-align: right;\">\n",
       "      <th></th>\n",
       "      <th>latitude</th>\n",
       "      <th>longitude</th>\n",
       "      <th>ap_t_high100</th>\n",
       "      <th>n_arrests</th>\n",
       "    </tr>\n",
       "  </thead>\n",
       "  <tbody>\n",
       "    <tr>\n",
       "      <td>0</td>\n",
       "      <td>40.683</td>\n",
       "      <td>-74.023</td>\n",
       "      <td>1943</td>\n",
       "      <td>NaN</td>\n",
       "    </tr>\n",
       "    <tr>\n",
       "      <td>1</td>\n",
       "      <td>40.684</td>\n",
       "      <td>-74.012</td>\n",
       "      <td>1943</td>\n",
       "      <td>NaN</td>\n",
       "    </tr>\n",
       "    <tr>\n",
       "      <td>2</td>\n",
       "      <td>40.684</td>\n",
       "      <td>-74.024</td>\n",
       "      <td>1943</td>\n",
       "      <td>NaN</td>\n",
       "    </tr>\n",
       "    <tr>\n",
       "      <td>3</td>\n",
       "      <td>40.685</td>\n",
       "      <td>-74.022</td>\n",
       "      <td>1943</td>\n",
       "      <td>NaN</td>\n",
       "    </tr>\n",
       "    <tr>\n",
       "      <td>4</td>\n",
       "      <td>40.685</td>\n",
       "      <td>-74.023</td>\n",
       "      <td>1943</td>\n",
       "      <td>NaN</td>\n",
       "    </tr>\n",
       "  </tbody>\n",
       "</table>\n",
       "</div>"
      ],
      "text/plain": [
       "   latitude  longitude  ap_t_high100  n_arrests\n",
       "0    40.683    -74.023          1943        NaN\n",
       "1    40.684    -74.012          1943        NaN\n",
       "2    40.684    -74.024          1943        NaN\n",
       "3    40.685    -74.022          1943        NaN\n",
       "4    40.685    -74.023          1943        NaN"
      ]
     },
     "execution_count": 5,
     "metadata": {},
     "output_type": "execute_result"
    }
   ],
   "source": [
    "df.head()"
   ]
  },
  {
   "cell_type": "code",
   "execution_count": 6,
   "metadata": {},
   "outputs": [],
   "source": [
    "def split_last(dataframe, sort_col='date', cut=.9):\n",
    "    if sort_col != None:\n",
    "        dataframe = dataframe.sort_values(by=sort_col, axis='columns')\n",
    "    cutoff = dataframe.shape[0]*cut\n",
    "    first_df = dataframe.reset_index(drop=True).loc[:cutoff]\n",
    "    last_df = dataframe.reset_index(drop=True).loc[cutoff:]\n",
    "    X_train = first_df.drop(columns=['n_arrests'])\n",
    "    y_train = first_df['n_arrests']\n",
    "    X_eval = last_df.drop(columns=['n_arrests'])\n",
    "    y_eval = last_df['n_arrests']\n",
    "    return X_train, y_train, X_eval, y_eval"
   ]
  },
  {
   "cell_type": "code",
   "execution_count": 10,
   "metadata": {},
   "outputs": [],
   "source": [
    "df = pd.read_sql_query(\"\"\"\n",
    "                        SELECT latitude, \n",
    "                                longitude, \n",
    "                                ap_t_high100, \n",
    "                                n_arrests\n",
    "                        FROM manhattan_loc_d_ar_wea \n",
    "                        ;\"\"\"\n",
    "                        , 'postgresql:///walk')\n",
    "categorized_df = categorize_arrests(df)\n",
    "\n",
    "# add combined lat/long location feature\n",
    "categorized_df['latlong'] = (categorized_df['latitude'].astype(str) \n",
    "                            + categorized_df['longitude'].astype(str))\n",
    "X_train, y_train, X_eval, y_eval = split_last(categorized_df, sort_col=None)"
   ]
  },
  {
   "cell_type": "code",
   "execution_count": 11,
   "metadata": {},
   "outputs": [
    {
     "data": {
      "text/html": [
       "<div>\n",
       "<style scoped>\n",
       "    .dataframe tbody tr th:only-of-type {\n",
       "        vertical-align: middle;\n",
       "    }\n",
       "\n",
       "    .dataframe tbody tr th {\n",
       "        vertical-align: top;\n",
       "    }\n",
       "\n",
       "    .dataframe thead th {\n",
       "        text-align: right;\n",
       "    }\n",
       "</style>\n",
       "<table border=\"1\" class=\"dataframe\">\n",
       "  <thead>\n",
       "    <tr style=\"text-align: right;\">\n",
       "      <th></th>\n",
       "      <th>latitude</th>\n",
       "      <th>longitude</th>\n",
       "      <th>ap_t_high100</th>\n",
       "      <th>latlong</th>\n",
       "    </tr>\n",
       "  </thead>\n",
       "  <tbody>\n",
       "    <tr>\n",
       "      <td>0</td>\n",
       "      <td>40.683</td>\n",
       "      <td>-74.023</td>\n",
       "      <td>1943</td>\n",
       "      <td>40.683-74.023</td>\n",
       "    </tr>\n",
       "    <tr>\n",
       "      <td>1</td>\n",
       "      <td>40.684</td>\n",
       "      <td>-74.012</td>\n",
       "      <td>1943</td>\n",
       "      <td>40.684-74.012</td>\n",
       "    </tr>\n",
       "    <tr>\n",
       "      <td>2</td>\n",
       "      <td>40.684</td>\n",
       "      <td>-74.024</td>\n",
       "      <td>1943</td>\n",
       "      <td>40.684-74.024</td>\n",
       "    </tr>\n",
       "    <tr>\n",
       "      <td>3</td>\n",
       "      <td>40.685</td>\n",
       "      <td>-74.022</td>\n",
       "      <td>1943</td>\n",
       "      <td>40.685-74.022</td>\n",
       "    </tr>\n",
       "    <tr>\n",
       "      <td>4</td>\n",
       "      <td>40.685</td>\n",
       "      <td>-74.023</td>\n",
       "      <td>1943</td>\n",
       "      <td>40.685-74.023</td>\n",
       "    </tr>\n",
       "  </tbody>\n",
       "</table>\n",
       "</div>"
      ],
      "text/plain": [
       "   latitude  longitude  ap_t_high100        latlong\n",
       "0    40.683    -74.023          1943  40.683-74.023\n",
       "1    40.684    -74.012          1943  40.684-74.012\n",
       "2    40.684    -74.024          1943  40.684-74.024\n",
       "3    40.685    -74.022          1943  40.685-74.022\n",
       "4    40.685    -74.023          1943  40.685-74.023"
      ]
     },
     "execution_count": 11,
     "metadata": {},
     "output_type": "execute_result"
    }
   ],
   "source": [
    "X_train.head()"
   ]
  },
  {
   "cell_type": "code",
   "execution_count": 12,
   "metadata": {},
   "outputs": [
    {
     "data": {
      "text/html": [
       "<div>\n",
       "<style scoped>\n",
       "    .dataframe tbody tr th:only-of-type {\n",
       "        vertical-align: middle;\n",
       "    }\n",
       "\n",
       "    .dataframe tbody tr th {\n",
       "        vertical-align: top;\n",
       "    }\n",
       "\n",
       "    .dataframe thead th {\n",
       "        text-align: right;\n",
       "    }\n",
       "</style>\n",
       "<table border=\"1\" class=\"dataframe\">\n",
       "  <thead>\n",
       "    <tr style=\"text-align: right;\">\n",
       "      <th></th>\n",
       "      <th>latitude</th>\n",
       "      <th>longitude</th>\n",
       "      <th>ap_t_high100</th>\n",
       "      <th>latlong</th>\n",
       "    </tr>\n",
       "  </thead>\n",
       "  <tbody>\n",
       "    <tr>\n",
       "      <td>3096036</td>\n",
       "      <td>40.776</td>\n",
       "      <td>-73.962</td>\n",
       "      <td>6793</td>\n",
       "      <td>40.776-73.962</td>\n",
       "    </tr>\n",
       "    <tr>\n",
       "      <td>3096037</td>\n",
       "      <td>40.776</td>\n",
       "      <td>-73.963</td>\n",
       "      <td>6793</td>\n",
       "      <td>40.776-73.963</td>\n",
       "    </tr>\n",
       "    <tr>\n",
       "      <td>3096038</td>\n",
       "      <td>40.776</td>\n",
       "      <td>-73.964</td>\n",
       "      <td>6793</td>\n",
       "      <td>40.776-73.964</td>\n",
       "    </tr>\n",
       "    <tr>\n",
       "      <td>3096039</td>\n",
       "      <td>40.776</td>\n",
       "      <td>-73.965</td>\n",
       "      <td>6793</td>\n",
       "      <td>40.776-73.965</td>\n",
       "    </tr>\n",
       "    <tr>\n",
       "      <td>3096040</td>\n",
       "      <td>40.776</td>\n",
       "      <td>-73.966</td>\n",
       "      <td>6793</td>\n",
       "      <td>40.776-73.966</td>\n",
       "    </tr>\n",
       "  </tbody>\n",
       "</table>\n",
       "</div>"
      ],
      "text/plain": [
       "         latitude  longitude  ap_t_high100        latlong\n",
       "3096036    40.776    -73.962          6793  40.776-73.962\n",
       "3096037    40.776    -73.963          6793  40.776-73.963\n",
       "3096038    40.776    -73.964          6793  40.776-73.964\n",
       "3096039    40.776    -73.965          6793  40.776-73.965\n",
       "3096040    40.776    -73.966          6793  40.776-73.966"
      ]
     },
     "execution_count": 12,
     "metadata": {},
     "output_type": "execute_result"
    }
   ],
   "source": [
    "X_eval.head()"
   ]
  },
  {
   "cell_type": "code",
   "execution_count": null,
   "metadata": {},
   "outputs": [],
   "source": []
  },
  {
   "cell_type": "code",
   "execution_count": null,
   "metadata": {},
   "outputs": [],
   "source": []
  },
  {
   "cell_type": "code",
   "execution_count": null,
   "metadata": {},
   "outputs": [],
   "source": []
  },
  {
   "cell_type": "code",
   "execution_count": 3,
   "metadata": {},
   "outputs": [],
   "source": [
    "import pandas as pd"
   ]
  },
  {
   "cell_type": "code",
   "execution_count": 12,
   "metadata": {},
   "outputs": [],
   "source": [
    "from predict import get_arrest_probas\n",
    "%load_ext autoreload\n",
    "%autoreload 2"
   ]
  },
  {
   "cell_type": "code",
   "execution_count": 1,
   "metadata": {},
   "outputs": [],
   "source": [
    "from results import get_backend_results"
   ]
  },
  {
   "cell_type": "code",
   "execution_count": 4,
   "metadata": {},
   "outputs": [],
   "source": [
    "pts = pd.read_csv('archive/practice_route_pts.csv')"
   ]
  },
  {
   "cell_type": "code",
   "execution_count": 7,
   "metadata": {},
   "outputs": [],
   "source": [
    "day_weather_df = pd.DataFrame([3000], columns=['ap_t_high100'])"
   ]
  },
  {
   "cell_type": "code",
   "execution_count": 15,
   "metadata": {},
   "outputs": [
    {
     "name": "stdout",
     "output_type": "stream",
     "text": [
      "    latitude  longitude        latlong  ap_t_high100\n",
      "0     40.722    -73.993  40.722-73.993          3000\n",
      "1     40.722    -73.992  40.722-73.992          3000\n",
      "2     40.722    -73.991  40.722-73.991          3000\n",
      "3     40.722    -73.990   40.722-73.99          3000\n",
      "4     40.722    -73.989  40.722-73.989          3000\n",
      "5     40.723    -73.995  40.723-73.995          3000\n",
      "6     40.723    -73.994  40.723-73.994          3000\n",
      "7     40.723    -73.993  40.723-73.993          3000\n",
      "8     40.723    -73.992  40.723-73.992          3000\n",
      "9     40.723    -73.991  40.723-73.991          3000\n",
      "10    40.723    -73.990   40.723-73.99          3000\n",
      "11    40.723    -73.989  40.723-73.989          3000\n",
      "12    40.723    -73.988  40.723-73.988          3000\n",
      "13    40.724    -73.995  40.724-73.995          3000\n",
      "14    40.724    -73.994  40.724-73.994          3000\n",
      "15    40.724    -73.993  40.724-73.993          3000\n",
      "16    40.724    -73.992  40.724-73.992          3000\n",
      "17    40.724    -73.991  40.724-73.991          3000\n",
      "18    40.724    -73.990   40.724-73.99          3000\n",
      "19    40.724    -73.989  40.724-73.989          3000\n",
      "20    40.724    -73.988  40.724-73.988          3000\n",
      "21    40.725    -73.995  40.725-73.995          3000\n",
      "22    40.725    -73.994  40.725-73.994          3000\n",
      "23    40.725    -73.993  40.725-73.993          3000\n",
      "24    40.725    -73.992  40.725-73.992          3000\n",
      "25    40.725    -73.991  40.725-73.991          3000\n",
      "26    40.725    -73.990   40.725-73.99          3000\n",
      "27    40.725    -73.989  40.725-73.989          3000\n",
      "28    40.726    -73.994  40.726-73.994          3000\n",
      "29    40.726    -73.993  40.726-73.993          3000\n",
      "30    40.726    -73.992  40.726-73.992          3000\n",
      "31    40.726    -73.991  40.726-73.991          3000\n",
      "32    40.726    -73.990   40.726-73.99          3000\n",
      "33    40.727    -73.994  40.727-73.994          3000\n",
      "34    40.727    -73.993  40.727-73.993          3000\n",
      "35    40.727    -73.992  40.727-73.992          3000\n",
      "36    40.727    -73.991  40.727-73.991          3000\n",
      "37    40.727    -73.990   40.727-73.99          3000\n",
      "38    40.727    -73.989  40.727-73.989          3000\n",
      "39    40.728    -73.994  40.728-73.994          3000\n",
      "40    40.728    -73.993  40.728-73.993          3000\n",
      "41    40.728    -73.992  40.728-73.992          3000\n",
      "42    40.728    -73.991  40.728-73.991          3000\n",
      "43    40.728    -73.990   40.728-73.99          3000\n",
      "44    40.728    -73.989  40.728-73.989          3000\n",
      "45    40.729    -73.993  40.729-73.993          3000\n",
      "46    40.729    -73.992  40.729-73.992          3000\n",
      "47    40.729    -73.991  40.729-73.991          3000\n",
      "48    40.729    -73.990   40.729-73.99          3000\n",
      "49    40.729    -73.989  40.729-73.989          3000\n",
      "50    40.730    -73.993   40.73-73.993          3000\n",
      "51    40.730    -73.992   40.73-73.992          3000\n",
      "52    40.730    -73.991   40.73-73.991          3000\n",
      "53    40.730    -73.990    40.73-73.99          3000\n",
      "54    40.730    -73.989   40.73-73.989          3000\n",
      "55    40.731    -73.992  40.731-73.992          3000\n",
      "56    40.731    -73.991  40.731-73.991          3000\n",
      "57    40.731    -73.990   40.731-73.99          3000\n",
      "58    40.731    -73.989  40.731-73.989          3000\n"
     ]
    }
   ],
   "source": [
    "probas = get_arrest_probas(pts, day_weather_df)"
   ]
  },
  {
   "cell_type": "code",
   "execution_count": 16,
   "metadata": {},
   "outputs": [
    {
     "data": {
      "text/plain": [
       "array([[0.41351199, 0.58648801],\n",
       "       [0.41351199, 0.58648801],\n",
       "       [0.41351199, 0.58648801],\n",
       "       [0.41351199, 0.58648801],\n",
       "       [0.41351199, 0.58648801],\n",
       "       [0.48255915, 0.51744085],\n",
       "       [0.50548208, 0.49451792],\n",
       "       [0.41351199, 0.58648801],\n",
       "       [0.41351199, 0.58648801],\n",
       "       [0.43498811, 0.56501189],\n",
       "       [0.41351199, 0.58648801],\n",
       "       [0.41351199, 0.58648801],\n",
       "       [0.41351199, 0.58648801],\n",
       "       [0.48255915, 0.51744085],\n",
       "       [0.48157093, 0.51842907],\n",
       "       [0.4788015 , 0.5211985 ],\n",
       "       [0.4788015 , 0.5211985 ],\n",
       "       [0.4788015 , 0.5211985 ],\n",
       "       [0.4788015 , 0.5211985 ],\n",
       "       [0.4788015 , 0.5211985 ],\n",
       "       [0.49741508, 0.50258492],\n",
       "       [0.48437589, 0.51562411],\n",
       "       [0.44486317, 0.55513683],\n",
       "       [0.4788015 , 0.5211985 ],\n",
       "       [0.4788015 , 0.5211985 ],\n",
       "       [0.4788015 , 0.5211985 ],\n",
       "       [0.4788015 , 0.5211985 ],\n",
       "       [0.4788015 , 0.5211985 ],\n",
       "       [0.5019826 , 0.4980174 ],\n",
       "       [0.4788015 , 0.5211985 ],\n",
       "       [0.4788015 , 0.5211985 ],\n",
       "       [0.4788015 , 0.5211985 ],\n",
       "       [0.4788015 , 0.5211985 ],\n",
       "       [0.5019826 , 0.4980174 ],\n",
       "       [0.4788015 , 0.5211985 ],\n",
       "       [0.4788015 , 0.5211985 ],\n",
       "       [0.4788015 , 0.5211985 ],\n",
       "       [0.4788015 , 0.5211985 ],\n",
       "       [0.4788015 , 0.5211985 ],\n",
       "       [0.5019826 , 0.4980174 ],\n",
       "       [0.4788015 , 0.5211985 ],\n",
       "       [0.4788015 , 0.5211985 ],\n",
       "       [0.4788015 , 0.5211985 ],\n",
       "       [0.4788015 , 0.5211985 ],\n",
       "       [0.4788015 , 0.5211985 ],\n",
       "       [0.4788015 , 0.5211985 ],\n",
       "       [0.4788015 , 0.5211985 ],\n",
       "       [0.4788015 , 0.5211985 ],\n",
       "       [0.4788015 , 0.5211985 ],\n",
       "       [0.4788015 , 0.5211985 ],\n",
       "       [0.4788015 , 0.5211985 ],\n",
       "       [0.4788015 , 0.5211985 ],\n",
       "       [0.4788015 , 0.5211985 ],\n",
       "       [0.4788015 , 0.5211985 ],\n",
       "       [0.4788015 , 0.5211985 ],\n",
       "       [0.4788015 , 0.5211985 ],\n",
       "       [0.4788015 , 0.5211985 ],\n",
       "       [0.4788015 , 0.5211985 ],\n",
       "       [0.4788015 , 0.5211985 ]])"
      ]
     },
     "execution_count": 16,
     "metadata": {},
     "output_type": "execute_result"
    }
   ],
   "source": [
    "probas"
   ]
  },
  {
   "cell_type": "markdown",
   "metadata": {},
   "source": [
    "## Get colors for key"
   ]
  },
  {
   "cell_type": "code",
   "execution_count": 21,
   "metadata": {},
   "outputs": [],
   "source": [
    "from matplotlib import pyplot as plt\n",
    "import matplotlib as mpl"
   ]
  },
  {
   "cell_type": "code",
   "execution_count": 23,
   "metadata": {},
   "outputs": [
    {
     "name": "stdout",
     "output_type": "stream",
     "text": [
      "#fff5f0\n",
      "#fee5d8\n",
      "#fdcab5\n",
      "#fcab8f\n",
      "#fc8a6a\n",
      "#fb694a\n",
      "#f14432\n",
      "#d92523\n",
      "#bc141a\n",
      "#980c13\n",
      "#67000d\n"
     ]
    }
   ],
   "source": [
    "for index in range(0, 11):\n",
    "    index /= 10\n",
    "    color = plt.cm.Reds(index)\n",
    "    color = mpl.colors.to_hex(color)\n",
    "    print(color)"
   ]
  },
  {
   "cell_type": "code",
   "execution_count": null,
   "metadata": {},
   "outputs": [],
   "source": []
  }
 ],
 "metadata": {
  "kernelspec": {
   "display_name": "Python 3 (geo-env)",
   "language": "python",
   "name": "geo-env"
  },
  "language_info": {
   "codemirror_mode": {
    "name": "ipython",
    "version": 3
   },
   "file_extension": ".py",
   "mimetype": "text/x-python",
   "name": "python",
   "nbconvert_exporter": "python",
   "pygments_lexer": "ipython3",
   "version": "3.7.3"
  }
 },
 "nbformat": 4,
 "nbformat_minor": 2
}
