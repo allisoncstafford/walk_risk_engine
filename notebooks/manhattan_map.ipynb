{
 "cells": [
  {
   "cell_type": "markdown",
   "metadata": {},
   "source": [
    "# Create full manhattan maps"
   ]
  },
  {
   "cell_type": "code",
   "execution_count": 1,
   "metadata": {},
   "outputs": [],
   "source": [
    "import pandas as pd"
   ]
  },
  {
   "cell_type": "code",
   "execution_count": 3,
   "metadata": {},
   "outputs": [],
   "source": [
    "pts = pd.read_csv('geopandas/man_lat_longs.csv')"
   ]
  },
  {
   "cell_type": "code",
   "execution_count": 8,
   "metadata": {},
   "outputs": [
    {
     "data": {
      "text/plain": [
       "array([40.683, 40.684, 40.685, 40.686, 40.687, 40.688, 40.689, 40.69 ,\n",
       "       40.691, 40.692, 40.693, 40.695, 40.697, 40.698, 40.699, 40.7  ,\n",
       "       40.701, 40.702, 40.703, 40.704, 40.705, 40.706, 40.707, 40.708,\n",
       "       40.709, 40.71 , 40.711, 40.712, 40.713, 40.714, 40.715, 40.716,\n",
       "       40.717, 40.718, 40.719, 40.72 , 40.721, 40.722, 40.723, 40.724,\n",
       "       40.725, 40.726, 40.727, 40.728, 40.729, 40.73 , 40.731, 40.732,\n",
       "       40.733, 40.734, 40.735, 40.736, 40.737, 40.738, 40.739, 40.74 ,\n",
       "       40.741, 40.742, 40.743, 40.744, 40.745, 40.746, 40.747, 40.748,\n",
       "       40.749, 40.75 , 40.751, 40.752, 40.753, 40.754, 40.755, 40.756,\n",
       "       40.757, 40.758, 40.759, 40.76 , 40.761, 40.762, 40.763, 40.764,\n",
       "       40.765, 40.766, 40.767, 40.768, 40.769, 40.77 , 40.771, 40.772,\n",
       "       40.773, 40.774, 40.775, 40.776, 40.777, 40.778, 40.779, 40.78 ,\n",
       "       40.781, 40.782, 40.783, 40.784, 40.785, 40.786, 40.787, 40.788,\n",
       "       40.789, 40.79 , 40.791, 40.792, 40.793, 40.794, 40.795, 40.796,\n",
       "       40.797, 40.798, 40.799, 40.8  , 40.801, 40.802, 40.803, 40.804,\n",
       "       40.805, 40.806, 40.807, 40.808, 40.809, 40.81 , 40.811, 40.812,\n",
       "       40.813, 40.814, 40.815, 40.816, 40.817, 40.818, 40.819, 40.82 ,\n",
       "       40.821, 40.822, 40.823, 40.824, 40.825, 40.826, 40.827, 40.828,\n",
       "       40.829, 40.83 , 40.831, 40.832, 40.833, 40.834, 40.835, 40.836,\n",
       "       40.837, 40.838, 40.839, 40.84 , 40.841, 40.842, 40.843, 40.844,\n",
       "       40.845, 40.846, 40.847, 40.848, 40.849, 40.85 , 40.851, 40.852,\n",
       "       40.853, 40.854, 40.855, 40.856, 40.857, 40.858, 40.859, 40.86 ,\n",
       "       40.861, 40.862, 40.863, 40.864, 40.865, 40.866, 40.867, 40.868,\n",
       "       40.869, 40.87 , 40.871, 40.872, 40.873, 40.874, 40.875, 40.876,\n",
       "       40.877, 40.878, 40.879])"
      ]
     },
     "execution_count": 8,
     "metadata": {},
     "output_type": "execute_result"
    }
   ],
   "source": [
    "pts['latitude'].unique()  # note: missing some lats :("
   ]
  },
  {
   "cell_type": "code",
   "execution_count": 9,
   "metadata": {},
   "outputs": [
    {
     "data": {
      "text/html": [
       "<div>\n",
       "<style scoped>\n",
       "    .dataframe tbody tr th:only-of-type {\n",
       "        vertical-align: middle;\n",
       "    }\n",
       "\n",
       "    .dataframe tbody tr th {\n",
       "        vertical-align: top;\n",
       "    }\n",
       "\n",
       "    .dataframe thead th {\n",
       "        text-align: right;\n",
       "    }\n",
       "</style>\n",
       "<table border=\"1\" class=\"dataframe\">\n",
       "  <thead>\n",
       "    <tr style=\"text-align: right;\">\n",
       "      <th></th>\n",
       "      <th>Unnamed: 0</th>\n",
       "      <th>latitude</th>\n",
       "      <th>longitude</th>\n",
       "      <th>geometry</th>\n",
       "      <th>in_man</th>\n",
       "    </tr>\n",
       "  </thead>\n",
       "  <tbody>\n",
       "    <tr>\n",
       "      <th>0</th>\n",
       "      <td>170</td>\n",
       "      <td>40.683</td>\n",
       "      <td>-74.023</td>\n",
       "      <td>POINT (-74.02300000000001 40.683)</td>\n",
       "      <td>True</td>\n",
       "    </tr>\n",
       "    <tr>\n",
       "      <th>1</th>\n",
       "      <td>313</td>\n",
       "      <td>40.684</td>\n",
       "      <td>-74.024</td>\n",
       "      <td>POINT (-74.024 40.684)</td>\n",
       "      <td>True</td>\n",
       "    </tr>\n",
       "    <tr>\n",
       "      <th>2</th>\n",
       "      <td>325</td>\n",
       "      <td>40.684</td>\n",
       "      <td>-74.012</td>\n",
       "      <td>POINT (-74.012 40.684)</td>\n",
       "      <td>True</td>\n",
       "    </tr>\n",
       "    <tr>\n",
       "      <th>3</th>\n",
       "      <td>455</td>\n",
       "      <td>40.685</td>\n",
       "      <td>-74.026</td>\n",
       "      <td>POINT (-74.02600000000001 40.685)</td>\n",
       "      <td>True</td>\n",
       "    </tr>\n",
       "    <tr>\n",
       "      <th>4</th>\n",
       "      <td>456</td>\n",
       "      <td>40.685</td>\n",
       "      <td>-74.025</td>\n",
       "      <td>POINT (-74.02500000000001 40.685)</td>\n",
       "      <td>True</td>\n",
       "    </tr>\n",
       "  </tbody>\n",
       "</table>\n",
       "</div>"
      ],
      "text/plain": [
       "   Unnamed: 0  latitude  longitude                           geometry  in_man\n",
       "0         170    40.683    -74.023  POINT (-74.02300000000001 40.683)    True\n",
       "1         313    40.684    -74.024             POINT (-74.024 40.684)    True\n",
       "2         325    40.684    -74.012             POINT (-74.012 40.684)    True\n",
       "3         455    40.685    -74.026  POINT (-74.02600000000001 40.685)    True\n",
       "4         456    40.685    -74.025  POINT (-74.02500000000001 40.685)    True"
      ]
     },
     "execution_count": 9,
     "metadata": {},
     "output_type": "execute_result"
    }
   ],
   "source": [
    "pts.head()"
   ]
  },
  {
   "cell_type": "code",
   "execution_count": null,
   "metadata": {},
   "outputs": [],
   "source": [
    "pts['ap_t_high100'] = 5"
   ]
  }
 ],
 "metadata": {
  "kernelspec": {
   "display_name": "Python 3 (geo-env)",
   "language": "python",
   "name": "geo-env"
  },
  "language_info": {
   "codemirror_mode": {
    "name": "ipython",
    "version": 3
   },
   "file_extension": ".py",
   "mimetype": "text/x-python",
   "name": "python",
   "nbconvert_exporter": "python",
   "pygments_lexer": "ipython3",
   "version": "3.7.3"
  }
 },
 "nbformat": 4,
 "nbformat_minor": 2
}
