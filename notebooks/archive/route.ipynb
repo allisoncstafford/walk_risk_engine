{
 "cells": [
  {
   "cell_type": "markdown",
   "metadata": {},
   "source": [
    "# This notebook calls to the google directions api"
   ]
  },
  {
   "cell_type": "code",
   "execution_count": 2,
   "metadata": {},
   "outputs": [
    {
     "ename": "ModuleNotFoundError",
     "evalue": "No module named 'weather'",
     "output_type": "error",
     "traceback": [
      "\u001b[0;31m---------------------------------------------------------------------------\u001b[0m",
      "\u001b[0;31mModuleNotFoundError\u001b[0m                       Traceback (most recent call last)",
      "\u001b[0;32m<ipython-input-2-88d394725b12>\u001b[0m in \u001b[0;36m<module>\u001b[0;34m\u001b[0m\n\u001b[1;32m      8\u001b[0m \u001b[0;32mfrom\u001b[0m \u001b[0mshapely\u001b[0m\u001b[0;34m.\u001b[0m\u001b[0mgeometry\u001b[0m \u001b[0;32mimport\u001b[0m \u001b[0mLineString\u001b[0m\u001b[0;34m,\u001b[0m \u001b[0mPoint\u001b[0m\u001b[0;34m\u001b[0m\u001b[0;34m\u001b[0m\u001b[0m\n\u001b[1;32m      9\u001b[0m \u001b[0;32mimport\u001b[0m \u001b[0mpandas\u001b[0m \u001b[0;32mas\u001b[0m \u001b[0mpd\u001b[0m\u001b[0;34m\u001b[0m\u001b[0;34m\u001b[0m\u001b[0m\n\u001b[0;32m---> 10\u001b[0;31m \u001b[0;32mfrom\u001b[0m \u001b[0mweather\u001b[0m \u001b[0;32mimport\u001b[0m \u001b[0mget_weather\u001b[0m\u001b[0;34m\u001b[0m\u001b[0;34m\u001b[0m\u001b[0m\n\u001b[0m\u001b[1;32m     11\u001b[0m \u001b[0;32mfrom\u001b[0m \u001b[0mdatetime\u001b[0m \u001b[0;32mimport\u001b[0m \u001b[0mdatetime\u001b[0m\u001b[0;34m\u001b[0m\u001b[0;34m\u001b[0m\u001b[0m\n",
      "\u001b[0;31mModuleNotFoundError\u001b[0m: No module named 'weather'"
     ]
    }
   ],
   "source": [
    "# load necessary modules\n",
    "import requests\n",
    "import json\n",
    "import polyline\n",
    "import geopandas as gpd\n",
    "from matplotlib import pyplot as plt\n",
    "%matplotlib inline\n",
    "from shapely.geometry import LineString, Point\n",
    "import pandas as pd\n",
    "from weather import get_weather\n",
    "from datetime import datetime"
   ]
  },
  {
   "cell_type": "code",
   "execution_count": 95,
   "metadata": {},
   "outputs": [],
   "source": []
  },
  {
   "cell_type": "code",
   "execution_count": 96,
   "metadata": {},
   "outputs": [],
   "source": [
    "def query_api(secret_loc, start_loc, end_loc):\n",
    "    base_url = 'https://maps.googleapis.com/maps/api/directions/json?mode=walking'\n",
    "    with open(secret_loc, \"r\") as f:\n",
    "        key = json.load(f)['key']\n",
    "    url = f\"{base_url}&origin={start_loc}&destination={end_loc}&key={key}\"\n",
    "    response = requests.get(url)\n",
    "    print(response.status_code, response.reason)\n",
    "    print(response.text)\n",
    "    return response\n",
    "    "
   ]
  },
  {
   "cell_type": "code",
   "execution_count": 98,
   "metadata": {},
   "outputs": [],
   "source": [
    "def extract_route_and_warnings(response_json):\n",
    "    \"\"\"extracts route and warnings from google directions API response\n",
    "    \n",
    "    args:\n",
    "        response_json: the json of the google directions API response\n",
    "    \n",
    "    returns:\n",
    "        rte: route as a geopandas dataframe with columns: longitude, latitude, geometry \n",
    "        warn: warnings for display\n",
    "    \"\"\"\n",
    "    goog_polyline = response_json['overview_polyline']\n",
    "    warn = response_json['warnings']\n",
    "    rte = pd.DataFrame(polyline.decode(goog_polyline, geojson=True), columns=['longitude', 'latitude'])\n",
    "    rte = gpd.GeoDataFrame(rte, geometry=gpd.points_from_xy(rte['longitude'], rte['latitude']))\n",
    "    rte = LineString([[p.x, p.y] for p in rte['geometry']])\n",
    "    return rte, warn"
   ]
  },
  {
   "cell_type": "code",
   "execution_count": null,
   "metadata": {},
   "outputs": [],
   "source": [
    "def get_route(secret_loc, start_loc, end_loc):\n",
    "    \"\"\"Calls to Google Service API to return the recommended route.\n",
    "    \n",
    "    Args:\n",
    "        secret_loc: location of file with api key\n",
    "        start_loc: starting location of the desired walk \n",
    "            (lat,long stringw/out spaces)\n",
    "        end_loc: ending location of the desired walk \n",
    "            (lat,long string w/out spaces)\n",
    "        \n",
    "    Returns:\n",
    "        route: shapely line of the recommended path\n",
    "        warn: route-related warnings for display\n",
    "    \"\"\"\n",
    "    response = query_api(secret_loc, start_loc, end_loc)\n",
    "    resp_json = json.loads(response.text)\n",
    "    route, warnings = extract_route_and_warnings(resp_json)\n",
    "    return route, warning\n",
    "    \n",
    "    \n",
    "    "
   ]
  },
  {
   "cell_type": "code",
   "execution_count": null,
   "metadata": {},
   "outputs": [],
   "source": [
    "\n",
    "    "
   ]
  },
  {
   "cell_type": "code",
   "execution_count": null,
   "metadata": {},
   "outputs": [],
   "source": [
    "secret_location_goog = 'Users/allisonhonold/.secrets/google_maps_api.json'\n",
    "secret_loc_weather = \"/Users/allisonhonold/.secrets/dark_sky_api.json\"\n",
    "with open(secret_loc, \"r\") as f:\n",
    "    weather_key = json.load(f)[\"key\"]\n",
    "start_loc = '40.723011,-73.990142'\n",
    "end_loc = '40.729625,-73.991106'\n",
    "route, warning = get_route(secret_location, start_loc, end_loc)\n",
    "today = #get today's date from comp\n",
    "(start_lat, start_long) = start_loc.split() #split on comma\n",
    "weather = get_weather(start_loc, today)\n"
   ]
  },
  {
   "cell_type": "code",
   "execution_count": 58,
   "metadata": {},
   "outputs": [],
   "source": []
  },
  {
   "cell_type": "code",
   "execution_count": null,
   "metadata": {},
   "outputs": [],
   "source": []
  },
  {
   "cell_type": "code",
   "execution_count": null,
   "metadata": {},
   "outputs": [],
   "source": []
  },
  {
   "cell_type": "code",
   "execution_count": null,
   "metadata": {},
   "outputs": [],
   "source": []
  },
  {
   "cell_type": "code",
   "execution_count": null,
   "metadata": {},
   "outputs": [],
   "source": []
  },
  {
   "cell_type": "code",
   "execution_count": 59,
   "metadata": {},
   "outputs": [],
   "source": [
    "path = [(-73.968, 40.7647),\n",
    " (-73.9713, 40.76622),\n",
    " (-73.9711, 40.7665)]"
   ]
  },
  {
   "cell_type": "code",
   "execution_count": 60,
   "metadata": {},
   "outputs": [],
   "source": [
    "practice = gpd.GeoDataFrame(path)"
   ]
  },
  {
   "cell_type": "code",
   "execution_count": 61,
   "metadata": {},
   "outputs": [
    {
     "data": {
      "text/html": [
       "<div>\n",
       "<style scoped>\n",
       "    .dataframe tbody tr th:only-of-type {\n",
       "        vertical-align: middle;\n",
       "    }\n",
       "\n",
       "    .dataframe tbody tr th {\n",
       "        vertical-align: top;\n",
       "    }\n",
       "\n",
       "    .dataframe thead th {\n",
       "        text-align: right;\n",
       "    }\n",
       "</style>\n",
       "<table border=\"1\" class=\"dataframe\">\n",
       "  <thead>\n",
       "    <tr style=\"text-align: right;\">\n",
       "      <th></th>\n",
       "      <th>0</th>\n",
       "      <th>1</th>\n",
       "    </tr>\n",
       "  </thead>\n",
       "  <tbody>\n",
       "    <tr>\n",
       "      <td>0</td>\n",
       "      <td>-73.9680</td>\n",
       "      <td>40.76470</td>\n",
       "    </tr>\n",
       "    <tr>\n",
       "      <td>1</td>\n",
       "      <td>-73.9713</td>\n",
       "      <td>40.76622</td>\n",
       "    </tr>\n",
       "    <tr>\n",
       "      <td>2</td>\n",
       "      <td>-73.9711</td>\n",
       "      <td>40.76650</td>\n",
       "    </tr>\n",
       "  </tbody>\n",
       "</table>\n",
       "</div>"
      ],
      "text/plain": [
       "         0         1\n",
       "0 -73.9680  40.76470\n",
       "1 -73.9713  40.76622\n",
       "2 -73.9711  40.76650"
      ]
     },
     "execution_count": 61,
     "metadata": {},
     "output_type": "execute_result"
    }
   ],
   "source": [
    "practice.head()"
   ]
  },
  {
   "cell_type": "code",
   "execution_count": null,
   "metadata": {},
   "outputs": [],
   "source": []
  },
  {
   "cell_type": "code",
   "execution_count": 62,
   "metadata": {},
   "outputs": [],
   "source": [
    "practice = gpd.GeoDataFrame(practice, geometry=gpd.points_from_xy(practice[0], practice[1]))"
   ]
  },
  {
   "cell_type": "code",
   "execution_count": 63,
   "metadata": {},
   "outputs": [
    {
     "data": {
      "text/html": [
       "<div>\n",
       "<style scoped>\n",
       "    .dataframe tbody tr th:only-of-type {\n",
       "        vertical-align: middle;\n",
       "    }\n",
       "\n",
       "    .dataframe tbody tr th {\n",
       "        vertical-align: top;\n",
       "    }\n",
       "\n",
       "    .dataframe thead th {\n",
       "        text-align: right;\n",
       "    }\n",
       "</style>\n",
       "<table border=\"1\" class=\"dataframe\">\n",
       "  <thead>\n",
       "    <tr style=\"text-align: right;\">\n",
       "      <th></th>\n",
       "      <th>0</th>\n",
       "      <th>1</th>\n",
       "      <th>geometry</th>\n",
       "    </tr>\n",
       "  </thead>\n",
       "  <tbody>\n",
       "    <tr>\n",
       "      <td>0</td>\n",
       "      <td>-73.9680</td>\n",
       "      <td>40.76470</td>\n",
       "      <td>POINT (-73.96800 40.76470)</td>\n",
       "    </tr>\n",
       "    <tr>\n",
       "      <td>1</td>\n",
       "      <td>-73.9713</td>\n",
       "      <td>40.76622</td>\n",
       "      <td>POINT (-73.97130 40.76622)</td>\n",
       "    </tr>\n",
       "    <tr>\n",
       "      <td>2</td>\n",
       "      <td>-73.9711</td>\n",
       "      <td>40.76650</td>\n",
       "      <td>POINT (-73.97110 40.76650)</td>\n",
       "    </tr>\n",
       "  </tbody>\n",
       "</table>\n",
       "</div>"
      ],
      "text/plain": [
       "         0         1                    geometry\n",
       "0 -73.9680  40.76470  POINT (-73.96800 40.76470)\n",
       "1 -73.9713  40.76622  POINT (-73.97130 40.76622)\n",
       "2 -73.9711  40.76650  POINT (-73.97110 40.76650)"
      ]
     },
     "execution_count": 63,
     "metadata": {},
     "output_type": "execute_result"
    }
   ],
   "source": [
    "practice.head()"
   ]
  },
  {
   "cell_type": "code",
   "execution_count": 64,
   "metadata": {},
   "outputs": [
    {
     "data": {
      "text/plain": [
       "<matplotlib.axes._subplots.AxesSubplot at 0x116cc54a8>"
      ]
     },
     "execution_count": 64,
     "metadata": {},
     "output_type": "execute_result"
    },
    {
     "data": {
      "image/png": "[encoded data removed]",
      "text/plain": [
       "<Figure size 432x288 with 1 Axes>"
      ]
     },
     "metadata": {
      "needs_background": "light"
     },
     "output_type": "display_data"
    }
   ],
   "source": [
    "practice.plot()"
   ]
  },
  {
   "cell_type": "code",
   "execution_count": 74,
   "metadata": {},
   "outputs": [],
   "source": [
    "practice_poly = LineString([[p.x, p.y] for p in practice['geometry']])"
   ]
  },
  {
   "cell_type": "code",
   "execution_count": 75,
   "metadata": {},
   "outputs": [
    {
     "data": {
      "text/plain": [
       "<matplotlib.axes._subplots.AxesSubplot at 0x1170aa780>"
      ]
     },
     "execution_count": 75,
     "metadata": {},
     "output_type": "execute_result"
    },
    {
     "data": {
      "image/png": "[encoded data removed]",
      "text/plain": [
       "<Figure size 432x288 with 1 Axes>"
      ]
     },
     "metadata": {
      "needs_background": "light"
     },
     "output_type": "display_data"
    }
   ],
   "source": [
    "gpd.GeoSeries(practice_poly).plot()"
   ]
  },
  {
   "cell_type": "code",
   "execution_count": 67,
   "metadata": {},
   "outputs": [],
   "source": [
    "from haversine import haversine, Unit\n",
    "from shapely.ops import nearest_points\n",
    "from itertools import product\n",
    "import numpy as np"
   ]
  },
  {
   "cell_type": "code",
   "execution_count": 85,
   "metadata": {},
   "outputs": [],
   "source": [
    "def create_pt_grid(minx, miny, maxx, maxy):\n",
    "    n_lats = round((maxy-miny)/.001) +1\n",
    "    lats = np.linspace(miny, maxy, n_lats)\n",
    "    n_longs = round((maxx - minx)/.001) +1\n",
    "    longs = np.linspace(minx, maxx, n_longs)\n",
    "    lat_long_df = pd.DataFrame(product(lats, longs), columns=['latitude', 'longitude'])\n",
    "    geo_df = gpd.GeoDataFrame(lat_long_df,\n",
    "                         geometry=gpd.points_from_xy(lat_long_df['longitude'], lat_long_df['latitude']))\n",
    "    return geo_df\n",
    "    "
   ]
  },
  {
   "cell_type": "code",
   "execution_count": 86,
   "metadata": {},
   "outputs": [],
   "source": [
    "def on_path(geom_series, dist, line):\n",
    "    on_path = []\n",
    "    for index in geom_series.index:\n",
    "        x = geom_series[index].x\n",
    "        y = geom_series[index].y\n",
    "        pt1, ln_pt = nearest_points(Point(x, y), line)\n",
    "        on_path.append(haversine((pt1.y, pt1.x), (ln_pt.y, ln_pt.x), unit='ft') < dist)\n",
    "    return on_path\n",
    "    "
   ]
  },
  {
   "cell_type": "code",
   "execution_count": 87,
   "metadata": {},
   "outputs": [],
   "source": [
    "# get line bounds\n",
    "# add a buffer to the line bounds\n",
    "# create df of all points w/in the bounds\n",
    "# for each point:\n",
    "#    check if nearest points (shapely.ops.nearest_points(geom1, geom2)) \n",
    "#    are w/in haversine distance 500 ft\n",
    "def get_pts_near_path(line, distance):\n",
    "    # get line bounds\n",
    "    (minx, miny, maxx, maxy) = line.bounds\n",
    "    \n",
    "    # extract values with buffer area\n",
    "    minx = round(minx, 3) -0.002\n",
    "    miny = round(miny, 3) -0.002\n",
    "    maxx = round(maxx, 3) + 0.002\n",
    "    maxy = round(maxy, 3) + 0.002\n",
    "    \n",
    "    # create a df of all lat, longs w/in bounds\n",
    "    all_pts = create_pt_grid(minx, miny, maxx, maxy)\n",
    "    \n",
    "    all_pts['on_path'] = on_path(all_pts['geometry'], distance, line)\n",
    "    return all_pts.loc[all_pts['on_path']==True]"
   ]
  },
  {
   "cell_type": "code",
   "execution_count": null,
   "metadata": {},
   "outputs": [],
   "source": []
  },
  {
   "cell_type": "code",
   "execution_count": 93,
   "metadata": {},
   "outputs": [],
   "source": [
    "pts = get_pts_near_path(practice_poly, 750)"
   ]
  },
  {
   "cell_type": "code",
   "execution_count": 92,
   "metadata": {},
   "outputs": [
    {
     "data": {
      "text/plain": [
       "<matplotlib.axes._subplots.AxesSubplot at 0x117387128>"
      ]
     },
     "execution_count": 92,
     "metadata": {},
     "output_type": "execute_result"
    },
    {
     "data": {
      "image/png": "[encoded data removed]",
      "text/plain": [
       "<Figure size 432x288 with 1 Axes>"
      ]
     },
     "metadata": {
      "needs_background": "light"
     },
     "output_type": "display_data"
    }
   ],
   "source": [
    "pts.plot()"
   ]
  },
  {
   "cell_type": "markdown",
   "metadata": {},
   "source": [
    "## investigate missing locations in man_lat_longs.csv"
   ]
  },
  {
   "cell_type": "code",
   "execution_count": 3,
   "metadata": {},
   "outputs": [],
   "source": [
    "lat_longs = pd.read_csv('/Users/allisonhonold/ds0805/walk_proj/walk_risk_engine/data/csv/man_lat_longs.csv')"
   ]
  },
  {
   "cell_type": "code",
   "execution_count": 6,
   "metadata": {},
   "outputs": [
    {
     "data": {
      "text/html": [
       "<div>\n",
       "<style scoped>\n",
       "    .dataframe tbody tr th:only-of-type {\n",
       "        vertical-align: middle;\n",
       "    }\n",
       "\n",
       "    .dataframe tbody tr th {\n",
       "        vertical-align: top;\n",
       "    }\n",
       "\n",
       "    .dataframe thead th {\n",
       "        text-align: right;\n",
       "    }\n",
       "</style>\n",
       "<table border=\"1\" class=\"dataframe\">\n",
       "  <thead>\n",
       "    <tr style=\"text-align: right;\">\n",
       "      <th></th>\n",
       "      <th>Unnamed: 0</th>\n",
       "      <th>latitude</th>\n",
       "      <th>longitude</th>\n",
       "      <th>geometry</th>\n",
       "      <th>in_man</th>\n",
       "    </tr>\n",
       "  </thead>\n",
       "  <tbody>\n",
       "    <tr>\n",
       "      <th>0</th>\n",
       "      <td>170</td>\n",
       "      <td>40.683</td>\n",
       "      <td>-74.023</td>\n",
       "      <td>POINT (-74.02300000000001 40.683)</td>\n",
       "      <td>True</td>\n",
       "    </tr>\n",
       "    <tr>\n",
       "      <th>1</th>\n",
       "      <td>313</td>\n",
       "      <td>40.684</td>\n",
       "      <td>-74.024</td>\n",
       "      <td>POINT (-74.024 40.684)</td>\n",
       "      <td>True</td>\n",
       "    </tr>\n",
       "    <tr>\n",
       "      <th>2</th>\n",
       "      <td>325</td>\n",
       "      <td>40.684</td>\n",
       "      <td>-74.012</td>\n",
       "      <td>POINT (-74.012 40.684)</td>\n",
       "      <td>True</td>\n",
       "    </tr>\n",
       "    <tr>\n",
       "      <th>3</th>\n",
       "      <td>455</td>\n",
       "      <td>40.685</td>\n",
       "      <td>-74.026</td>\n",
       "      <td>POINT (-74.02600000000001 40.685)</td>\n",
       "      <td>True</td>\n",
       "    </tr>\n",
       "    <tr>\n",
       "      <th>4</th>\n",
       "      <td>456</td>\n",
       "      <td>40.685</td>\n",
       "      <td>-74.025</td>\n",
       "      <td>POINT (-74.02500000000001 40.685)</td>\n",
       "      <td>True</td>\n",
       "    </tr>\n",
       "  </tbody>\n",
       "</table>\n",
       "</div>"
      ],
      "text/plain": [
       "   Unnamed: 0  latitude  longitude                           geometry  in_man\n",
       "0         170    40.683    -74.023  POINT (-74.02300000000001 40.683)    True\n",
       "1         313    40.684    -74.024             POINT (-74.024 40.684)    True\n",
       "2         325    40.684    -74.012             POINT (-74.012 40.684)    True\n",
       "3         455    40.685    -74.026  POINT (-74.02600000000001 40.685)    True\n",
       "4         456    40.685    -74.025  POINT (-74.02500000000001 40.685)    True"
      ]
     },
     "execution_count": 6,
     "metadata": {},
     "output_type": "execute_result"
    }
   ],
   "source": [
    "lat_longs.head()"
   ]
  },
  {
   "cell_type": "code",
   "execution_count": 16,
   "metadata": {},
   "outputs": [
    {
     "data": {
      "text/html": [
       "<div>\n",
       "<style scoped>\n",
       "    .dataframe tbody tr th:only-of-type {\n",
       "        vertical-align: middle;\n",
       "    }\n",
       "\n",
       "    .dataframe tbody tr th {\n",
       "        vertical-align: top;\n",
       "    }\n",
       "\n",
       "    .dataframe thead th {\n",
       "        text-align: right;\n",
       "    }\n",
       "</style>\n",
       "<table border=\"1\" class=\"dataframe\">\n",
       "  <thead>\n",
       "    <tr style=\"text-align: right;\">\n",
       "      <th></th>\n",
       "      <th>Unnamed: 0</th>\n",
       "      <th>latitude</th>\n",
       "      <th>longitude</th>\n",
       "      <th>geometry</th>\n",
       "      <th>in_man</th>\n",
       "    </tr>\n",
       "  </thead>\n",
       "  <tbody>\n",
       "  </tbody>\n",
       "</table>\n",
       "</div>"
      ],
      "text/plain": [
       "Empty DataFrame\n",
       "Columns: [Unnamed: 0, latitude, longitude, geometry, in_man]\n",
       "Index: []"
      ]
     },
     "execution_count": 16,
     "metadata": {},
     "output_type": "execute_result"
    }
   ],
   "source": [
    "lat_longs.loc[(lat_longs['latitude'] == 40.753) & (lat_longs['longitude'] == -73.989)]"
   ]
  },
  {
   "cell_type": "code",
   "execution_count": null,
   "metadata": {},
   "outputs": [],
   "source": []
  }
 ],
 "metadata": {
  "kernelspec": {
   "display_name": "Python 3 (geo-env)",
   "language": "python",
   "name": "geo-env"
  },
  "language_info": {
   "codemirror_mode": {
    "name": "ipython",
    "version": 3
   },
   "file_extension": ".py",
   "mimetype": "text/x-python",
   "name": "python",
   "nbconvert_exporter": "python",
   "pygments_lexer": "ipython3",
   "version": "3.7.3"
  }
 },
 "nbformat": 4,
 "nbformat_minor": 2
}
