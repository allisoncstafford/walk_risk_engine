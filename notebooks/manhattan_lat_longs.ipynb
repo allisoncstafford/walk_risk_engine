{
 "cells": [
  {
   "cell_type": "code",
   "execution_count": 1,
   "metadata": {},
   "outputs": [],
   "source": [
    "import geopandas as gpd\n",
    "from shapely.geometry import Point, Polygon\n",
    "from matplotlib import pyplot as plt\n",
    "import numpy as np\n",
    "import pandas as pd\n",
    "%matplotlib inline"
   ]
  },
  {
   "cell_type": "code",
   "execution_count": 2,
   "metadata": {},
   "outputs": [
    {
     "data": {
      "text/html": [
       "<div>\n",
       "<style scoped>\n",
       "    .dataframe tbody tr th:only-of-type {\n",
       "        vertical-align: middle;\n",
       "    }\n",
       "\n",
       "    .dataframe tbody tr th {\n",
       "        vertical-align: top;\n",
       "    }\n",
       "\n",
       "    .dataframe thead th {\n",
       "        text-align: right;\n",
       "    }\n",
       "</style>\n",
       "<table border=\"1\" class=\"dataframe\">\n",
       "  <thead>\n",
       "    <tr style=\"text-align: right;\">\n",
       "      <th></th>\n",
       "      <th>boro_code</th>\n",
       "      <th>boro_name</th>\n",
       "      <th>shape_area</th>\n",
       "      <th>shape_leng</th>\n",
       "      <th>geometry</th>\n",
       "    </tr>\n",
       "  </thead>\n",
       "  <tbody>\n",
       "    <tr>\n",
       "      <td>0</td>\n",
       "      <td>2.0</td>\n",
       "      <td>Bronx</td>\n",
       "      <td>1.186612e+09</td>\n",
       "      <td>462958.188213</td>\n",
       "      <td>MULTIPOLYGON (((-73.89681 40.79581, -73.89694 ...</td>\n",
       "    </tr>\n",
       "    <tr>\n",
       "      <td>1</td>\n",
       "      <td>5.0</td>\n",
       "      <td>Staten Island</td>\n",
       "      <td>1.623756e+09</td>\n",
       "      <td>325960.634597</td>\n",
       "      <td>MULTIPOLYGON (((-74.05051 40.56642, -74.05047 ...</td>\n",
       "    </tr>\n",
       "    <tr>\n",
       "      <td>2</td>\n",
       "      <td>3.0</td>\n",
       "      <td>Brooklyn</td>\n",
       "      <td>1.937593e+09</td>\n",
       "      <td>738745.835869</td>\n",
       "      <td>MULTIPOLYGON (((-73.86706 40.58209, -73.86769 ...</td>\n",
       "    </tr>\n",
       "    <tr>\n",
       "      <td>3</td>\n",
       "      <td>4.0</td>\n",
       "      <td>Queens</td>\n",
       "      <td>3.045885e+09</td>\n",
       "      <td>904390.137335</td>\n",
       "      <td>MULTIPOLYGON (((-73.83668 40.59495, -73.83678 ...</td>\n",
       "    </tr>\n",
       "    <tr>\n",
       "      <td>4</td>\n",
       "      <td>1.0</td>\n",
       "      <td>Manhattan</td>\n",
       "      <td>6.366027e+08</td>\n",
       "      <td>361212.479734</td>\n",
       "      <td>MULTIPOLYGON (((-74.01093 40.68449, -74.01193 ...</td>\n",
       "    </tr>\n",
       "  </tbody>\n",
       "</table>\n",
       "</div>"
      ],
      "text/plain": [
       "   boro_code      boro_name    shape_area     shape_leng  \\\n",
       "0        2.0          Bronx  1.186612e+09  462958.188213   \n",
       "1        5.0  Staten Island  1.623756e+09  325960.634597   \n",
       "2        3.0       Brooklyn  1.937593e+09  738745.835869   \n",
       "3        4.0         Queens  3.045885e+09  904390.137335   \n",
       "4        1.0      Manhattan  6.366027e+08  361212.479734   \n",
       "\n",
       "                                            geometry  \n",
       "0  MULTIPOLYGON (((-73.89681 40.79581, -73.89694 ...  \n",
       "1  MULTIPOLYGON (((-74.05051 40.56642, -74.05047 ...  \n",
       "2  MULTIPOLYGON (((-73.86706 40.58209, -73.86769 ...  \n",
       "3  MULTIPOLYGON (((-73.83668 40.59495, -73.83678 ...  \n",
       "4  MULTIPOLYGON (((-74.01093 40.68449, -74.01193 ...  "
      ]
     },
     "execution_count": 2,
     "metadata": {},
     "output_type": "execute_result"
    }
   ],
   "source": [
    "boroughs = gpd.read_file('boroughboundaries.shp')\n",
    "boroughs"
   ]
  },
  {
   "cell_type": "code",
   "execution_count": 5,
   "metadata": {},
   "outputs": [
    {
     "name": "stdout",
     "output_type": "stream",
     "text": [
      "0 (-73.93360592036706, 40.78535662050845, -73.7653324399529, 40.91553277599955)\n",
      "1 (-74.25559136249367, 40.496115395170854, -74.04923629842045, 40.64892555177345)\n",
      "2 (-74.0418964317642, 40.56952999448672, -73.83355923814374, 40.73912795313436)\n",
      "3 (-73.96262015898662, 40.54183396045305, -73.70000906255197, 40.80101146781899)\n",
      "4 (-74.04772962763064, 40.68291694544512, -73.90665099473267, 40.87903804730722)\n"
     ]
    }
   ],
   "source": [
    "for index in boroughs.index:\n",
    "    polygons = boroughs.loc[index, 'geometry']\n",
    "    print(index, polygons.bounds)"
   ]
  },
  {
   "cell_type": "code",
   "execution_count": 80,
   "metadata": {},
   "outputs": [
    {
     "data": {
      "text/plain": [
       "(-74.04772962763064, 40.68291694544512, -73.90665099473267, 40.87903804730722)"
      ]
     },
     "execution_count": 80,
     "metadata": {},
     "output_type": "execute_result"
    }
   ],
   "source": [
    "man_poly = boroughs.loc[4, 'geometry']\n",
    "man_poly.bounds"
   ]
  },
  {
   "cell_type": "code",
   "execution_count": 81,
   "metadata": {},
   "outputs": [],
   "source": [
    "minx = round(man_poly.bounds[0], 3) - .001\n",
    "miny = round(man_poly.bounds[1], 3) - .001\n",
    "maxx = round(man_poly.bounds[2], 3) + .001\n",
    "maxy = round(man_poly.bounds[3], 3) + .001\n",
    "\n",
    "n_lats = (maxy-miny)/.001 +2\n",
    "lats = np.linspace(miny, maxy, int(n_lats))\n",
    "n_longs = (maxx - minx)/.001 +1\n",
    "longs = np.linspace(minx, maxx, int(n_longs))"
   ]
  },
  {
   "cell_type": "code",
   "execution_count": 82,
   "metadata": {},
   "outputs": [],
   "source": [
    "from itertools import product"
   ]
  },
  {
   "cell_type": "code",
   "execution_count": 83,
   "metadata": {},
   "outputs": [],
   "source": [
    "lat_long_df = pd.DataFrame(product(lats, longs), columns=['latitude', 'longitude'])"
   ]
  },
  {
   "cell_type": "code",
   "execution_count": 84,
   "metadata": {},
   "outputs": [],
   "source": [
    "geo_df = gpd.GeoDataFrame(lat_long_df,\n",
    "                         geometry=gpd.points_from_xy(lat_long_df['longitude'], lat_long_df['latitude']))"
   ]
  },
  {
   "cell_type": "code",
   "execution_count": 85,
   "metadata": {},
   "outputs": [],
   "source": [
    "geo_df['in_man'] = np.nan"
   ]
  },
  {
   "cell_type": "code",
   "execution_count": 86,
   "metadata": {},
   "outputs": [],
   "source": [
    "man = boroughs.loc[4,'geometry']"
   ]
  },
  {
   "cell_type": "code",
   "execution_count": 92,
   "metadata": {},
   "outputs": [
    {
     "ename": "SyntaxError",
     "evalue": "invalid syntax (<ipython-input-92-7c5725aa416c>, line 2)",
     "output_type": "error",
     "traceback": [
      "\u001b[0;36m  File \u001b[0;32m\"<ipython-input-92-7c5725aa416c>\"\u001b[0;36m, line \u001b[0;32m2\u001b[0m\n\u001b[0;31m    poly2 =\u001b[0m\n\u001b[0m            ^\u001b[0m\n\u001b[0;31mSyntaxError\u001b[0m\u001b[0;31m:\u001b[0m invalid syntax\n"
     ]
    }
   ],
   "source": [
    "# creating a polygon to reduce the load of checking points, esp if doing all of ny\n",
    "# poly2 = \n",
    "\n",
    "\"p5 = Point(-74.053, 40.688) #40.688310, -74.053245\\n\",\n",
    "    \"p6 = Point(-74.06, 40.688)\\n\",\n",
    "    \"p7 = Point(-74.06, 40.919)\\n\",\n",
    "    \"p8 = Point(-73.913, 40.919) #40.919607, -73.953894\\n\",\n",
    "    \"pointlist2 = [p5, p6, p7, p8]\\n\",\n",
    "    \"poly2 = gpd.GeoSeries(Polygon([[p.x, p.y] for p in pointlist2]))\"\n",
    "    \n",
    "    \n",
    "    \"p1 = Point(-74.06, 40.659)\\n\",\n",
    "    \"p2 = Point(-74.270, 40.655)\\n\",\n",
    "    \"p3 = Point(-74.27, 40.914)\\n\",\n",
    "    \"p4 = Point(-74.831, 40.914)\\n\",\n",
    "    \"pointlist = [p1, p2, p3, p4]\\n\",\n",
    "    \"poly = gpd.GeoSeries(geometry.Polygon([[p.x, p.y] for p in pointList]))\""
   ]
  },
  {
   "cell_type": "code",
   "execution_count": null,
   "metadata": {},
   "outputs": [],
   "source": [
    "# reducing the load of checking points for areas north of staten island\n",
    "# geo_df.loc[((geo_df['latitude'] > 40.659) & (geo_df['longitude'] < -74.06)), 'in_nyc'] = False"
   ]
  },
  {
   "cell_type": "markdown",
   "metadata": {},
   "source": [
    "#code for all boroughs\n",
    "\n",
    "for df_index in range(40000, 60000):\n",
    "    if df_index%500==0:\n",
    "        print(df_index)\n",
    "        if np.isnan(geo_df.loc[df_index, 'in_nyc']):\n",
    "            geo_df.loc[df_index, 'in_nyc'] = False\n",
    "            pt = gpd.GeoSeries(geo_df.loc[df_index, 'geometry'])\n",
    "        if not pt.intersects(poly2).any():\n",
    "            for b_index in boroughs.index:\n",
    "                polygons = boroughs.loc[b_index, 'geometry']\n",
    "                if pt.intersects(polygons).any():\n",
    "                    geo_df.loc[df_index, 'in_nyc'] = True\n",
    "                    break\n",
    "geo_df[40000:60000].to_csv('geo_df_60k.csv')"
   ]
  },
  {
   "cell_type": "code",
   "execution_count": 66,
   "metadata": {},
   "outputs": [
    {
     "data": {
      "text/plain": [
       "True"
      ]
     },
     "execution_count": 66,
     "metadata": {},
     "output_type": "execute_result"
    }
   ],
   "source": [
    "pt = Point(-73.941368, 40.815709)\n",
    "pt.intersects(man)"
   ]
  },
  {
   "cell_type": "code",
   "execution_count": 87,
   "metadata": {},
   "outputs": [
    {
     "data": {
      "text/plain": [
       "(28656, 4)"
      ]
     },
     "execution_count": 87,
     "metadata": {},
     "output_type": "execute_result"
    }
   ],
   "source": [
    "geo_df.shape"
   ]
  },
  {
   "cell_type": "code",
   "execution_count": 88,
   "metadata": {},
   "outputs": [
    {
     "name": "stdout",
     "output_type": "stream",
     "text": [
      "0\n",
      "5000\n",
      "10000\n",
      "15000\n",
      "20000\n",
      "25000\n"
     ]
    }
   ],
   "source": [
    "for index in range(geo_df.shape[0]): \n",
    "    if index%5000==0:\n",
    "        print(index)\n",
    "#     if np.isnan(geo_df.loc[df_index, 'in_man']): # updated col from 'in_nyc'\n",
    "#     geo_df.loc[df_index, 'in_man'] = False\n",
    "    pt = geo_df.loc[index, 'geometry']\n",
    "    if pt.intersects(man):\n",
    "        geo_df.loc[index, 'in_man'] = True\n",
    "    else:\n",
    "        geo_df.loc[index, 'in_man'] = False"
   ]
  },
  {
   "cell_type": "code",
   "execution_count": 89,
   "metadata": {},
   "outputs": [
    {
     "data": {
      "text/html": [
       "<div>\n",
       "<style scoped>\n",
       "    .dataframe tbody tr th:only-of-type {\n",
       "        vertical-align: middle;\n",
       "    }\n",
       "\n",
       "    .dataframe tbody tr th {\n",
       "        vertical-align: top;\n",
       "    }\n",
       "\n",
       "    .dataframe thead th {\n",
       "        text-align: right;\n",
       "    }\n",
       "</style>\n",
       "<table border=\"1\" class=\"dataframe\">\n",
       "  <thead>\n",
       "    <tr style=\"text-align: right;\">\n",
       "      <th></th>\n",
       "      <th>latitude</th>\n",
       "      <th>longitude</th>\n",
       "      <th>geometry</th>\n",
       "      <th>in_man</th>\n",
       "    </tr>\n",
       "  </thead>\n",
       "  <tbody>\n",
       "    <tr>\n",
       "      <td>170</td>\n",
       "      <td>40.683</td>\n",
       "      <td>-74.023</td>\n",
       "      <td>POINT (-74.02300 40.68300)</td>\n",
       "      <td>True</td>\n",
       "    </tr>\n",
       "    <tr>\n",
       "      <td>313</td>\n",
       "      <td>40.684</td>\n",
       "      <td>-74.024</td>\n",
       "      <td>POINT (-74.02400 40.68400)</td>\n",
       "      <td>True</td>\n",
       "    </tr>\n",
       "    <tr>\n",
       "      <td>325</td>\n",
       "      <td>40.684</td>\n",
       "      <td>-74.012</td>\n",
       "      <td>POINT (-74.01200 40.68400)</td>\n",
       "      <td>True</td>\n",
       "    </tr>\n",
       "    <tr>\n",
       "      <td>455</td>\n",
       "      <td>40.685</td>\n",
       "      <td>-74.026</td>\n",
       "      <td>POINT (-74.02600 40.68500)</td>\n",
       "      <td>True</td>\n",
       "    </tr>\n",
       "    <tr>\n",
       "      <td>456</td>\n",
       "      <td>40.685</td>\n",
       "      <td>-74.025</td>\n",
       "      <td>POINT (-74.02500 40.68500)</td>\n",
       "      <td>True</td>\n",
       "    </tr>\n",
       "  </tbody>\n",
       "</table>\n",
       "</div>"
      ],
      "text/plain": [
       "     latitude  longitude                    geometry  in_man\n",
       "170    40.683    -74.023  POINT (-74.02300 40.68300)    True\n",
       "313    40.684    -74.024  POINT (-74.02400 40.68400)    True\n",
       "325    40.684    -74.012  POINT (-74.01200 40.68400)    True\n",
       "455    40.685    -74.026  POINT (-74.02600 40.68500)    True\n",
       "456    40.685    -74.025  POINT (-74.02500 40.68500)    True"
      ]
     },
     "execution_count": 89,
     "metadata": {},
     "output_type": "execute_result"
    }
   ],
   "source": [
    "man_gdf = gpd.GeoDataFrame(geo_df.loc[geo_df['in_man']==True])\n",
    "man_gdf.head()"
   ]
  },
  {
   "cell_type": "code",
   "execution_count": 90,
   "metadata": {},
   "outputs": [],
   "source": [
    "man_gdf.to_csv('man_lat_longs.csv')"
   ]
  },
  {
   "cell_type": "code",
   "execution_count": 91,
   "metadata": {},
   "outputs": [
    {
     "data": {
      "text/plain": [
       "<matplotlib.axes._subplots.AxesSubplot at 0x1154715f8>"
      ]
     },
     "execution_count": 91,
     "metadata": {},
     "output_type": "execute_result"
    },
    {
     "data": {
      "image/png": "[encoded data removed]",
      "text/plain": [
       "<Figure size 432x288 with 1 Axes>"
      ]
     },
     "metadata": {
      "needs_background": "light"
     },
     "output_type": "display_data"
    }
   ],
   "source": [
    "base = boroughs.plot(color='white', edgecolor='black')\n",
    "man_gdf.plot(ax = base, marker = 'o', color='blue', markersize=1)"
   ]
  },
  {
   "cell_type": "code",
   "execution_count": 93,
   "metadata": {
    "scrolled": true
   },
   "outputs": [
    {
     "data": {
      "text/plain": [
       "(6312, 4)"
      ]
     },
     "execution_count": 93,
     "metadata": {},
     "output_type": "execute_result"
    }
   ],
   "source": [
    "man_gdf.shape"
   ]
  },
  {
   "cell_type": "code",
   "execution_count": 3,
   "metadata": {},
   "outputs": [],
   "source": [
    "import pandas as pd"
   ]
  },
  {
   "cell_type": "code",
   "execution_count": 13,
   "metadata": {},
   "outputs": [],
   "source": [
    "man_pts = pd.read_csv('man_lat_longs.csv')"
   ]
  },
  {
   "cell_type": "code",
   "execution_count": 14,
   "metadata": {},
   "outputs": [],
   "source": [
    "all_pts = man_pts.head(10)"
   ]
  },
  {
   "cell_type": "code",
   "execution_count": 16,
   "metadata": {},
   "outputs": [
    {
     "name": "stderr",
     "output_type": "stream",
     "text": [
      "//anaconda3/envs/geo-env/lib/python3.7/site-packages/pandas/core/indexing.py:494: SettingWithCopyWarning: \n",
      "A value is trying to be set on a copy of a slice from a DataFrame.\n",
      "Try using .loc[row_indexer,col_indexer] = value instead\n",
      "\n",
      "See the caveats in the documentation: http://pandas.pydata.org/pandas-docs/stable/user_guide/indexing.html#returning-a-view-versus-a-copy\n",
      "  self.obj[item] = s\n"
     ]
    }
   ],
   "source": [
    "all_pts.loc[:, 'on_path'] = True"
   ]
  },
  {
   "cell_type": "code",
   "execution_count": 19,
   "metadata": {},
   "outputs": [],
   "source": [
    "all_pts = all_pts.drop(columns=['Unnamed: 0', 'in_man'])"
   ]
  },
  {
   "cell_type": "code",
   "execution_count": 20,
   "metadata": {},
   "outputs": [
    {
     "data": {
      "text/html": [
       "<div>\n",
       "<style scoped>\n",
       "    .dataframe tbody tr th:only-of-type {\n",
       "        vertical-align: middle;\n",
       "    }\n",
       "\n",
       "    .dataframe tbody tr th {\n",
       "        vertical-align: top;\n",
       "    }\n",
       "\n",
       "    .dataframe thead th {\n",
       "        text-align: right;\n",
       "    }\n",
       "</style>\n",
       "<table border=\"1\" class=\"dataframe\">\n",
       "  <thead>\n",
       "    <tr style=\"text-align: right;\">\n",
       "      <th></th>\n",
       "      <th>latitude</th>\n",
       "      <th>longitude</th>\n",
       "      <th>geometry</th>\n",
       "      <th>on_path</th>\n",
       "    </tr>\n",
       "  </thead>\n",
       "  <tbody>\n",
       "    <tr>\n",
       "      <th>0</th>\n",
       "      <td>40.683</td>\n",
       "      <td>-74.023</td>\n",
       "      <td>POINT (-74.02300000000001 40.683)</td>\n",
       "      <td>True</td>\n",
       "    </tr>\n",
       "    <tr>\n",
       "      <th>1</th>\n",
       "      <td>40.684</td>\n",
       "      <td>-74.024</td>\n",
       "      <td>POINT (-74.024 40.684)</td>\n",
       "      <td>True</td>\n",
       "    </tr>\n",
       "    <tr>\n",
       "      <th>2</th>\n",
       "      <td>40.684</td>\n",
       "      <td>-74.012</td>\n",
       "      <td>POINT (-74.012 40.684)</td>\n",
       "      <td>True</td>\n",
       "    </tr>\n",
       "    <tr>\n",
       "      <th>3</th>\n",
       "      <td>40.685</td>\n",
       "      <td>-74.026</td>\n",
       "      <td>POINT (-74.02600000000001 40.685)</td>\n",
       "      <td>True</td>\n",
       "    </tr>\n",
       "    <tr>\n",
       "      <th>4</th>\n",
       "      <td>40.685</td>\n",
       "      <td>-74.025</td>\n",
       "      <td>POINT (-74.02500000000001 40.685)</td>\n",
       "      <td>True</td>\n",
       "    </tr>\n",
       "    <tr>\n",
       "      <th>5</th>\n",
       "      <td>40.685</td>\n",
       "      <td>-74.024</td>\n",
       "      <td>POINT (-74.024 40.685)</td>\n",
       "      <td>True</td>\n",
       "    </tr>\n",
       "    <tr>\n",
       "      <th>6</th>\n",
       "      <td>40.685</td>\n",
       "      <td>-74.023</td>\n",
       "      <td>POINT (-74.02300000000001 40.685)</td>\n",
       "      <td>True</td>\n",
       "    </tr>\n",
       "    <tr>\n",
       "      <th>7</th>\n",
       "      <td>40.685</td>\n",
       "      <td>-74.022</td>\n",
       "      <td>POINT (-74.02200000000001 40.685)</td>\n",
       "      <td>True</td>\n",
       "    </tr>\n",
       "    <tr>\n",
       "      <th>8</th>\n",
       "      <td>40.686</td>\n",
       "      <td>-74.026</td>\n",
       "      <td>POINT (-74.02600000000001 40.686)</td>\n",
       "      <td>True</td>\n",
       "    </tr>\n",
       "    <tr>\n",
       "      <th>9</th>\n",
       "      <td>40.686</td>\n",
       "      <td>-74.025</td>\n",
       "      <td>POINT (-74.02500000000001 40.686)</td>\n",
       "      <td>True</td>\n",
       "    </tr>\n",
       "  </tbody>\n",
       "</table>\n",
       "</div>"
      ],
      "text/plain": [
       "   latitude  longitude                           geometry  on_path\n",
       "0    40.683    -74.023  POINT (-74.02300000000001 40.683)     True\n",
       "1    40.684    -74.024             POINT (-74.024 40.684)     True\n",
       "2    40.684    -74.012             POINT (-74.012 40.684)     True\n",
       "3    40.685    -74.026  POINT (-74.02600000000001 40.685)     True\n",
       "4    40.685    -74.025  POINT (-74.02500000000001 40.685)     True\n",
       "5    40.685    -74.024             POINT (-74.024 40.685)     True\n",
       "6    40.685    -74.023  POINT (-74.02300000000001 40.685)     True\n",
       "7    40.685    -74.022  POINT (-74.02200000000001 40.685)     True\n",
       "8    40.686    -74.026  POINT (-74.02600000000001 40.686)     True\n",
       "9    40.686    -74.025  POINT (-74.02500000000001 40.686)     True"
      ]
     },
     "execution_count": 20,
     "metadata": {},
     "output_type": "execute_result"
    }
   ],
   "source": [
    "all_pts"
   ]
  },
  {
   "cell_type": "code",
   "execution_count": 21,
   "metadata": {},
   "outputs": [],
   "source": [
    "manhattan_pts = man_pts.loc[:, ['latitude', 'longitude', 'in_man']]"
   ]
  },
  {
   "cell_type": "code",
   "execution_count": 22,
   "metadata": {},
   "outputs": [],
   "source": [
    "    all_pts = pd.merge(all_pts, manhattan_pts, \n",
    "                        on=['latitude', 'longitude'],\n",
    "                        how='left')"
   ]
  },
  {
   "cell_type": "code",
   "execution_count": 23,
   "metadata": {},
   "outputs": [
    {
     "data": {
      "text/html": [
       "<div>\n",
       "<style scoped>\n",
       "    .dataframe tbody tr th:only-of-type {\n",
       "        vertical-align: middle;\n",
       "    }\n",
       "\n",
       "    .dataframe tbody tr th {\n",
       "        vertical-align: top;\n",
       "    }\n",
       "\n",
       "    .dataframe thead th {\n",
       "        text-align: right;\n",
       "    }\n",
       "</style>\n",
       "<table border=\"1\" class=\"dataframe\">\n",
       "  <thead>\n",
       "    <tr style=\"text-align: right;\">\n",
       "      <th></th>\n",
       "      <th>latitude</th>\n",
       "      <th>longitude</th>\n",
       "      <th>geometry</th>\n",
       "      <th>on_path</th>\n",
       "      <th>in_man</th>\n",
       "    </tr>\n",
       "  </thead>\n",
       "  <tbody>\n",
       "    <tr>\n",
       "      <th>0</th>\n",
       "      <td>40.683</td>\n",
       "      <td>-74.023</td>\n",
       "      <td>POINT (-74.02300000000001 40.683)</td>\n",
       "      <td>True</td>\n",
       "      <td>True</td>\n",
       "    </tr>\n",
       "    <tr>\n",
       "      <th>1</th>\n",
       "      <td>40.684</td>\n",
       "      <td>-74.024</td>\n",
       "      <td>POINT (-74.024 40.684)</td>\n",
       "      <td>True</td>\n",
       "      <td>True</td>\n",
       "    </tr>\n",
       "    <tr>\n",
       "      <th>2</th>\n",
       "      <td>40.684</td>\n",
       "      <td>-74.012</td>\n",
       "      <td>POINT (-74.012 40.684)</td>\n",
       "      <td>True</td>\n",
       "      <td>True</td>\n",
       "    </tr>\n",
       "    <tr>\n",
       "      <th>3</th>\n",
       "      <td>40.685</td>\n",
       "      <td>-74.026</td>\n",
       "      <td>POINT (-74.02600000000001 40.685)</td>\n",
       "      <td>True</td>\n",
       "      <td>True</td>\n",
       "    </tr>\n",
       "    <tr>\n",
       "      <th>4</th>\n",
       "      <td>40.685</td>\n",
       "      <td>-74.025</td>\n",
       "      <td>POINT (-74.02500000000001 40.685)</td>\n",
       "      <td>True</td>\n",
       "      <td>True</td>\n",
       "    </tr>\n",
       "    <tr>\n",
       "      <th>5</th>\n",
       "      <td>40.685</td>\n",
       "      <td>-74.024</td>\n",
       "      <td>POINT (-74.024 40.685)</td>\n",
       "      <td>True</td>\n",
       "      <td>True</td>\n",
       "    </tr>\n",
       "    <tr>\n",
       "      <th>6</th>\n",
       "      <td>40.685</td>\n",
       "      <td>-74.023</td>\n",
       "      <td>POINT (-74.02300000000001 40.685)</td>\n",
       "      <td>True</td>\n",
       "      <td>True</td>\n",
       "    </tr>\n",
       "    <tr>\n",
       "      <th>7</th>\n",
       "      <td>40.685</td>\n",
       "      <td>-74.022</td>\n",
       "      <td>POINT (-74.02200000000001 40.685)</td>\n",
       "      <td>True</td>\n",
       "      <td>True</td>\n",
       "    </tr>\n",
       "    <tr>\n",
       "      <th>8</th>\n",
       "      <td>40.686</td>\n",
       "      <td>-74.026</td>\n",
       "      <td>POINT (-74.02600000000001 40.686)</td>\n",
       "      <td>True</td>\n",
       "      <td>True</td>\n",
       "    </tr>\n",
       "    <tr>\n",
       "      <th>9</th>\n",
       "      <td>40.686</td>\n",
       "      <td>-74.025</td>\n",
       "      <td>POINT (-74.02500000000001 40.686)</td>\n",
       "      <td>True</td>\n",
       "      <td>True</td>\n",
       "    </tr>\n",
       "  </tbody>\n",
       "</table>\n",
       "</div>"
      ],
      "text/plain": [
       "   latitude  longitude                           geometry  on_path  in_man\n",
       "0    40.683    -74.023  POINT (-74.02300000000001 40.683)     True    True\n",
       "1    40.684    -74.024             POINT (-74.024 40.684)     True    True\n",
       "2    40.684    -74.012             POINT (-74.012 40.684)     True    True\n",
       "3    40.685    -74.026  POINT (-74.02600000000001 40.685)     True    True\n",
       "4    40.685    -74.025  POINT (-74.02500000000001 40.685)     True    True\n",
       "5    40.685    -74.024             POINT (-74.024 40.685)     True    True\n",
       "6    40.685    -74.023  POINT (-74.02300000000001 40.685)     True    True\n",
       "7    40.685    -74.022  POINT (-74.02200000000001 40.685)     True    True\n",
       "8    40.686    -74.026  POINT (-74.02600000000001 40.686)     True    True\n",
       "9    40.686    -74.025  POINT (-74.02500000000001 40.686)     True    True"
      ]
     },
     "execution_count": 23,
     "metadata": {},
     "output_type": "execute_result"
    }
   ],
   "source": [
    "all_pts"
   ]
  },
  {
   "cell_type": "code",
   "execution_count": null,
   "metadata": {},
   "outputs": [],
   "source": []
  },
  {
   "cell_type": "code",
   "execution_count": 24,
   "metadata": {},
   "outputs": [
    {
     "data": {
      "text/html": [
       "<div>\n",
       "<style scoped>\n",
       "    .dataframe tbody tr th:only-of-type {\n",
       "        vertical-align: middle;\n",
       "    }\n",
       "\n",
       "    .dataframe tbody tr th {\n",
       "        vertical-align: top;\n",
       "    }\n",
       "\n",
       "    .dataframe thead th {\n",
       "        text-align: right;\n",
       "    }\n",
       "</style>\n",
       "<table border=\"1\" class=\"dataframe\">\n",
       "  <thead>\n",
       "    <tr style=\"text-align: right;\">\n",
       "      <th></th>\n",
       "      <th>latitude</th>\n",
       "      <th>longitude</th>\n",
       "      <th>geometry</th>\n",
       "      <th>on_path</th>\n",
       "      <th>in_man</th>\n",
       "    </tr>\n",
       "  </thead>\n",
       "  <tbody>\n",
       "    <tr>\n",
       "      <th>0</th>\n",
       "      <td>40.683</td>\n",
       "      <td>-74.023</td>\n",
       "      <td>POINT (-74.02300000000001 40.683)</td>\n",
       "      <td>True</td>\n",
       "      <td>True</td>\n",
       "    </tr>\n",
       "    <tr>\n",
       "      <th>1</th>\n",
       "      <td>40.684</td>\n",
       "      <td>-74.024</td>\n",
       "      <td>POINT (-74.024 40.684)</td>\n",
       "      <td>True</td>\n",
       "      <td>True</td>\n",
       "    </tr>\n",
       "    <tr>\n",
       "      <th>2</th>\n",
       "      <td>40.684</td>\n",
       "      <td>-74.012</td>\n",
       "      <td>POINT (-74.012 40.684)</td>\n",
       "      <td>True</td>\n",
       "      <td>True</td>\n",
       "    </tr>\n",
       "    <tr>\n",
       "      <th>3</th>\n",
       "      <td>40.685</td>\n",
       "      <td>-74.026</td>\n",
       "      <td>POINT (-74.02600000000001 40.685)</td>\n",
       "      <td>True</td>\n",
       "      <td>True</td>\n",
       "    </tr>\n",
       "    <tr>\n",
       "      <th>4</th>\n",
       "      <td>40.685</td>\n",
       "      <td>-74.025</td>\n",
       "      <td>POINT (-74.02500000000001 40.685)</td>\n",
       "      <td>True</td>\n",
       "      <td>True</td>\n",
       "    </tr>\n",
       "    <tr>\n",
       "      <th>5</th>\n",
       "      <td>40.685</td>\n",
       "      <td>-74.024</td>\n",
       "      <td>POINT (-74.024 40.685)</td>\n",
       "      <td>True</td>\n",
       "      <td>True</td>\n",
       "    </tr>\n",
       "    <tr>\n",
       "      <th>6</th>\n",
       "      <td>40.685</td>\n",
       "      <td>-74.023</td>\n",
       "      <td>POINT (-74.02300000000001 40.685)</td>\n",
       "      <td>True</td>\n",
       "      <td>True</td>\n",
       "    </tr>\n",
       "    <tr>\n",
       "      <th>7</th>\n",
       "      <td>40.685</td>\n",
       "      <td>-74.022</td>\n",
       "      <td>POINT (-74.02200000000001 40.685)</td>\n",
       "      <td>True</td>\n",
       "      <td>True</td>\n",
       "    </tr>\n",
       "    <tr>\n",
       "      <th>8</th>\n",
       "      <td>40.686</td>\n",
       "      <td>-74.026</td>\n",
       "      <td>POINT (-74.02600000000001 40.686)</td>\n",
       "      <td>True</td>\n",
       "      <td>True</td>\n",
       "    </tr>\n",
       "    <tr>\n",
       "      <th>9</th>\n",
       "      <td>40.686</td>\n",
       "      <td>-74.025</td>\n",
       "      <td>POINT (-74.02500000000001 40.686)</td>\n",
       "      <td>True</td>\n",
       "      <td>True</td>\n",
       "    </tr>\n",
       "  </tbody>\n",
       "</table>\n",
       "</div>"
      ],
      "text/plain": [
       "   latitude  longitude                           geometry  on_path  in_man\n",
       "0    40.683    -74.023  POINT (-74.02300000000001 40.683)     True    True\n",
       "1    40.684    -74.024             POINT (-74.024 40.684)     True    True\n",
       "2    40.684    -74.012             POINT (-74.012 40.684)     True    True\n",
       "3    40.685    -74.026  POINT (-74.02600000000001 40.685)     True    True\n",
       "4    40.685    -74.025  POINT (-74.02500000000001 40.685)     True    True\n",
       "5    40.685    -74.024             POINT (-74.024 40.685)     True    True\n",
       "6    40.685    -74.023  POINT (-74.02300000000001 40.685)     True    True\n",
       "7    40.685    -74.022  POINT (-74.02200000000001 40.685)     True    True\n",
       "8    40.686    -74.026  POINT (-74.02600000000001 40.686)     True    True\n",
       "9    40.686    -74.025  POINT (-74.02500000000001 40.686)     True    True"
      ]
     },
     "execution_count": 24,
     "metadata": {},
     "output_type": "execute_result"
    }
   ],
   "source": [
    "pd.DataFrame(all_pts.loc[(all_pts['on_path']==True) \n",
    "                        & (all_pts['in_man']==True)])"
   ]
  },
  {
   "cell_type": "code",
   "execution_count": 2,
   "metadata": {},
   "outputs": [],
   "source": [
    "nyc_pts = pd.read_csv('ny_pts.csv')"
   ]
  },
  {
   "cell_type": "code",
   "execution_count": 3,
   "metadata": {},
   "outputs": [
    {
     "data": {
      "text/plain": [
       "(83429, 5)"
      ]
     },
     "execution_count": 3,
     "metadata": {},
     "output_type": "execute_result"
    }
   ],
   "source": [
    "nyc_pts.shape"
   ]
  },
  {
   "cell_type": "code",
   "execution_count": null,
   "metadata": {},
   "outputs": [],
   "source": []
  }
 ],
 "metadata": {
  "kernelspec": {
   "display_name": "Python 3 (geo-env)",
   "language": "python",
   "name": "geo-env"
  },
  "language_info": {
   "codemirror_mode": {
    "name": "ipython",
    "version": 3
   },
   "file_extension": ".py",
   "mimetype": "text/x-python",
   "name": "python",
   "nbconvert_exporter": "python",
   "pygments_lexer": "ipython3",
   "version": "3.7.3"
  }
 },
 "nbformat": 4,
 "nbformat_minor": 2
}
