{
 "cells": [
  {
   "cell_type": "code",
   "execution_count": 2,
   "metadata": {},
   "outputs": [],
   "source": [
    "from pymongo import MongoClient\n",
    "import pandas as pd\n",
    "import numpy as np"
   ]
  },
  {
   "cell_type": "markdown",
   "metadata": {},
   "source": [
    "# Import weather data from MongoDB"
   ]
  },
  {
   "cell_type": "code",
   "execution_count": 186,
   "metadata": {},
   "outputs": [],
   "source": [
    "client = MongoClient()\n",
    "db = client['walk']\n",
    "weather = db['weather']\n",
    "chi_weather = db['chi_weather']"
   ]
  },
  {
   "cell_type": "code",
   "execution_count": 187,
   "metadata": {},
   "outputs": [
    {
     "data": {
      "text/plain": [
       "{'_id': ObjectId('5da9f8326a5b84eaf44fb32b'),\n",
       " 'latitude': 41.8781,\n",
       " 'longitude': -87.6298,\n",
       " 'timezone': 'America/Chicago',\n",
       " 'daily': {'data': [{'time': 978328800,\n",
       "    'summary': 'Partly cloudy throughout the day.',\n",
       "    'icon': 'partly-cloudy-day',\n",
       "    'sunriseTime': 978355169,\n",
       "    'sunsetTime': 978388287,\n",
       "    'moonPhase': 0.22,\n",
       "    'precipIntensity': 0,\n",
       "    'precipIntensityMax': 0,\n",
       "    'precipProbability': 0,\n",
       "    'temperatureHigh': 27.24,\n",
       "    'temperatureHighTime': 978375600,\n",
       "    'temperatureLow': 6.54,\n",
       "    'temperatureLowTime': 978418800,\n",
       "    'apparentTemperatureHigh': 17.42,\n",
       "    'apparentTemperatureHighTime': 978375600,\n",
       "    'apparentTemperatureLow': -3.52,\n",
       "    'apparentTemperatureLowTime': 978418800,\n",
       "    'dewPoint': 10.96,\n",
       "    'humidity': 0.77,\n",
       "    'pressure': 1031.24,\n",
       "    'windSpeed': 6.87,\n",
       "    'windGust': 11.22,\n",
       "    'windGustTime': 978382800,\n",
       "    'windBearing': 320,\n",
       "    'cloudCover': 0.52,\n",
       "    'uvIndex': 2,\n",
       "    'uvIndexTime': 978372000,\n",
       "    'visibility': 9.692,\n",
       "    'temperatureMin': 6.98,\n",
       "    'temperatureMinTime': 978339600,\n",
       "    'temperatureMax': 27.24,\n",
       "    'temperatureMaxTime': 978375600,\n",
       "    'apparentTemperatureMin': -0.89,\n",
       "    'apparentTemperatureMinTime': 978411600,\n",
       "    'apparentTemperatureMax': 17.42,\n",
       "    'apparentTemperatureMaxTime': 978375600}]},\n",
       " 'offset': -6,\n",
       " 'date': datetime.datetime(2001, 1, 1, 0, 0)}"
      ]
     },
     "execution_count": 187,
     "metadata": {},
     "output_type": "execute_result"
    }
   ],
   "source": [
    "chi_weather.find_one()"
   ]
  },
  {
   "cell_type": "code",
   "execution_count": 91,
   "metadata": {},
   "outputs": [
    {
     "data": {
      "text/plain": [
       "{'_id': ObjectId('5da38a2d6e91846929e3c790'),\n",
       " 'latitude': 40.742,\n",
       " 'longitude': -73.9073,\n",
       " 'timezone': 'America/New_York',\n",
       " 'daily': {'data': [{'time': 1136091600,\n",
       "    'summary': 'Overcast throughout the day.',\n",
       "    'icon': 'cloudy',\n",
       "    'sunriseTime': 1136118060,\n",
       "    'sunsetTime': 1136151594,\n",
       "    'moonPhase': 0.07,\n",
       "    'precipIntensity': 0.0002,\n",
       "    'precipIntensityMax': 0.0017,\n",
       "    'precipIntensityMaxTime': 1136142000,\n",
       "    'precipProbability': 0.13,\n",
       "    'precipType': 'rain',\n",
       "    'temperatureHigh': 40.41,\n",
       "    'temperatureHighTime': 1136149200,\n",
       "    'temperatureLow': 35.61,\n",
       "    'temperatureLowTime': 1136188800,\n",
       "    'apparentTemperatureHigh': 39.74,\n",
       "    'apparentTemperatureHighTime': 1136149200,\n",
       "    'apparentTemperatureLow': 36.26,\n",
       "    'apparentTemperatureLowTime': 1136188800,\n",
       "    'dewPoint': 30.83,\n",
       "    'humidity': 0.82,\n",
       "    'pressure': 1017.05,\n",
       "    'windSpeed': 1.53,\n",
       "    'windGust': 4.54,\n",
       "    'windGustTime': 1136091600,\n",
       "    'windBearing': 314,\n",
       "    'cloudCover': 0.95,\n",
       "    'uvIndex': 1,\n",
       "    'uvIndexTime': 1136134800,\n",
       "    'visibility': 8.522,\n",
       "    'temperatureMin': 30.73,\n",
       "    'temperatureMinTime': 1136106000,\n",
       "    'temperatureMax': 40.41,\n",
       "    'temperatureMaxTime': 1136149200,\n",
       "    'apparentTemperatureMin': 28.71,\n",
       "    'apparentTemperatureMinTime': 1136098800,\n",
       "    'apparentTemperatureMax': 39.74,\n",
       "    'apparentTemperatureMaxTime': 1136149200}]},\n",
       " 'offset': -5,\n",
       " 'date': datetime.datetime(2006, 1, 1, 0, 0)}"
      ]
     },
     "execution_count": 91,
     "metadata": {},
     "output_type": "execute_result"
    }
   ],
   "source": [
    "weather.find_one()"
   ]
  },
  {
   "cell_type": "code",
   "execution_count": 73,
   "metadata": {},
   "outputs": [
    {
     "data": {
      "text/html": [
       "<div>\n",
       "<style scoped>\n",
       "    .dataframe tbody tr th:only-of-type {\n",
       "        vertical-align: middle;\n",
       "    }\n",
       "\n",
       "    .dataframe tbody tr th {\n",
       "        vertical-align: top;\n",
       "    }\n",
       "\n",
       "    .dataframe thead th {\n",
       "        text-align: right;\n",
       "    }\n",
       "</style>\n",
       "<table border=\"1\" class=\"dataframe\">\n",
       "  <thead>\n",
       "    <tr style=\"text-align: right;\">\n",
       "      <th></th>\n",
       "      <th>time</th>\n",
       "      <th>summary</th>\n",
       "      <th>icon</th>\n",
       "      <th>sunriseTime</th>\n",
       "      <th>sunsetTime</th>\n",
       "      <th>moonPhase</th>\n",
       "      <th>precipIntensity</th>\n",
       "      <th>precipIntensityMax</th>\n",
       "      <th>precipIntensityMaxTime</th>\n",
       "      <th>precipProbability</th>\n",
       "      <th>...</th>\n",
       "      <th>uvIndexTime</th>\n",
       "      <th>visibility</th>\n",
       "      <th>temperatureMin</th>\n",
       "      <th>temperatureMinTime</th>\n",
       "      <th>temperatureMax</th>\n",
       "      <th>temperatureMaxTime</th>\n",
       "      <th>apparentTemperatureMin</th>\n",
       "      <th>apparentTemperatureMinTime</th>\n",
       "      <th>apparentTemperatureMax</th>\n",
       "      <th>apparentTemperatureMaxTime</th>\n",
       "    </tr>\n",
       "  </thead>\n",
       "  <tbody>\n",
       "    <tr>\n",
       "      <td>0</td>\n",
       "      <td>1136091600</td>\n",
       "      <td>Overcast throughout the day.</td>\n",
       "      <td>cloudy</td>\n",
       "      <td>1136118060</td>\n",
       "      <td>1136151594</td>\n",
       "      <td>0.07</td>\n",
       "      <td>0.0002</td>\n",
       "      <td>0.0017</td>\n",
       "      <td>1136142000</td>\n",
       "      <td>0.13</td>\n",
       "      <td>...</td>\n",
       "      <td>1136134800</td>\n",
       "      <td>8.522</td>\n",
       "      <td>30.73</td>\n",
       "      <td>1136106000</td>\n",
       "      <td>40.41</td>\n",
       "      <td>1136149200</td>\n",
       "      <td>28.71</td>\n",
       "      <td>1136098800</td>\n",
       "      <td>39.74</td>\n",
       "      <td>1136149200</td>\n",
       "    </tr>\n",
       "  </tbody>\n",
       "</table>\n",
       "<p>1 rows × 38 columns</p>\n",
       "</div>"
      ],
      "text/plain": [
       "         time                       summary    icon  sunriseTime  sunsetTime  \\\n",
       "0  1136091600  Overcast throughout the day.  cloudy   1136118060  1136151594   \n",
       "\n",
       "   moonPhase  precipIntensity  precipIntensityMax  precipIntensityMaxTime  \\\n",
       "0       0.07           0.0002              0.0017              1136142000   \n",
       "\n",
       "   precipProbability  ... uvIndexTime  visibility  temperatureMin  \\\n",
       "0               0.13  ...  1136134800       8.522           30.73   \n",
       "\n",
       "   temperatureMinTime  temperatureMax  temperatureMaxTime  \\\n",
       "0          1136106000           40.41          1136149200   \n",
       "\n",
       "   apparentTemperatureMin  apparentTemperatureMinTime  apparentTemperatureMax  \\\n",
       "0                   28.71                  1136098800                   39.74   \n",
       "\n",
       "   apparentTemperatureMaxTime  \n",
       "0                  1136149200  \n",
       "\n",
       "[1 rows x 38 columns]"
      ]
     },
     "execution_count": 73,
     "metadata": {},
     "output_type": "execute_result"
    }
   ],
   "source": [
    "pd.DataFrame(weather.find_one()['daily']['data'])"
   ]
  },
  {
   "cell_type": "code",
   "execution_count": 188,
   "metadata": {},
   "outputs": [
    {
     "data": {
      "text/html": [
       "<div>\n",
       "<style scoped>\n",
       "    .dataframe tbody tr th:only-of-type {\n",
       "        vertical-align: middle;\n",
       "    }\n",
       "\n",
       "    .dataframe tbody tr th {\n",
       "        vertical-align: top;\n",
       "    }\n",
       "\n",
       "    .dataframe thead th {\n",
       "        text-align: right;\n",
       "    }\n",
       "</style>\n",
       "<table border=\"1\" class=\"dataframe\">\n",
       "  <thead>\n",
       "    <tr style=\"text-align: right;\">\n",
       "      <th></th>\n",
       "    </tr>\n",
       "  </thead>\n",
       "  <tbody>\n",
       "  </tbody>\n",
       "</table>\n",
       "</div>"
      ],
      "text/plain": [
       "Empty DataFrame\n",
       "Columns: []\n",
       "Index: []"
      ]
     },
     "execution_count": 188,
     "metadata": {},
     "output_type": "execute_result"
    }
   ],
   "source": [
    "weather_df = pd.DataFrame()\n",
    "weather_df.head()"
   ]
  },
  {
   "cell_type": "code",
   "execution_count": 189,
   "metadata": {},
   "outputs": [],
   "source": [
    "# load extracted data into weather data frame\n",
    "for day in weather.find():\n",
    "    daily_data = day['daily']['data']\n",
    "    if len(daily_data) == 0:\n",
    "        print(\"No daily data for \", day['date'])\n",
    "    else:\n",
    "        daily_data[0]['date'] = day['date']\n",
    "        weather_df = weather_df.append(daily_data[0], ignore_index=True)\n",
    "\n",
    "# save weather dataframe as csv\n",
    "weather_df.to_csv('../nyc_weather.csv')"
   ]
  },
  {
   "cell_type": "code",
   "execution_count": 190,
   "metadata": {},
   "outputs": [
    {
     "name": "stdout",
     "output_type": "stream",
     "text": [
      "<class 'pandas.core.frame.DataFrame'>\n",
      "RangeIndex: 4929 entries, 0 to 4928\n",
      "Data columns (total 41 columns):\n",
      "apparentTemperatureHigh        4929 non-null float64\n",
      "apparentTemperatureHighTime    4929 non-null float64\n",
      "apparentTemperatureLow         4929 non-null float64\n",
      "apparentTemperatureLowTime     4929 non-null float64\n",
      "apparentTemperatureMax         4929 non-null float64\n",
      "apparentTemperatureMaxTime     4929 non-null float64\n",
      "apparentTemperatureMin         4929 non-null float64\n",
      "apparentTemperatureMinTime     4929 non-null float64\n",
      "cloudCover                     4929 non-null float64\n",
      "date                           4929 non-null datetime64[ns]\n",
      "dewPoint                       4929 non-null float64\n",
      "humidity                       4929 non-null float64\n",
      "icon                           4929 non-null object\n",
      "moonPhase                      4929 non-null float64\n",
      "precipIntensity                4929 non-null float64\n",
      "precipIntensityMax             4929 non-null float64\n",
      "precipIntensityMaxTime         2254 non-null float64\n",
      "precipProbability              4929 non-null float64\n",
      "precipType                     1965 non-null object\n",
      "pressure                       4929 non-null float64\n",
      "summary                        4929 non-null object\n",
      "sunriseTime                    4929 non-null float64\n",
      "sunsetTime                     4929 non-null float64\n",
      "temperatureHigh                4929 non-null float64\n",
      "temperatureHighTime            4929 non-null float64\n",
      "temperatureLow                 4929 non-null float64\n",
      "temperatureLowTime             4929 non-null float64\n",
      "temperatureMax                 4929 non-null float64\n",
      "temperatureMaxTime             4929 non-null float64\n",
      "temperatureMin                 4929 non-null float64\n",
      "temperatureMinTime             4929 non-null float64\n",
      "time                           4929 non-null float64\n",
      "uvIndex                        4929 non-null float64\n",
      "uvIndexTime                    4929 non-null float64\n",
      "visibility                     4929 non-null float64\n",
      "windBearing                    4929 non-null float64\n",
      "windGust                       4929 non-null float64\n",
      "windGustTime                   4929 non-null float64\n",
      "windSpeed                      4929 non-null float64\n",
      "precipAccumulation             140 non-null float64\n",
      "ozone                          257 non-null float64\n",
      "dtypes: datetime64[ns](1), float64(37), object(3)\n",
      "memory usage: 1.5+ MB\n"
     ]
    }
   ],
   "source": [
    "weather_df.info()"
   ]
  },
  {
   "cell_type": "code",
   "execution_count": 121,
   "metadata": {},
   "outputs": [
    {
     "data": {
      "text/html": [
       "<div>\n",
       "<style scoped>\n",
       "    .dataframe tbody tr th:only-of-type {\n",
       "        vertical-align: middle;\n",
       "    }\n",
       "\n",
       "    .dataframe tbody tr th {\n",
       "        vertical-align: top;\n",
       "    }\n",
       "\n",
       "    .dataframe thead th {\n",
       "        text-align: right;\n",
       "    }\n",
       "</style>\n",
       "<table border=\"1\" class=\"dataframe\">\n",
       "  <thead>\n",
       "    <tr style=\"text-align: right;\">\n",
       "      <th></th>\n",
       "      <th>apparentTemperatureHigh</th>\n",
       "      <th>apparentTemperatureHighTime</th>\n",
       "      <th>apparentTemperatureLow</th>\n",
       "      <th>apparentTemperatureLowTime</th>\n",
       "      <th>apparentTemperatureMax</th>\n",
       "      <th>apparentTemperatureMaxTime</th>\n",
       "      <th>apparentTemperatureMin</th>\n",
       "      <th>apparentTemperatureMinTime</th>\n",
       "      <th>cloudCover</th>\n",
       "      <th>date</th>\n",
       "      <th>...</th>\n",
       "      <th>time</th>\n",
       "      <th>uvIndex</th>\n",
       "      <th>uvIndexTime</th>\n",
       "      <th>visibility</th>\n",
       "      <th>windBearing</th>\n",
       "      <th>windGust</th>\n",
       "      <th>windGustTime</th>\n",
       "      <th>windSpeed</th>\n",
       "      <th>precipAccumulation</th>\n",
       "      <th>ozone</th>\n",
       "    </tr>\n",
       "  </thead>\n",
       "  <tbody>\n",
       "    <tr>\n",
       "      <td>4672</td>\n",
       "      <td>62.28</td>\n",
       "      <td>1.539806e+09</td>\n",
       "      <td>36.66</td>\n",
       "      <td>1.539864e+09</td>\n",
       "      <td>62.28</td>\n",
       "      <td>1.539806e+09</td>\n",
       "      <td>41.49</td>\n",
       "      <td>1.539774e+09</td>\n",
       "      <td>0.26</td>\n",
       "      <td>2018-10-17</td>\n",
       "      <td>...</td>\n",
       "      <td>1.539749e+09</td>\n",
       "      <td>4.0</td>\n",
       "      <td>1.539796e+09</td>\n",
       "      <td>9.813</td>\n",
       "      <td>278.0</td>\n",
       "      <td>19.98</td>\n",
       "      <td>1.539788e+09</td>\n",
       "      <td>8.66</td>\n",
       "      <td>NaN</td>\n",
       "      <td>297.9</td>\n",
       "    </tr>\n",
       "    <tr>\n",
       "      <td>4673</td>\n",
       "      <td>51.01</td>\n",
       "      <td>1.539893e+09</td>\n",
       "      <td>35.29</td>\n",
       "      <td>1.539943e+09</td>\n",
       "      <td>51.01</td>\n",
       "      <td>1.539893e+09</td>\n",
       "      <td>36.66</td>\n",
       "      <td>1.539864e+09</td>\n",
       "      <td>0.17</td>\n",
       "      <td>2018-10-18</td>\n",
       "      <td>...</td>\n",
       "      <td>1.539835e+09</td>\n",
       "      <td>4.0</td>\n",
       "      <td>1.539882e+09</td>\n",
       "      <td>9.949</td>\n",
       "      <td>312.0</td>\n",
       "      <td>15.12</td>\n",
       "      <td>1.539893e+09</td>\n",
       "      <td>8.56</td>\n",
       "      <td>NaN</td>\n",
       "      <td>312.5</td>\n",
       "    </tr>\n",
       "    <tr>\n",
       "      <td>4674</td>\n",
       "      <td>60.16</td>\n",
       "      <td>1.539976e+09</td>\n",
       "      <td>54.18</td>\n",
       "      <td>1.540030e+09</td>\n",
       "      <td>60.16</td>\n",
       "      <td>1.539976e+09</td>\n",
       "      <td>35.29</td>\n",
       "      <td>1.539943e+09</td>\n",
       "      <td>0.05</td>\n",
       "      <td>2018-10-19</td>\n",
       "      <td>...</td>\n",
       "      <td>1.539922e+09</td>\n",
       "      <td>4.0</td>\n",
       "      <td>1.539968e+09</td>\n",
       "      <td>9.863</td>\n",
       "      <td>236.0</td>\n",
       "      <td>10.93</td>\n",
       "      <td>1.539976e+09</td>\n",
       "      <td>6.38</td>\n",
       "      <td>NaN</td>\n",
       "      <td>296.1</td>\n",
       "    </tr>\n",
       "    <tr>\n",
       "      <td>4675</td>\n",
       "      <td>62.32</td>\n",
       "      <td>1.540066e+09</td>\n",
       "      <td>42.09</td>\n",
       "      <td>1.540123e+09</td>\n",
       "      <td>62.32</td>\n",
       "      <td>1.540066e+09</td>\n",
       "      <td>52.18</td>\n",
       "      <td>1.540091e+09</td>\n",
       "      <td>0.73</td>\n",
       "      <td>2018-10-20</td>\n",
       "      <td>...</td>\n",
       "      <td>1.540008e+09</td>\n",
       "      <td>3.0</td>\n",
       "      <td>1.540055e+09</td>\n",
       "      <td>9.894</td>\n",
       "      <td>244.0</td>\n",
       "      <td>11.31</td>\n",
       "      <td>1.540048e+09</td>\n",
       "      <td>7.76</td>\n",
       "      <td>NaN</td>\n",
       "      <td>295.7</td>\n",
       "    </tr>\n",
       "    <tr>\n",
       "      <td>4676</td>\n",
       "      <td>43.68</td>\n",
       "      <td>1.540120e+09</td>\n",
       "      <td>32.06</td>\n",
       "      <td>1.540206e+09</td>\n",
       "      <td>52.09</td>\n",
       "      <td>1.540094e+09</td>\n",
       "      <td>36.08</td>\n",
       "      <td>1.540174e+09</td>\n",
       "      <td>0.62</td>\n",
       "      <td>2018-10-21</td>\n",
       "      <td>...</td>\n",
       "      <td>1.540094e+09</td>\n",
       "      <td>2.0</td>\n",
       "      <td>1.540138e+09</td>\n",
       "      <td>9.916</td>\n",
       "      <td>325.0</td>\n",
       "      <td>24.19</td>\n",
       "      <td>1.540152e+09</td>\n",
       "      <td>9.83</td>\n",
       "      <td>NaN</td>\n",
       "      <td>331.0</td>\n",
       "    </tr>\n",
       "  </tbody>\n",
       "</table>\n",
       "<p>5 rows × 41 columns</p>\n",
       "</div>"
      ],
      "text/plain": [
       "      apparentTemperatureHigh  apparentTemperatureHighTime  \\\n",
       "4672                    62.28                 1.539806e+09   \n",
       "4673                    51.01                 1.539893e+09   \n",
       "4674                    60.16                 1.539976e+09   \n",
       "4675                    62.32                 1.540066e+09   \n",
       "4676                    43.68                 1.540120e+09   \n",
       "\n",
       "      apparentTemperatureLow  apparentTemperatureLowTime  \\\n",
       "4672                   36.66                1.539864e+09   \n",
       "4673                   35.29                1.539943e+09   \n",
       "4674                   54.18                1.540030e+09   \n",
       "4675                   42.09                1.540123e+09   \n",
       "4676                   32.06                1.540206e+09   \n",
       "\n",
       "      apparentTemperatureMax  apparentTemperatureMaxTime  \\\n",
       "4672                   62.28                1.539806e+09   \n",
       "4673                   51.01                1.539893e+09   \n",
       "4674                   60.16                1.539976e+09   \n",
       "4675                   62.32                1.540066e+09   \n",
       "4676                   52.09                1.540094e+09   \n",
       "\n",
       "      apparentTemperatureMin  apparentTemperatureMinTime  cloudCover  \\\n",
       "4672                   41.49                1.539774e+09        0.26   \n",
       "4673                   36.66                1.539864e+09        0.17   \n",
       "4674                   35.29                1.539943e+09        0.05   \n",
       "4675                   52.18                1.540091e+09        0.73   \n",
       "4676                   36.08                1.540174e+09        0.62   \n",
       "\n",
       "           date  ...          time  uvIndex   uvIndexTime  visibility  \\\n",
       "4672 2018-10-17  ...  1.539749e+09      4.0  1.539796e+09       9.813   \n",
       "4673 2018-10-18  ...  1.539835e+09      4.0  1.539882e+09       9.949   \n",
       "4674 2018-10-19  ...  1.539922e+09      4.0  1.539968e+09       9.863   \n",
       "4675 2018-10-20  ...  1.540008e+09      3.0  1.540055e+09       9.894   \n",
       "4676 2018-10-21  ...  1.540094e+09      2.0  1.540138e+09       9.916   \n",
       "\n",
       "      windBearing  windGust  windGustTime  windSpeed precipAccumulation  ozone  \n",
       "4672        278.0     19.98  1.539788e+09       8.66                NaN  297.9  \n",
       "4673        312.0     15.12  1.539893e+09       8.56                NaN  312.5  \n",
       "4674        236.0     10.93  1.539976e+09       6.38                NaN  296.1  \n",
       "4675        244.0     11.31  1.540048e+09       7.76                NaN  295.7  \n",
       "4676        325.0     24.19  1.540152e+09       9.83                NaN  331.0  \n",
       "\n",
       "[5 rows x 41 columns]"
      ]
     },
     "execution_count": 121,
     "metadata": {},
     "output_type": "execute_result"
    }
   ],
   "source": [
    "# investigate ozone non-null. Seem to be a new data point.\n",
    "ozone = weather_df[~np.isnan(weather_df['ozone'])]\n",
    "ozone.head()"
   ]
  },
  {
   "cell_type": "markdown",
   "metadata": {},
   "source": [
    "# Load arrests data (historic)"
   ]
  },
  {
   "cell_type": "code",
   "execution_count": 237,
   "metadata": {},
   "outputs": [],
   "source": [
    "arrests_hist_df = pd.read_csv('../nyc_hist.csv')\n",
    "arrests_ytd_df = pd.read_csv('../nyc_ytd.csv')\n",
    "arrests_df = pd.concat([arrests_hist_df, arrests_ytd_df], ignore_index=True,)"
   ]
  },
  {
   "cell_type": "code",
   "execution_count": 238,
   "metadata": {},
   "outputs": [],
   "source": [
    "arrests_df['ARREST_DATE'] = pd.to_datetime(arrests_df['ARREST_DATE'])\n",
    "arrests_df.columns = [x.lower() for x in arrests_df.columns]"
   ]
  },
  {
   "cell_type": "code",
   "execution_count": 239,
   "metadata": {},
   "outputs": [
    {
     "name": "stdout",
     "output_type": "stream",
     "text": [
      "<class 'pandas.core.frame.DataFrame'>\n",
      "RangeIndex: 4911990 entries, 0 to 4911989\n",
      "Data columns (total 18 columns):\n",
      "arrest_key           int64\n",
      "arrest_date          datetime64[ns]\n",
      "pd_cd                float64\n",
      "pd_desc              object\n",
      "ky_cd                float64\n",
      "ofns_desc            object\n",
      "law_code             object\n",
      "law_cat_cd           object\n",
      "arrest_boro          object\n",
      "arrest_precinct      int64\n",
      "jurisdiction_code    float64\n",
      "age_group            object\n",
      "perp_sex             object\n",
      "perp_race            object\n",
      "x_coord_cd           float64\n",
      "y_coord_cd           float64\n",
      "latitude             float64\n",
      "longitude            float64\n",
      "dtypes: datetime64[ns](1), float64(7), int64(2), object(8)\n",
      "memory usage: 674.6+ MB\n"
     ]
    }
   ],
   "source": [
    "arrests_df.info()"
   ]
  },
  {
   "cell_type": "markdown",
   "metadata": {},
   "source": [
    "# Map new york"
   ]
  },
  {
   "cell_type": "code",
   "execution_count": 1,
   "metadata": {},
   "outputs": [],
   "source": [
    "import folium"
   ]
  },
  {
   "cell_type": "code",
   "execution_count": 2,
   "metadata": {},
   "outputs": [],
   "source": [
    "m = folium.Map(location=[40.7420, -73.9073], zoom_start=12, tiles='Stamen Terrain')"
   ]
  },
  {
   "cell_type": "code",
   "execution_count": 5,
   "metadata": {},
   "outputs": [
    {
     "data": {
      "text/plain": [
       "<folium.map.Marker at 0x12404a150>"
      ]
     },
     "execution_count": 5,
     "metadata": {},
     "output_type": "execute_result"
    }
   ],
   "source": [
    "folium.Marker(location=[40.723011, -73.990142]).add_to(m)\n",
    "folium.Marker(location=[40.729625, -73.991106]).add_to(m)\n",
    "\n",
    "\n",
    "# for index in arrs.index:\n",
    "#     folium.Marker(location=[arrs.loc[index, 'Latitude'], arrs.loc[index, 'Longitude']], \n",
    "#                   icon=folium.Icon()\n",
    "#     ).add_to(m)"
   ]
  },
  {
   "cell_type": "code",
   "execution_count": 6,
   "metadata": {
    "scrolled": true
   },
   "outputs": [
    {
     "data": {
      "text/html": [
       "<div style=\"width:100%;\"><div style=\"position:relative;width:100%;height:0;padding-bottom:60%;\"><iframe src=\"data:text/html;charset=utf-8;base64,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\" style=\"position:absolute;width:100%;height:100%;left:0;top:0;border:none !important;\" allowfullscreen webkitallowfullscreen mozallowfullscreen></iframe></div></div>"
      ],
      "text/plain": [
       "<folium.folium.Map at 0x122e9a8d0>"
      ]
     },
     "execution_count": 6,
     "metadata": {},
     "output_type": "execute_result"
    }
   ],
   "source": [
    "m"
   ]
  },
  {
   "cell_type": "code",
   "execution_count": null,
   "metadata": {},
   "outputs": [],
   "source": []
  },
  {
   "cell_type": "markdown",
   "metadata": {},
   "source": [
    "# Load database\n",
    "Load arrests data and weather data into walk postgresql database"
   ]
  },
  {
   "cell_type": "code",
   "execution_count": 5,
   "metadata": {},
   "outputs": [],
   "source": [
    "from sqlalchemy import create_engine"
   ]
  },
  {
   "cell_type": "code",
   "execution_count": 6,
   "metadata": {},
   "outputs": [],
   "source": [
    "engine = create_engine('postgresql:///walk')"
   ]
  },
  {
   "cell_type": "code",
   "execution_count": 244,
   "metadata": {},
   "outputs": [],
   "source": [
    "# load arrests_df into postgres database \"walk\"\n",
    "arrests_df.to_sql('arrests', engine, index=False)"
   ]
  },
  {
   "cell_type": "code",
   "execution_count": 179,
   "metadata": {},
   "outputs": [],
   "source": [
    "# load weather_df into postgres database \"walk\"\n",
    "weather_df.to_sql('nyc_weather', engine, index=False)"
   ]
  },
  {
   "cell_type": "markdown",
   "metadata": {},
   "source": [
    "## Load latitude, longitude coordinates into db"
   ]
  },
  {
   "cell_type": "code",
   "execution_count": 3,
   "metadata": {},
   "outputs": [
    {
     "data": {
      "text/html": [
       "<div>\n",
       "<style scoped>\n",
       "    .dataframe tbody tr th:only-of-type {\n",
       "        vertical-align: middle;\n",
       "    }\n",
       "\n",
       "    .dataframe tbody tr th {\n",
       "        vertical-align: top;\n",
       "    }\n",
       "\n",
       "    .dataframe thead th {\n",
       "        text-align: right;\n",
       "    }\n",
       "</style>\n",
       "<table border=\"1\" class=\"dataframe\">\n",
       "  <thead>\n",
       "    <tr style=\"text-align: right;\">\n",
       "      <th></th>\n",
       "      <th>Unnamed: 0</th>\n",
       "      <th>latitude</th>\n",
       "      <th>longitude</th>\n",
       "      <th>geometry</th>\n",
       "      <th>in_man</th>\n",
       "    </tr>\n",
       "  </thead>\n",
       "  <tbody>\n",
       "    <tr>\n",
       "      <td>0</td>\n",
       "      <td>170</td>\n",
       "      <td>40.683</td>\n",
       "      <td>-74.023</td>\n",
       "      <td>POINT (-74.02300000000001 40.683)</td>\n",
       "      <td>True</td>\n",
       "    </tr>\n",
       "    <tr>\n",
       "      <td>1</td>\n",
       "      <td>313</td>\n",
       "      <td>40.684</td>\n",
       "      <td>-74.024</td>\n",
       "      <td>POINT (-74.024 40.684)</td>\n",
       "      <td>True</td>\n",
       "    </tr>\n",
       "    <tr>\n",
       "      <td>2</td>\n",
       "      <td>325</td>\n",
       "      <td>40.684</td>\n",
       "      <td>-74.012</td>\n",
       "      <td>POINT (-74.012 40.684)</td>\n",
       "      <td>True</td>\n",
       "    </tr>\n",
       "    <tr>\n",
       "      <td>3</td>\n",
       "      <td>455</td>\n",
       "      <td>40.685</td>\n",
       "      <td>-74.026</td>\n",
       "      <td>POINT (-74.02600000000001 40.685)</td>\n",
       "      <td>True</td>\n",
       "    </tr>\n",
       "    <tr>\n",
       "      <td>4</td>\n",
       "      <td>456</td>\n",
       "      <td>40.685</td>\n",
       "      <td>-74.025</td>\n",
       "      <td>POINT (-74.02500000000001 40.685)</td>\n",
       "      <td>True</td>\n",
       "    </tr>\n",
       "  </tbody>\n",
       "</table>\n",
       "</div>"
      ],
      "text/plain": [
       "   Unnamed: 0  latitude  longitude                           geometry  in_man\n",
       "0         170    40.683    -74.023  POINT (-74.02300000000001 40.683)    True\n",
       "1         313    40.684    -74.024             POINT (-74.024 40.684)    True\n",
       "2         325    40.684    -74.012             POINT (-74.012 40.684)    True\n",
       "3         455    40.685    -74.026  POINT (-74.02600000000001 40.685)    True\n",
       "4         456    40.685    -74.025  POINT (-74.02500000000001 40.685)    True"
      ]
     },
     "execution_count": 3,
     "metadata": {},
     "output_type": "execute_result"
    }
   ],
   "source": [
    "lat_longs_df = pd.read_csv('./geopandas/man_lat_longs.csv')\n",
    "lat_longs_df.head()"
   ]
  },
  {
   "cell_type": "code",
   "execution_count": 4,
   "metadata": {},
   "outputs": [
    {
     "data": {
      "text/html": [
       "<div>\n",
       "<style scoped>\n",
       "    .dataframe tbody tr th:only-of-type {\n",
       "        vertical-align: middle;\n",
       "    }\n",
       "\n",
       "    .dataframe tbody tr th {\n",
       "        vertical-align: top;\n",
       "    }\n",
       "\n",
       "    .dataframe thead th {\n",
       "        text-align: right;\n",
       "    }\n",
       "</style>\n",
       "<table border=\"1\" class=\"dataframe\">\n",
       "  <thead>\n",
       "    <tr style=\"text-align: right;\">\n",
       "      <th></th>\n",
       "      <th>latitude</th>\n",
       "      <th>longitude</th>\n",
       "    </tr>\n",
       "  </thead>\n",
       "  <tbody>\n",
       "    <tr>\n",
       "      <td>0</td>\n",
       "      <td>40.683</td>\n",
       "      <td>-74.023</td>\n",
       "    </tr>\n",
       "    <tr>\n",
       "      <td>1</td>\n",
       "      <td>40.684</td>\n",
       "      <td>-74.024</td>\n",
       "    </tr>\n",
       "    <tr>\n",
       "      <td>2</td>\n",
       "      <td>40.684</td>\n",
       "      <td>-74.012</td>\n",
       "    </tr>\n",
       "    <tr>\n",
       "      <td>3</td>\n",
       "      <td>40.685</td>\n",
       "      <td>-74.026</td>\n",
       "    </tr>\n",
       "    <tr>\n",
       "      <td>4</td>\n",
       "      <td>40.685</td>\n",
       "      <td>-74.025</td>\n",
       "    </tr>\n",
       "  </tbody>\n",
       "</table>\n",
       "</div>"
      ],
      "text/plain": [
       "   latitude  longitude\n",
       "0    40.683    -74.023\n",
       "1    40.684    -74.024\n",
       "2    40.684    -74.012\n",
       "3    40.685    -74.026\n",
       "4    40.685    -74.025"
      ]
     },
     "execution_count": 4,
     "metadata": {},
     "output_type": "execute_result"
    }
   ],
   "source": [
    "lat_longs_df = lat_longs_df.loc[ : , 'latitude':'longitude']\n",
    "lat_longs_df.head()"
   ]
  },
  {
   "cell_type": "code",
   "execution_count": 8,
   "metadata": {},
   "outputs": [],
   "source": [
    "lat_longs_df.to_sql('manhattan_points', engine, index=True)"
   ]
  },
  {
   "cell_type": "markdown",
   "metadata": {},
   "source": [
    "## Load dates into sql database"
   ]
  },
  {
   "cell_type": "code",
   "execution_count": 3,
   "metadata": {},
   "outputs": [],
   "source": [
    "from weather import get_dates_list\n",
    "from datetime import datetime\n",
    "\n",
    "# get most recent date from NYC's year to date arrests\n",
    "final_date_df = pd.read_csv('../nyc_ytd.csv', \n",
    "                    usecols=['ARREST_DATE'],\n",
    "                    nrows=2)\n",
    "final_date = datetime.strptime(final_date_df.loc[0, 'ARREST_DATE'], '%m/%d/%Y')\n",
    "\n",
    "initial_date = datetime.strptime('01/01/2006', '%m/%d/%Y')\n",
    "\n",
    "dates = get_dates_list(initial_date, final_date)"
   ]
  },
  {
   "cell_type": "code",
   "execution_count": 11,
   "metadata": {},
   "outputs": [],
   "source": [
    "dates_df = pd.DataFrame(dates, columns=['date'])"
   ]
  },
  {
   "cell_type": "code",
   "execution_count": 12,
   "metadata": {},
   "outputs": [
    {
     "data": {
      "text/html": [
       "<div>\n",
       "<style scoped>\n",
       "    .dataframe tbody tr th:only-of-type {\n",
       "        vertical-align: middle;\n",
       "    }\n",
       "\n",
       "    .dataframe tbody tr th {\n",
       "        vertical-align: top;\n",
       "    }\n",
       "\n",
       "    .dataframe thead th {\n",
       "        text-align: right;\n",
       "    }\n",
       "</style>\n",
       "<table border=\"1\" class=\"dataframe\">\n",
       "  <thead>\n",
       "    <tr style=\"text-align: right;\">\n",
       "      <th></th>\n",
       "      <th>date</th>\n",
       "    </tr>\n",
       "  </thead>\n",
       "  <tbody>\n",
       "    <tr>\n",
       "      <td>0</td>\n",
       "      <td>2006-01-01</td>\n",
       "    </tr>\n",
       "    <tr>\n",
       "      <td>1</td>\n",
       "      <td>2006-01-02</td>\n",
       "    </tr>\n",
       "    <tr>\n",
       "      <td>2</td>\n",
       "      <td>2006-01-03</td>\n",
       "    </tr>\n",
       "    <tr>\n",
       "      <td>3</td>\n",
       "      <td>2006-01-04</td>\n",
       "    </tr>\n",
       "    <tr>\n",
       "      <td>4</td>\n",
       "      <td>2006-01-05</td>\n",
       "    </tr>\n",
       "  </tbody>\n",
       "</table>\n",
       "</div>"
      ],
      "text/plain": [
       "        date\n",
       "0 2006-01-01\n",
       "1 2006-01-02\n",
       "2 2006-01-03\n",
       "3 2006-01-04\n",
       "4 2006-01-05"
      ]
     },
     "execution_count": 12,
     "metadata": {},
     "output_type": "execute_result"
    }
   ],
   "source": [
    "dates_df.head()"
   ]
  },
  {
   "cell_type": "code",
   "execution_count": 13,
   "metadata": {},
   "outputs": [],
   "source": [
    "dates_df.to_sql('dates', engine, index=True)"
   ]
  },
  {
   "cell_type": "code",
   "execution_count": null,
   "metadata": {},
   "outputs": [],
   "source": []
  },
  {
   "cell_type": "code",
   "execution_count": 1,
   "metadata": {},
   "outputs": [],
   "source": [
    "from results import get_backend_results\n",
    "import folium"
   ]
  },
  {
   "cell_type": "code",
   "execution_count": 2,
   "metadata": {},
   "outputs": [],
   "source": [
    "data = {\n",
    "    'start_lat': '40.739960',\n",
    "    'start_long': '-73.985315',\n",
    "    'end_lat': '40.710029',\n",
    "    'end_long': '-73.991583'\n",
    "}"
   ]
  },
  {
   "cell_type": "code",
   "execution_count": 3,
   "metadata": {},
   "outputs": [
    {
     "name": "stdout",
     "output_type": "stream",
     "text": [
      "200 OK\n"
     ]
    }
   ],
   "source": [
    "m, risk, warning = get_backend_results(data['start_lat'], \n",
    "                                        data['start_long'],\n",
    "                                        data['end_lat'],\n",
    "                                        data['end_long']\n",
    "                                        )"
   ]
  },
  {
   "cell_type": "code",
   "execution_count": 9,
   "metadata": {},
   "outputs": [
    {
     "data": {
      "text/plain": [
       "\"['Walking directions are in beta. Use caution – This route may be missing sidewalks or pedestrian paths.']\""
      ]
     },
     "execution_count": 9,
     "metadata": {},
     "output_type": "execute_result"
    }
   ],
   "source": [
    "warning"
   ]
  },
  {
   "cell_type": "code",
   "execution_count": null,
   "metadata": {},
   "outputs": [],
   "source": []
  }
 ],
 "metadata": {
  "file_extension": ".py",
  "kernelspec": {
   "display_name": "Python 3 (walk-env)",
   "language": "python",
   "name": "walk-env"
  },
  "language_info": {
   "codemirror_mode": {
    "name": "ipython",
    "version": 3
   },
   "file_extension": ".py",
   "mimetype": "text/x-python",
   "name": "python",
   "nbconvert_exporter": "python",
   "pygments_lexer": "ipython3",
   "version": "3.7.4"
  },
  "mimetype": "text/x-python",
  "name": "python",
  "npconvert_exporter": "python",
  "pygments_lexer": "ipython3",
  "version": 3
 },
 "nbformat": 4,
 "nbformat_minor": 2
}
