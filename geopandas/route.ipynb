{
 "cells": [
  {
   "cell_type": "markdown",
   "metadata": {},
   "source": [
    "# This notebook calls to the openroute service api"
   ]
  },
  {
   "cell_type": "code",
   "execution_count": 5,
   "metadata": {},
   "outputs": [],
   "source": [
    "# load necessary modules\n",
    "import requests\n",
    "import json"
   ]
  },
  {
   "cell_type": "code",
   "execution_count": 6,
   "metadata": {},
   "outputs": [],
   "source": [
    "start_loc = '40.723011,-73.990142'\n",
    "end_loc = '40.717978,-73.992910'"
   ]
  },
  {
   "cell_type": "code",
   "execution_count": 23,
   "metadata": {},
   "outputs": [],
   "source": [
    "def get_mapquest_route(secret_loc, start_loc, end_loc):\n",
    "    \"\"\"Calls to mapquest API to return a JSON of the recommended route.\n",
    "    \n",
    "    Args:\n",
    "        secret_loc: location of file with api key\n",
    "        start_loc: starting location of the desired walk \n",
    "            (long,lat stringw/out spaces)\n",
    "        end_loc: ending location of the desired walk \n",
    "            (long,lat string w/out spaces)\n",
    "        \n",
    "    Returns:\n",
    "        JSON of the recommended path\n",
    "    \"\"\"\n",
    "    base_url = 'http://www.mapquestapi.com/directions/v2/route?'\n",
    "    with open(secret_loc, \"r\") as f:\n",
    "        key = json.load(f)['key']\n",
    "    url = f\"{base_url}key={key}&from={start_loc}&to={end_loc}&routeType=pedestrian\"\n",
    "    response = requests.get(url)\n",
    "    print(response.status_code, response.reason)\n",
    "    route_json = json.loads(response.text)\n",
    "    return route_json"
   ]
  },
  {
   "cell_type": "code",
   "execution_count": 16,
   "metadata": {},
   "outputs": [
    {
     "name": "stdout",
     "output_type": "stream",
     "text": [
      "200 OK\n",
      "{\"route\":{\"hasTollRoad\":false,\"hasBridge\":false,\"boundingBox\":{\"lr\":{\"lng\":-73.990417,\"lat\":40.717907},\"ul\":{\"lng\":-73.993095,\"lat\":40.723141}},\"distance\":0.387,\"hasTimedRestriction\":false,\"hasTunnel\":false,\"hasHighway\":false,\"computedWaypoints\":[],\"routeError\":{\"errorCode\":-400,\"message\":\"\"},\"formattedTime\":\"00:09:18\",\"sessionId\":\"5db87b6f-01a9-5f21-02b4-1936-0684448a126e\",\"hasAccessRestriction\":false,\"realTime\":558,\"hasSeasonalClosure\":false,\"hasCountryCross\":false,\"fuelUsed\":0,\"legs\":[{\"hasTollRoad\":false,\"hasBridge\":false,\"destNarrative\":\"\",\"distance\":0.387,\"hasTimedRestriction\":false,\"hasTunnel\":false,\"hasHighway\":false,\"index\":0,\"formattedTime\":\"00:09:18\",\"origIndex\":-1,\"hasAccessRestriction\":false,\"hasSeasonalClosure\":false,\"hasCountryCross\":false,\"roadGradeStrategy\":[[]],\"destIndex\":-1,\"time\":558,\"hasUnpaved\":false,\"origNarrative\":\"\",\"maneuvers\":[{\"distance\":0.387,\"streets\":[\"Forsyth St\"],\"narrative\":\"Start out going south on Forsyth St toward Stanton St.\",\"turnType\":6,\"startPoint\":{\"lng\":-73.990417,\"lat\":40.723141},\"index\":0,\"formattedTime\":\"00:09:18\",\"directionName\":\"South\",\"maneuverNotes\":[],\"linkIds\":[],\"signs\":[],\"mapUrl\":\"http://www.mapquestapi.com/staticmap/v5/map?key=C2jeDbeaNWllFPhIf7W81qxzOGzJ86E7&size=225,160&locations=40.723140716552734,-73.99041748046875|marker-1||40.7179069519043,-73.99309539794922|marker-2||&center=40.720523834228516,-73.99175643920898&defaultMarker=none&zoom=11&rand=-1755820315&session=5db87b6f-01a9-5f21-02b4-1936-0684448a126e\",\"transportMode\":\"WALKING\",\"attributes\":0,\"time\":558,\"iconUrl\":\"http://content.mqcdn.com/mqsite/turnsigns/icon-dirs-start_sm.gif\",\"direction\":4},{\"distance\":0,\"streets\":[],\"narrative\":\"92 FORSYTH ST is on the left.\",\"turnType\":-1,\"startPoint\":{\"lng\":-73.993095,\"lat\":40.717907},\"index\":1,\"formattedTime\":\"00:00:00\",\"directionName\":\"\",\"maneuverNotes\":[],\"linkIds\":[],\"signs\":[],\"transportMode\":\"AUTO\",\"attributes\":0,\"time\":0,\"iconUrl\":\"http://content.mqcdn.com/mqsite/turnsigns/icon-dirs-end_sm.gif\",\"direction\":0}],\"hasFerry\":false}],\"options\":{\"arteryWeights\":[],\"cyclingRoadFactor\":1,\"timeType\":0,\"useTraffic\":false,\"returnLinkDirections\":false,\"countryBoundaryDisplay\":true,\"enhancedNarrative\":false,\"locale\":\"en_US\",\"tryAvoidLinkIds\":[],\"drivingStyle\":2,\"doReverseGeocode\":true,\"generalize\":-1,\"mustAvoidLinkIds\":[],\"sideOfStreetDisplay\":true,\"routeType\":\"PEDESTRIAN\",\"avoidTimedConditions\":false,\"routeNumber\":0,\"shapeFormat\":\"raw\",\"maxWalkingDistance\":-1,\"destinationManeuverDisplay\":true,\"transferPenalty\":-1,\"narrativeType\":\"text\",\"walkingSpeed\":-1,\"urbanAvoidFactor\":-1,\"stateBoundaryDisplay\":true,\"unit\":\"M\",\"highwayEfficiency\":22,\"maxLinkId\":0,\"maneuverPenalty\":-1,\"avoidTripIds\":[],\"filterZoneFactor\":-1,\"manmaps\":\"true\"},\"locations\":[{\"dragPoint\":false,\"displayLatLng\":{\"lng\":-73.990142,\"lat\":40.723011},\"adminArea4\":\"New York\",\"adminArea5\":\"New York\",\"postalCode\":\"10002-1307\",\"adminArea1\":\"US\",\"adminArea3\":\"NY\",\"type\":\"s\",\"sideOfStreet\":\"R\",\"geocodeQualityCode\":\"P1AAA\",\"adminArea4Type\":\"County\",\"linkId\":55818164,\"street\":\"212 Forsyth St\",\"adminArea5Type\":\"City\",\"geocodeQuality\":\"POINT\",\"adminArea1Type\":\"Country\",\"adminArea3Type\":\"State\",\"latLng\":{\"lng\":-73.990142,\"lat\":40.723011}},{\"dragPoint\":false,\"displayLatLng\":{\"lng\":-73.99291,\"lat\":40.717978},\"adminArea4\":\"New York\",\"adminArea5\":\"New York\",\"postalCode\":\"10002-5102\",\"adminArea1\":\"US\",\"adminArea3\":\"NY\",\"type\":\"s\",\"sideOfStreet\":\"R\",\"geocodeQualityCode\":\"P1AAA\",\"adminArea4Type\":\"County\",\"linkId\":26462287,\"street\":\"92 Forsyth St\",\"adminArea5Type\":\"City\",\"geocodeQuality\":\"POINT\",\"adminArea1Type\":\"Country\",\"adminArea3Type\":\"State\",\"latLng\":{\"lng\":-73.99291,\"lat\":40.717978}}],\"time\":558,\"hasUnpaved\":false,\"locationSequence\":[0,1],\"hasFerry\":false},\"info\":{\"statuscode\":0,\"copyright\":{\"imageAltText\":\"© 2019 MapQuest, Inc.\",\"imageUrl\":\"http://api.mqcdn.com/res/mqlogo.gif\",\"text\":\"© 2019 MapQuest, Inc.\"},\"messages\":[]}}\n"
     ]
    },
    {
     "data": {
      "text/plain": [
       "<Response [200]>"
      ]
     },
     "execution_count": 16,
     "metadata": {},
     "output_type": "execute_result"
    }
   ],
   "source": [
    "# secret file location\n",
    "secret_loc_mapquest = \"/Users/allisonhonold/.secrets/mapquest_api.json\"\n",
    "\n",
    "route = get_mapquest_route(secret_loc_mapquest, start_loc, end_loc)\n",
    "route"
   ]
  },
  {
   "cell_type": "code",
   "execution_count": 21,
   "metadata": {},
   "outputs": [],
   "source": []
  },
  {
   "cell_type": "code",
   "execution_count": 22,
   "metadata": {},
   "outputs": [
    {
     "data": {
      "text/plain": [
       "{'route': {'hasTollRoad': False,\n",
       "  'hasBridge': False,\n",
       "  'boundingBox': {'lr': {'lng': -73.990417, 'lat': 40.717907},\n",
       "   'ul': {'lng': -73.993095, 'lat': 40.723141}},\n",
       "  'distance': 0.387,\n",
       "  'hasTimedRestriction': False,\n",
       "  'hasTunnel': False,\n",
       "  'hasHighway': False,\n",
       "  'computedWaypoints': [],\n",
       "  'routeError': {'errorCode': -400, 'message': ''},\n",
       "  'formattedTime': '00:09:18',\n",
       "  'sessionId': '5db87b6f-01a9-5f21-02b4-1936-0684448a126e',\n",
       "  'hasAccessRestriction': False,\n",
       "  'realTime': 558,\n",
       "  'hasSeasonalClosure': False,\n",
       "  'hasCountryCross': False,\n",
       "  'fuelUsed': 0,\n",
       "  'legs': [{'hasTollRoad': False,\n",
       "    'hasBridge': False,\n",
       "    'destNarrative': '',\n",
       "    'distance': 0.387,\n",
       "    'hasTimedRestriction': False,\n",
       "    'hasTunnel': False,\n",
       "    'hasHighway': False,\n",
       "    'index': 0,\n",
       "    'formattedTime': '00:09:18',\n",
       "    'origIndex': -1,\n",
       "    'hasAccessRestriction': False,\n",
       "    'hasSeasonalClosure': False,\n",
       "    'hasCountryCross': False,\n",
       "    'roadGradeStrategy': [[]],\n",
       "    'destIndex': -1,\n",
       "    'time': 558,\n",
       "    'hasUnpaved': False,\n",
       "    'origNarrative': '',\n",
       "    'maneuvers': [{'distance': 0.387,\n",
       "      'streets': ['Forsyth St'],\n",
       "      'narrative': 'Start out going south on Forsyth St toward Stanton St.',\n",
       "      'turnType': 6,\n",
       "      'startPoint': {'lng': -73.990417, 'lat': 40.723141},\n",
       "      'index': 0,\n",
       "      'formattedTime': '00:09:18',\n",
       "      'directionName': 'South',\n",
       "      'maneuverNotes': [],\n",
       "      'linkIds': [],\n",
       "      'signs': [],\n",
       "      'mapUrl': 'http://www.mapquestapi.com/staticmap/v5/map?key=C2jeDbeaNWllFPhIf7W81qxzOGzJ86E7&size=225,160&locations=40.723140716552734,-73.99041748046875|marker-1||40.7179069519043,-73.99309539794922|marker-2||&center=40.720523834228516,-73.99175643920898&defaultMarker=none&zoom=11&rand=-1755820315&session=5db87b6f-01a9-5f21-02b4-1936-0684448a126e',\n",
       "      'transportMode': 'WALKING',\n",
       "      'attributes': 0,\n",
       "      'time': 558,\n",
       "      'iconUrl': 'http://content.mqcdn.com/mqsite/turnsigns/icon-dirs-start_sm.gif',\n",
       "      'direction': 4},\n",
       "     {'distance': 0,\n",
       "      'streets': [],\n",
       "      'narrative': '92 FORSYTH ST is on the left.',\n",
       "      'turnType': -1,\n",
       "      'startPoint': {'lng': -73.993095, 'lat': 40.717907},\n",
       "      'index': 1,\n",
       "      'formattedTime': '00:00:00',\n",
       "      'directionName': '',\n",
       "      'maneuverNotes': [],\n",
       "      'linkIds': [],\n",
       "      'signs': [],\n",
       "      'transportMode': 'AUTO',\n",
       "      'attributes': 0,\n",
       "      'time': 0,\n",
       "      'iconUrl': 'http://content.mqcdn.com/mqsite/turnsigns/icon-dirs-end_sm.gif',\n",
       "      'direction': 0}],\n",
       "    'hasFerry': False}],\n",
       "  'options': {'arteryWeights': [],\n",
       "   'cyclingRoadFactor': 1,\n",
       "   'timeType': 0,\n",
       "   'useTraffic': False,\n",
       "   'returnLinkDirections': False,\n",
       "   'countryBoundaryDisplay': True,\n",
       "   'enhancedNarrative': False,\n",
       "   'locale': 'en_US',\n",
       "   'tryAvoidLinkIds': [],\n",
       "   'drivingStyle': 2,\n",
       "   'doReverseGeocode': True,\n",
       "   'generalize': -1,\n",
       "   'mustAvoidLinkIds': [],\n",
       "   'sideOfStreetDisplay': True,\n",
       "   'routeType': 'PEDESTRIAN',\n",
       "   'avoidTimedConditions': False,\n",
       "   'routeNumber': 0,\n",
       "   'shapeFormat': 'raw',\n",
       "   'maxWalkingDistance': -1,\n",
       "   'destinationManeuverDisplay': True,\n",
       "   'transferPenalty': -1,\n",
       "   'narrativeType': 'text',\n",
       "   'walkingSpeed': -1,\n",
       "   'urbanAvoidFactor': -1,\n",
       "   'stateBoundaryDisplay': True,\n",
       "   'unit': 'M',\n",
       "   'highwayEfficiency': 22,\n",
       "   'maxLinkId': 0,\n",
       "   'maneuverPenalty': -1,\n",
       "   'avoidTripIds': [],\n",
       "   'filterZoneFactor': -1,\n",
       "   'manmaps': 'true'},\n",
       "  'locations': [{'dragPoint': False,\n",
       "    'displayLatLng': {'lng': -73.990142, 'lat': 40.723011},\n",
       "    'adminArea4': 'New York',\n",
       "    'adminArea5': 'New York',\n",
       "    'postalCode': '10002-1307',\n",
       "    'adminArea1': 'US',\n",
       "    'adminArea3': 'NY',\n",
       "    'type': 's',\n",
       "    'sideOfStreet': 'R',\n",
       "    'geocodeQualityCode': 'P1AAA',\n",
       "    'adminArea4Type': 'County',\n",
       "    'linkId': 55818164,\n",
       "    'street': '212 Forsyth St',\n",
       "    'adminArea5Type': 'City',\n",
       "    'geocodeQuality': 'POINT',\n",
       "    'adminArea1Type': 'Country',\n",
       "    'adminArea3Type': 'State',\n",
       "    'latLng': {'lng': -73.990142, 'lat': 40.723011}},\n",
       "   {'dragPoint': False,\n",
       "    'displayLatLng': {'lng': -73.99291, 'lat': 40.717978},\n",
       "    'adminArea4': 'New York',\n",
       "    'adminArea5': 'New York',\n",
       "    'postalCode': '10002-5102',\n",
       "    'adminArea1': 'US',\n",
       "    'adminArea3': 'NY',\n",
       "    'type': 's',\n",
       "    'sideOfStreet': 'R',\n",
       "    'geocodeQualityCode': 'P1AAA',\n",
       "    'adminArea4Type': 'County',\n",
       "    'linkId': 26462287,\n",
       "    'street': '92 Forsyth St',\n",
       "    'adminArea5Type': 'City',\n",
       "    'geocodeQuality': 'POINT',\n",
       "    'adminArea1Type': 'Country',\n",
       "    'adminArea3Type': 'State',\n",
       "    'latLng': {'lng': -73.99291, 'lat': 40.717978}}],\n",
       "  'time': 558,\n",
       "  'hasUnpaved': False,\n",
       "  'locationSequence': [0, 1],\n",
       "  'hasFerry': False},\n",
       " 'info': {'statuscode': 0,\n",
       "  'copyright': {'imageAltText': '© 2019 MapQuest, Inc.',\n",
       "   'imageUrl': 'http://api.mqcdn.com/res/mqlogo.gif',\n",
       "   'text': '© 2019 MapQuest, Inc.'},\n",
       "  'messages': []}}"
      ]
     },
     "execution_count": 22,
     "metadata": {},
     "output_type": "execute_result"
    }
   ],
   "source": [
    "route_json"
   ]
  },
  {
   "cell_type": "code",
   "execution_count": 24,
   "metadata": {},
   "outputs": [],
   "source": [
    "def get_openrouteservice_route(secret_loc, start_loc, end_loc):\n",
    "    \"\"\"Calls to Open Route Service API to return a GeoJSON of the recommended route.\n",
    "    \n",
    "    Args:\n",
    "        secret_loc: location of file with api key\n",
    "        start_loc: starting location of the desired walk \n",
    "            (long,lat stringw/out spaces)\n",
    "        end_loc: ending location of the desired walk \n",
    "            (long,lat string w/out spaces)\n",
    "        \n",
    "    Returns:\n",
    "        geoJSON of the recommended path\n",
    "    \"\"\"\n",
    "    \n",
    "    base_url = 'https://api.openrouteservice.org/v2/directions/foot-walking?'\n",
    "    with open(secret_loc, \"r\") as f:\n",
    "        key = json.load(f)['key']\n",
    "    url = f\"{base_url}api_key={key}&start={start_loc}&end={end_loc}\"\n",
    "    response = requests.get(url)\n",
    "    print(response.status_code, response.reason)\n",
    "    print(response.text)\n",
    "    return response"
   ]
  },
  {
   "cell_type": "code",
   "execution_count": 26,
   "metadata": {},
   "outputs": [
    {
     "name": "stdout",
     "output_type": "stream",
     "text": [
      "500 Internal Server Error\n",
      "{\"error\":{\"code\":2099,\"message\":null},\"info\":{\"engine\":{\"version\":\"5.0.2\",\"build_date\":\"2019-09-30T11:18:17Z\"},\"timestamp\":1572372948805}}\n"
     ]
    },
    {
     "data": {
      "text/plain": [
       "<Response [500]>"
      ]
     },
     "execution_count": 26,
     "metadata": {},
     "output_type": "execute_result"
    }
   ],
   "source": [
    "secret_loc_openrte = '/Users/allisonhonold/.secrets/openrouteservice_api.json'\n",
    "route = get_openrouteservice_route(secret_loc_openrte, start_loc, end_loc)\n",
    "route"
   ]
  },
  {
   "cell_type": "code",
   "execution_count": 49,
   "metadata": {},
   "outputs": [],
   "source": [
    "import polyline\n",
    "import geopandas as gpd\n",
    "from matplotlib import pyplot as plt\n",
    "%matplotlib inline\n",
    "from shapely.geometry import LineString"
   ]
  },
  {
   "cell_type": "code",
   "execution_count": 30,
   "metadata": {},
   "outputs": [
    {
     "data": {
      "text/plain": [
       "[(-87.65126, 41.85073),\n",
       " (-88.16034, 41.63641),\n",
       " (-88.19437, 41.3131),\n",
       " (-88.66934, 40.90493),\n",
       " (-88.82182, 40.6174),\n",
       " (-89.02449, 40.53709),\n",
       " (-89.06036, 40.39942),\n",
       " (-89.31022, 40.1874),\n",
       " (-89.41675, 40.17746),\n",
       " (-89.64413, 39.73806),\n",
       " (-89.64234, 39.23217),\n",
       " (-89.91868, 38.71796),\n",
       " (-90.55938, 38.50742),\n",
       " (-90.84403, 38.48201),\n",
       " (-91.21997, 38.16575),\n",
       " (-91.46683, 38.04703),\n",
       " (-91.94883, 37.94147),\n",
       " (-92.25271, 37.78662),\n",
       " (-92.57913, 37.74953),\n",
       " (-93.05113, 37.27414),\n",
       " (-93.64054, 37.18775),\n",
       " (-93.88914, 37.07429),\n",
       " (-94.51371, 37.0378),\n",
       " (-94.51349, 37.08406),\n",
       " (-95.73459, 36.16398),\n",
       " (-96.04053, 36.08842),\n",
       " (-96.36604, 35.85752),\n",
       " (-96.62613, 35.76785),\n",
       " (-97.42961, 35.60015),\n",
       " (-97.47249, 35.46365),\n",
       " (-98.67507, 35.53638),\n",
       " (-99.51203, 35.38535),\n",
       " (-99.63496, 35.26649),\n",
       " (-99.78412, 35.23103),\n",
       " (-100.83314, 35.17954),\n",
       " (-102.09764, 35.19217),\n",
       " (-102.72199, 35.26975),\n",
       " (-103.28363, 35.11337),\n",
       " (-103.4898, 35.17358),\n",
       " (-103.95404, 35.12543),\n",
       " (-104.66734, 34.94341),\n",
       " (-106.01386, 35.00491),\n",
       " (-106.32624, 35.11544),\n",
       " (-107.29585, 34.99415),\n",
       " (-107.7554, 35.07417),\n",
       " (-108.0163, 35.34897),\n",
       " (-108.68038, 35.53457),\n",
       " (-108.90595, 35.48473),\n",
       " (-109.16153, 35.28694),\n",
       " (-110.19026, 34.9052),\n",
       " (-111.41139, 35.20285),\n",
       " (-111.65837, 35.17169),\n",
       " (-112.05514, 35.26518),\n",
       " (-112.54264, 35.22125),\n",
       " (-112.92982, 35.32279),\n",
       " (-113.55786, 35.15893),\n",
       " (-114.05201, 35.213),\n",
       " (-114.14849, 34.81152),\n",
       " (-114.27395, 34.73132),\n",
       " (-114.52922, 34.71838),\n",
       " (-114.69801, 34.89173),\n",
       " (-115.74287, 34.71681),\n",
       " (-116.27479, 34.73046),\n",
       " (-117.05918, 34.88438),\n",
       " (-117.48137, 34.34351),\n",
       " (-117.41337, 34.20812),\n",
       " (-117.54636, 34.06815),\n",
       " (-118.24356, 34.05236)]"
      ]
     },
     "execution_count": 30,
     "metadata": {},
     "output_type": "execute_result"
    }
   ],
   "source": [
    "path = polyline.decode(\"\"\"a~l~Fjk~uOnzh@vlbBtc~@tsE`vnApw{A`dw@~w\\\\|tNtqf@l{Yd_Fblh@rxo@b}@xxSfytAblk@xxaBeJxlcBb~t@zbh@jc|Bx}C`rv@rw|@rlhA~dVzeo@vrSnc}Axf]fjz@xfFbw~@dz{A~d{A|zOxbrBbdUvpo@`cFp~xBc`Hk@nurDznmFfwMbwz@bbl@lq~@loPpxq@bw_@v|{CbtY~jGqeMb{iF|n\\\\~mbDzeVh_Wr|Efc\\\\x`Ij{kE}mAb~uF{cNd}xBjp]fulBiwJpgg@|kHntyArpb@bijCk_Kv~eGyqTj_|@`uV`k|DcsNdwxAott@r}q@_gc@nu`CnvHx`k@dse@j|p@zpiAp|gEicy@`omFvaErfo@igQxnlApqGze~AsyRzrjAb__@ftyB}pIlo_BflmA~yQftNboWzoAlzp@mz`@|}_@fda@jakEitAn{fB_a]lexClshBtmqAdmY_hLxiZd~XtaBndgC\"\"\", geojson=True)\n",
    "path"
   ]
  },
  {
   "cell_type": "code",
   "execution_count": 35,
   "metadata": {},
   "outputs": [],
   "source": [
    "practice = gpd.GeoDataFrame(path)"
   ]
  },
  {
   "cell_type": "code",
   "execution_count": 34,
   "metadata": {},
   "outputs": [
    {
     "data": {
      "text/html": [
       "<div>\n",
       "<style scoped>\n",
       "    .dataframe tbody tr th:only-of-type {\n",
       "        vertical-align: middle;\n",
       "    }\n",
       "\n",
       "    .dataframe tbody tr th {\n",
       "        vertical-align: top;\n",
       "    }\n",
       "\n",
       "    .dataframe thead th {\n",
       "        text-align: right;\n",
       "    }\n",
       "</style>\n",
       "<table border=\"1\" class=\"dataframe\">\n",
       "  <thead>\n",
       "    <tr style=\"text-align: right;\">\n",
       "      <th></th>\n",
       "      <th>0</th>\n",
       "      <th>1</th>\n",
       "    </tr>\n",
       "  </thead>\n",
       "  <tbody>\n",
       "    <tr>\n",
       "      <td>0</td>\n",
       "      <td>-87.65126</td>\n",
       "      <td>41.85073</td>\n",
       "    </tr>\n",
       "    <tr>\n",
       "      <td>1</td>\n",
       "      <td>-88.16034</td>\n",
       "      <td>41.63641</td>\n",
       "    </tr>\n",
       "    <tr>\n",
       "      <td>2</td>\n",
       "      <td>-88.19437</td>\n",
       "      <td>41.31310</td>\n",
       "    </tr>\n",
       "    <tr>\n",
       "      <td>3</td>\n",
       "      <td>-88.66934</td>\n",
       "      <td>40.90493</td>\n",
       "    </tr>\n",
       "    <tr>\n",
       "      <td>4</td>\n",
       "      <td>-88.82182</td>\n",
       "      <td>40.61740</td>\n",
       "    </tr>\n",
       "  </tbody>\n",
       "</table>\n",
       "</div>"
      ],
      "text/plain": [
       "          0         1\n",
       "0 -87.65126  41.85073\n",
       "1 -88.16034  41.63641\n",
       "2 -88.19437  41.31310\n",
       "3 -88.66934  40.90493\n",
       "4 -88.82182  40.61740"
      ]
     },
     "execution_count": 34,
     "metadata": {},
     "output_type": "execute_result"
    }
   ],
   "source": [
    "practice.head()"
   ]
  },
  {
   "cell_type": "code",
   "execution_count": 36,
   "metadata": {},
   "outputs": [],
   "source": [
    "practice = gpd.GeoDataFrame(practice, geometry=gpd.points_from_xy(practice[0], practice[1]))"
   ]
  },
  {
   "cell_type": "code",
   "execution_count": 37,
   "metadata": {},
   "outputs": [
    {
     "data": {
      "text/html": [
       "<div>\n",
       "<style scoped>\n",
       "    .dataframe tbody tr th:only-of-type {\n",
       "        vertical-align: middle;\n",
       "    }\n",
       "\n",
       "    .dataframe tbody tr th {\n",
       "        vertical-align: top;\n",
       "    }\n",
       "\n",
       "    .dataframe thead th {\n",
       "        text-align: right;\n",
       "    }\n",
       "</style>\n",
       "<table border=\"1\" class=\"dataframe\">\n",
       "  <thead>\n",
       "    <tr style=\"text-align: right;\">\n",
       "      <th></th>\n",
       "      <th>0</th>\n",
       "      <th>1</th>\n",
       "      <th>geometry</th>\n",
       "    </tr>\n",
       "  </thead>\n",
       "  <tbody>\n",
       "    <tr>\n",
       "      <td>0</td>\n",
       "      <td>-87.65126</td>\n",
       "      <td>41.85073</td>\n",
       "      <td>POINT (-87.65126 41.85073)</td>\n",
       "    </tr>\n",
       "    <tr>\n",
       "      <td>1</td>\n",
       "      <td>-88.16034</td>\n",
       "      <td>41.63641</td>\n",
       "      <td>POINT (-88.16034 41.63641)</td>\n",
       "    </tr>\n",
       "    <tr>\n",
       "      <td>2</td>\n",
       "      <td>-88.19437</td>\n",
       "      <td>41.31310</td>\n",
       "      <td>POINT (-88.19437 41.31310)</td>\n",
       "    </tr>\n",
       "    <tr>\n",
       "      <td>3</td>\n",
       "      <td>-88.66934</td>\n",
       "      <td>40.90493</td>\n",
       "      <td>POINT (-88.66934 40.90493)</td>\n",
       "    </tr>\n",
       "    <tr>\n",
       "      <td>4</td>\n",
       "      <td>-88.82182</td>\n",
       "      <td>40.61740</td>\n",
       "      <td>POINT (-88.82182 40.61740)</td>\n",
       "    </tr>\n",
       "  </tbody>\n",
       "</table>\n",
       "</div>"
      ],
      "text/plain": [
       "          0         1                    geometry\n",
       "0 -87.65126  41.85073  POINT (-87.65126 41.85073)\n",
       "1 -88.16034  41.63641  POINT (-88.16034 41.63641)\n",
       "2 -88.19437  41.31310  POINT (-88.19437 41.31310)\n",
       "3 -88.66934  40.90493  POINT (-88.66934 40.90493)\n",
       "4 -88.82182  40.61740  POINT (-88.82182 40.61740)"
      ]
     },
     "execution_count": 37,
     "metadata": {},
     "output_type": "execute_result"
    }
   ],
   "source": [
    "practice.head()"
   ]
  },
  {
   "cell_type": "code",
   "execution_count": 40,
   "metadata": {},
   "outputs": [
    {
     "data": {
      "text/plain": [
       "<matplotlib.axes._subplots.AxesSubplot at 0x12124c898>"
      ]
     },
     "execution_count": 40,
     "metadata": {},
     "output_type": "execute_result"
    },
    {
     "data": {
      "image/png": "[encoded data removed]",
      "text/plain": [
       "<Figure size 432x288 with 1 Axes>"
      ]
     },
     "metadata": {
      "needs_background": "light"
     },
     "output_type": "display_data"
    }
   ],
   "source": [
    "practice.plot()"
   ]
  },
  {
   "cell_type": "code",
   "execution_count": 50,
   "metadata": {},
   "outputs": [],
   "source": [
    "practice_poly = gpd.GeoSeries(LineString([[p.x, p.y] for p in practice['geometry']]))"
   ]
  },
  {
   "cell_type": "code",
   "execution_count": 51,
   "metadata": {},
   "outputs": [
    {
     "data": {
      "text/plain": [
       "<matplotlib.axes._subplots.AxesSubplot at 0x1214bc470>"
      ]
     },
     "execution_count": 51,
     "metadata": {},
     "output_type": "execute_result"
    },
    {
     "data": {
      "image/png": "[encoded data removed]",
      "text/plain": [
       "<Figure size 432x288 with 1 Axes>"
      ]
     },
     "metadata": {
      "needs_background": "light"
     },
     "output_type": "display_data"
    }
   ],
   "source": [
    "practice_poly.plot()"
   ]
  },
  {
   "cell_type": "code",
   "execution_count": null,
   "metadata": {},
   "outputs": [],
   "source": []
  }
 ],
 "metadata": {
  "kernelspec": {
   "display_name": "Python 3 (geo-env)",
   "language": "python",
   "name": "geo-env"
  },
  "language_info": {
   "codemirror_mode": {
    "name": "ipython",
    "version": 3
   },
   "file_extension": ".py",
   "mimetype": "text/x-python",
   "name": "python",
   "nbconvert_exporter": "python",
   "pygments_lexer": "ipython3",
   "version": "3.7.3"
  }
 },
 "nbformat": 4,
 "nbformat_minor": 2
}
