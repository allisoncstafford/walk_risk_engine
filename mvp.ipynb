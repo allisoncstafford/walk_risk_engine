{
 "cells": [
  {
   "cell_type": "code",
   "execution_count": 2,
   "metadata": {},
   "outputs": [],
   "source": [
    "import sqlalchemy\n",
    "import pandas as pd\n",
    "import numpy as np"
   ]
  },
  {
   "cell_type": "code",
   "execution_count": 2,
   "metadata": {},
   "outputs": [],
   "source": [
    "n_lats = (40.92-40.498)/.001 +1\n",
    "lats = np.linspace(40.498, 40.92, int(n_lats))\n",
    "\n",
    "n_longs = ((74.254)-73.681)/.001 + 1\n",
    "longs = np.linspace(-74.254, -73.681, int(n_longs))"
   ]
  },
  {
   "cell_type": "code",
   "execution_count": 4,
   "metadata": {},
   "outputs": [],
   "source": [
    "from weather import get_dates_list\n",
    "from datetime import datetime\n",
    "\n",
    "# get most recent date from NYC's year to date arrests\n",
    "final_date_df = pd.read_csv('../nyc_ytd.csv', \n",
    "                    usecols=['ARREST_DATE'],\n",
    "                    nrows=2)\n",
    "final_date = datetime.strptime(final_date_df.loc[0, 'ARREST_DATE'], '%m/%d/%Y')\n",
    "\n",
    "initial_date = datetime.strptime('01/01/2006', '%m/%d/%Y')\n",
    "\n",
    "dates = get_dates_list(initial_date, final_date)\n"
   ]
  },
  {
   "cell_type": "code",
   "execution_count": null,
   "metadata": {},
   "outputs": [],
   "source": [
    "from itertools import product\n",
    "\n",
    "# lat_long_df = pd.DataFrame(product(lats, longs))\n",
    "lat_long_arr = np.array(list(product(lats, longs, dates)))"
   ]
  },
  {
   "cell_type": "code",
   "execution_count": null,
   "metadata": {},
   "outputs": [],
   "source": [
    "lat_long_arr.shape"
   ]
  },
  {
   "cell_type": "code",
   "execution_count": null,
   "metadata": {},
   "outputs": [],
   "source": []
  }
 ],
 "metadata": {
  "kernelspec": {
   "display_name": "Python 3 (walk-env)",
   "language": "python",
   "name": "walk-env"
  },
  "language_info": {
   "codemirror_mode": {
    "name": "ipython",
    "version": 3
   },
   "file_extension": ".py",
   "mimetype": "text/x-python",
   "name": "python",
   "nbconvert_exporter": "python",
   "pygments_lexer": "ipython3",
   "version": "3.7.4"
  }
 },
 "nbformat": 4,
 "nbformat_minor": 2
}
