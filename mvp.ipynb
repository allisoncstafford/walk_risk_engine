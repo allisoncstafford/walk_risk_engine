{
 "cells": [
  {
   "cell_type": "code",
   "execution_count": 1,
   "metadata": {},
   "outputs": [],
   "source": [
    "import sqlalchemy\n",
    "import pandas as pd\n",
    "import numpy as np"
   ]
  },
  {
   "cell_type": "code",
   "execution_count": 2,
   "metadata": {},
   "outputs": [],
   "source": [
    "n_lats = (40.92-40.498)/.001 +1\n",
    "lats = np.linspace(40.498, 40.92, int(n_lats))\n",
    "\n",
    "n_longs = ((74.254)-73.681)/.001 + 1\n",
    "longs = np.linspace(-74.254, -73.681, int(n_longs))"
   ]
  },
  {
   "cell_type": "code",
   "execution_count": 4,
   "metadata": {},
   "outputs": [],
   "source": [
    "from weather import get_dates_list\n",
    "from datetime import datetime\n",
    "\n",
    "# get most recent date from NYC's year to date arrests\n",
    "final_date_df = pd.read_csv('../nyc_ytd.csv', \n",
    "                    usecols=['ARREST_DATE'],\n",
    "                    nrows=2)\n",
    "final_date = datetime.strptime(final_date_df.loc[0, 'ARREST_DATE'], '%m/%d/%Y')\n",
    "\n",
    "initial_date = datetime.strptime('01/01/2006', '%m/%d/%Y')\n",
    "\n",
    "dates = get_dates_list(initial_date, final_date)\n"
   ]
  },
  {
   "cell_type": "code",
   "execution_count": null,
   "metadata": {},
   "outputs": [],
   "source": [
    "from itertools import product\n",
    "\n",
    "# lat_long_df = pd.DataFrame(product(lats, longs))\n",
    "lat_long_arr = np.array(list(product(lats, longs, dates)))"
   ]
  },
  {
   "cell_type": "code",
   "execution_count": null,
   "metadata": {},
   "outputs": [],
   "source": [
    "lat_long_arr.shape"
   ]
  },
  {
   "cell_type": "markdown",
   "metadata": {},
   "source": [
    "## MVP"
   ]
  },
  {
   "cell_type": "code",
   "execution_count": 1,
   "metadata": {},
   "outputs": [],
   "source": [
    "# from sqlalchemy import create_engine\n",
    "# engine = create_engine('postgresql:///walk')"
   ]
  },
  {
   "cell_type": "code",
   "execution_count": 2,
   "metadata": {},
   "outputs": [],
   "source": [
    "df = pd.read_sql_query(\"\"\"\n",
    "    SELECT * \n",
    "    FROM location_day_arrests_weather\n",
    "    WHERE date > '2019-04-01';\n",
    "    \"\"\", 'postgresql:///walk')"
   ]
  },
  {
   "cell_type": "code",
   "execution_count": 3,
   "metadata": {},
   "outputs": [
    {
     "data": {
      "text/plain": [
       "2326918399"
      ]
     },
     "execution_count": 3,
     "metadata": {},
     "output_type": "execute_result"
    }
   ],
   "source": [
    "from sys import getsizeof\n",
    "getsizeof(df)"
   ]
  },
  {
   "cell_type": "code",
   "execution_count": 24,
   "metadata": {},
   "outputs": [],
   "source": [
    "from sklearn.model_selection import train_test_split"
   ]
  },
  {
   "cell_type": "code",
   "execution_count": 25,
   "metadata": {},
   "outputs": [],
   "source": [
    "X = df.drop(columns=['n_arrests'])\n",
    "y = df['n_arrests']\n",
    "\n",
    "X_train, X_test, y_train, y_test = train_test_split(X, y, test_size=0.2, random_state=30)"
   ]
  },
  {
   "cell_type": "code",
   "execution_count": 9,
   "metadata": {},
   "outputs": [],
   "source": [
    "from sklearn.compose import ColumnTransformer\n",
    "from sklearn.pipeline import Pipeline\n",
    "from sklearn.impute import SimpleImputer\n",
    "from sklearn.preprocessing import StandardScaler\n",
    "from sklearn.preprocessing import OneHotEncoder\n",
    "import time"
   ]
  },
  {
   "cell_type": "code",
   "execution_count": 488,
   "metadata": {},
   "outputs": [],
   "source": [
    "class DateTransformer():\n",
    "    \"\"\"Transforms df so that there are columns representing the features of the date.\n",
    "    \"\"\"\n",
    "    \n",
    "    def __init__(self):\n",
    "        pass\n",
    "    \n",
    "    def fit(self, X, y=None):\n",
    "        return self\n",
    "    \n",
    "    def transform(self, X, y=None):\n",
    "        X = pd.Series([pd.to_datetime(x, format=\"%Y-%m-%d\") for x in X['date']])\n",
    "        X_transf = pd.DataFrame()\n",
    "        X_transf['year'] = [x.year for x in X]\n",
    "        X_transf['month'] = [x.month for x in X]\n",
    "        X_transf['day'] = [x.day for x in X]\n",
    "        X_transf['weekday'] = [x.weekday() for x in X]\n",
    "        return np.array(X_transf)"
   ]
  },
  {
   "cell_type": "code",
   "execution_count": 475,
   "metadata": {},
   "outputs": [
    {
     "data": {
      "text/plain": [
       "Timestamp('2019-04-02 00:00:00')"
      ]
     },
     "execution_count": 475,
     "metadata": {},
     "output_type": "execute_result"
    }
   ],
   "source": [
    "x = X_train.loc[0, 'date']\n",
    "pd.to_datetime(x, format=\"%Y-%m-%d\")"
   ]
  },
  {
   "cell_type": "code",
   "execution_count": 476,
   "metadata": {},
   "outputs": [],
   "source": [
    "class TimeOfDayTransformer():    \n",
    "    def __init__(self):\n",
    "        pass\n",
    "    \n",
    "    def fit(self, X, y=None):\n",
    "        return self\n",
    "    \n",
    "    def transform(self, X, y=None):\n",
    "        structtime = [time.gmtime(x) for x in X.values]\n",
    "        X_transf = np.array([(x.tm_hour*60 + x.tm_min) for x in structtime]).reshape(-1, 1)\n",
    "        return X_transf"
   ]
  },
  {
   "cell_type": "code",
   "execution_count": 509,
   "metadata": {},
   "outputs": [],
   "source": [
    "class StringTransformer():    \n",
    "    def __init__(self):\n",
    "        pass\n",
    "    \n",
    "    def fit(self, X, y=None):\n",
    "        return self\n",
    "    \n",
    "    def transform(self, X, y=None):\n",
    "#         X_trans = np.array(X.astype(str)).reshape(-1, 1)\n",
    "#         print(X_trans)\n",
    "        return np.array(X.astype(str)).reshape(-1, 2)"
   ]
  },
  {
   "cell_type": "code",
   "execution_count": 510,
   "metadata": {},
   "outputs": [],
   "source": [
    "# X_train.isna().sum()"
   ]
  },
  {
   "cell_type": "code",
   "execution_count": 511,
   "metadata": {},
   "outputs": [
    {
     "name": "stdout",
     "output_type": "stream",
     "text": [
      "<class 'pandas.core.frame.DataFrame'>\n",
      "Int64Index: 6006888 entries, 6454250 to 6723365\n",
      "Data columns (total 19 columns):\n",
      "latitude                 float64\n",
      "longitude                float64\n",
      "date                     object\n",
      "ap_t_high100             int64\n",
      "ap_t_low100              int64\n",
      "cloud                    int64\n",
      "humidity                 int64\n",
      "icon                     object\n",
      "moon_phase               int64\n",
      "precip_inten_max10000    int64\n",
      "precip_proba100          int64\n",
      "precipType               object\n",
      "pressure                 int64\n",
      "sunriseTime              int64\n",
      "sunsetTime               int64\n",
      "uvIndex                  int64\n",
      "wind_gust100             int64\n",
      "precip_accum100          object\n",
      "ozone10                  int64\n",
      "dtypes: float64(2), int64(13), object(4)\n",
      "memory usage: 1.1+ GB\n"
     ]
    }
   ],
   "source": [
    "X_train.info()"
   ]
  },
  {
   "cell_type": "code",
   "execution_count": 512,
   "metadata": {},
   "outputs": [
    {
     "data": {
      "text/html": [
       "<div>\n",
       "<style scoped>\n",
       "    .dataframe tbody tr th:only-of-type {\n",
       "        vertical-align: middle;\n",
       "    }\n",
       "\n",
       "    .dataframe tbody tr th {\n",
       "        vertical-align: top;\n",
       "    }\n",
       "\n",
       "    .dataframe thead th {\n",
       "        text-align: right;\n",
       "    }\n",
       "</style>\n",
       "<table border=\"1\" class=\"dataframe\">\n",
       "  <thead>\n",
       "    <tr style=\"text-align: right;\">\n",
       "      <th></th>\n",
       "      <th>6454250</th>\n",
       "      <th>2366346</th>\n",
       "      <th>1388385</th>\n",
       "      <th>2158270</th>\n",
       "      <th>3123603</th>\n",
       "    </tr>\n",
       "  </thead>\n",
       "  <tbody>\n",
       "    <tr>\n",
       "      <td>latitude</td>\n",
       "      <td>40.649</td>\n",
       "      <td>40.65</td>\n",
       "      <td>40.732</td>\n",
       "      <td>40.825</td>\n",
       "      <td>40.673</td>\n",
       "    </tr>\n",
       "    <tr>\n",
       "      <td>longitude</td>\n",
       "      <td>-73.956</td>\n",
       "      <td>-73.843</td>\n",
       "      <td>-73.897</td>\n",
       "      <td>-73.894</td>\n",
       "      <td>-73.773</td>\n",
       "    </tr>\n",
       "    <tr>\n",
       "      <td>date</td>\n",
       "      <td>2019-06-18</td>\n",
       "      <td>2019-04-30</td>\n",
       "      <td>2019-04-18</td>\n",
       "      <td>2019-04-27</td>\n",
       "      <td>2019-05-09</td>\n",
       "    </tr>\n",
       "    <tr>\n",
       "      <td>ap_t_high100</td>\n",
       "      <td>7362</td>\n",
       "      <td>5950</td>\n",
       "      <td>5996</td>\n",
       "      <td>5835</td>\n",
       "      <td>5848</td>\n",
       "    </tr>\n",
       "    <tr>\n",
       "      <td>ap_t_low100</td>\n",
       "      <td>6771</td>\n",
       "      <td>5203</td>\n",
       "      <td>5642</td>\n",
       "      <td>4594</td>\n",
       "      <td>5433</td>\n",
       "    </tr>\n",
       "    <tr>\n",
       "      <td>cloud</td>\n",
       "      <td>97</td>\n",
       "      <td>92</td>\n",
       "      <td>74</td>\n",
       "      <td>53</td>\n",
       "      <td>80</td>\n",
       "    </tr>\n",
       "    <tr>\n",
       "      <td>humidity</td>\n",
       "      <td>93</td>\n",
       "      <td>87</td>\n",
       "      <td>73</td>\n",
       "      <td>51</td>\n",
       "      <td>67</td>\n",
       "    </tr>\n",
       "    <tr>\n",
       "      <td>icon</td>\n",
       "      <td>rain</td>\n",
       "      <td>rain</td>\n",
       "      <td>partly-cloudy-day</td>\n",
       "      <td>rain</td>\n",
       "      <td>partly-cloudy-day</td>\n",
       "    </tr>\n",
       "    <tr>\n",
       "      <td>moon_phase</td>\n",
       "      <td>55</td>\n",
       "      <td>87</td>\n",
       "      <td>48</td>\n",
       "      <td>78</td>\n",
       "      <td>18</td>\n",
       "    </tr>\n",
       "    <tr>\n",
       "      <td>precip_inten_max10000</td>\n",
       "      <td>1321</td>\n",
       "      <td>285</td>\n",
       "      <td>3</td>\n",
       "      <td>286</td>\n",
       "      <td>0</td>\n",
       "    </tr>\n",
       "    <tr>\n",
       "      <td>precip_proba100</td>\n",
       "      <td>100</td>\n",
       "      <td>93</td>\n",
       "      <td>23</td>\n",
       "      <td>95</td>\n",
       "      <td>0</td>\n",
       "    </tr>\n",
       "    <tr>\n",
       "      <td>precipType</td>\n",
       "      <td>rain</td>\n",
       "      <td>rain</td>\n",
       "      <td>None</td>\n",
       "      <td>rain</td>\n",
       "      <td>None</td>\n",
       "    </tr>\n",
       "    <tr>\n",
       "      <td>pressure</td>\n",
       "      <td>1013</td>\n",
       "      <td>1024</td>\n",
       "      <td>1018</td>\n",
       "      <td>1001</td>\n",
       "      <td>1026</td>\n",
       "    </tr>\n",
       "    <tr>\n",
       "      <td>sunriseTime</td>\n",
       "      <td>1560849922</td>\n",
       "      <td>1556618200</td>\n",
       "      <td>1555582402</td>\n",
       "      <td>1556359236</td>\n",
       "      <td>1557395158</td>\n",
       "    </tr>\n",
       "    <tr>\n",
       "      <td>sunsetTime</td>\n",
       "      <td>1560904253</td>\n",
       "      <td>1556668286</td>\n",
       "      <td>1555630723</td>\n",
       "      <td>1556408895</td>\n",
       "      <td>1557446451</td>\n",
       "    </tr>\n",
       "    <tr>\n",
       "      <td>uvIndex</td>\n",
       "      <td>4</td>\n",
       "      <td>4</td>\n",
       "      <td>4</td>\n",
       "      <td>4</td>\n",
       "      <td>4</td>\n",
       "    </tr>\n",
       "    <tr>\n",
       "      <td>wind_gust100</td>\n",
       "      <td>589</td>\n",
       "      <td>673</td>\n",
       "      <td>1928</td>\n",
       "      <td>2759</td>\n",
       "      <td>1139</td>\n",
       "    </tr>\n",
       "    <tr>\n",
       "      <td>precip_accum100</td>\n",
       "      <td>None</td>\n",
       "      <td>None</td>\n",
       "      <td>None</td>\n",
       "      <td>None</td>\n",
       "      <td>None</td>\n",
       "    </tr>\n",
       "    <tr>\n",
       "      <td>ozone10</td>\n",
       "      <td>3270</td>\n",
       "      <td>3348</td>\n",
       "      <td>3344</td>\n",
       "      <td>3936</td>\n",
       "      <td>3273</td>\n",
       "    </tr>\n",
       "  </tbody>\n",
       "</table>\n",
       "</div>"
      ],
      "text/plain": [
       "                          6454250     2366346            1388385     2158270  \\\n",
       "latitude                   40.649       40.65             40.732      40.825   \n",
       "longitude                 -73.956     -73.843            -73.897     -73.894   \n",
       "date                   2019-06-18  2019-04-30         2019-04-18  2019-04-27   \n",
       "ap_t_high100                 7362        5950               5996        5835   \n",
       "ap_t_low100                  6771        5203               5642        4594   \n",
       "cloud                          97          92                 74          53   \n",
       "humidity                       93          87                 73          51   \n",
       "icon                         rain        rain  partly-cloudy-day        rain   \n",
       "moon_phase                     55          87                 48          78   \n",
       "precip_inten_max10000        1321         285                  3         286   \n",
       "precip_proba100               100          93                 23          95   \n",
       "precipType                   rain        rain               None        rain   \n",
       "pressure                     1013        1024               1018        1001   \n",
       "sunriseTime            1560849922  1556618200         1555582402  1556359236   \n",
       "sunsetTime             1560904253  1556668286         1555630723  1556408895   \n",
       "uvIndex                         4           4                  4           4   \n",
       "wind_gust100                  589         673               1928        2759   \n",
       "precip_accum100              None        None               None        None   \n",
       "ozone10                      3270        3348               3344        3936   \n",
       "\n",
       "                                 3123603  \n",
       "latitude                          40.673  \n",
       "longitude                        -73.773  \n",
       "date                          2019-05-09  \n",
       "ap_t_high100                        5848  \n",
       "ap_t_low100                         5433  \n",
       "cloud                                 80  \n",
       "humidity                              67  \n",
       "icon                   partly-cloudy-day  \n",
       "moon_phase                            18  \n",
       "precip_inten_max10000                  0  \n",
       "precip_proba100                        0  \n",
       "precipType                          None  \n",
       "pressure                            1026  \n",
       "sunriseTime                   1557395158  \n",
       "sunsetTime                    1557446451  \n",
       "uvIndex                                4  \n",
       "wind_gust100                        1139  \n",
       "precip_accum100                     None  \n",
       "ozone10                             3273  "
      ]
     },
     "execution_count": 512,
     "metadata": {},
     "output_type": "execute_result"
    }
   ],
   "source": [
    "X_train.head(5).T"
   ]
  },
  {
   "cell_type": "code",
   "execution_count": 513,
   "metadata": {},
   "outputs": [
    {
     "data": {
      "text/plain": [
       "Index(['latitude', 'longitude', 'date', 'ap_t_high100', 'ap_t_low100', 'cloud',\n",
       "       'humidity', 'icon', 'moon_phase', 'precip_inten_max10000',\n",
       "       'precip_proba100', 'precipType', 'pressure', 'sunriseTime',\n",
       "       'sunsetTime', 'uvIndex', 'wind_gust100', 'precip_accum100', 'ozone10'],\n",
       "      dtype='object')"
      ]
     },
     "execution_count": 513,
     "metadata": {},
     "output_type": "execute_result"
    }
   ],
   "source": [
    "X_train.columns"
   ]
  },
  {
   "cell_type": "code",
   "execution_count": 517,
   "metadata": {},
   "outputs": [],
   "source": [
    "impute_zero_features = ['precip_accum100']\n",
    "impute_zero_transformer = Pipeline(steps=[\n",
    "    ('imputer', SimpleImputer(strategy='constant', fill_value=0)),\n",
    "    ('scaler', StandardScaler())\n",
    "])\n",
    "\n",
    "impute_mean_features = ['ozone10']\n",
    "impute_mean_transformer = Pipeline(steps=[\n",
    "    ('imputer', SimpleImputer()),\n",
    "    ('scaler', StandardScaler())\n",
    "])\n",
    "\n",
    "date_transformer = Pipeline(steps=[\n",
    "    ('date_expansion', DateTransformer()),\n",
    "    ('ohe', OneHotEncoder(categories='auto'))\n",
    "])\n",
    "\n",
    "categorical_features = ['icon', 'precipType']\n",
    "categorical_transformer = Pipeline(steps=[\n",
    "    ('string', StringTransformer()),\n",
    "    ('ohe', OneHotEncoder(categories='auto'))\n",
    "])\n",
    "\n",
    "time_of_day_features = ['sunriseTime', 'sunsetTime']\n",
    "time_of_day_transformer = Pipeline(steps=[\n",
    "    ('time', TimeOfDayTransformer()),\n",
    "    ('scaler', StandardScaler())\n",
    "])\n",
    "\n",
    "other_numeric_features = ['latitude', 'longitude', 'ap_t_high100',\n",
    "                         'ap_t_low100', 'cloud', 'humidity', 'moon_phase',\n",
    "                          'precip_inten_max10000', 'precip_proba100', 'pressure',\n",
    "                         'uvIndex', 'wind_gust100',]\n",
    "\n",
    "preprocessor = ColumnTransformer( transformers=[\n",
    "    ('missing0', impute_zero_transformer, impute_zero_features),\n",
    "    ('missing_mean', impute_mean_transformer, impute_mean_features),\n",
    "    ('date', date_transformer, ['date']),\n",
    "    ('categoricals', categorical_transformer, categorical_features),\n",
    "    ('sunrise', time_of_day_transformer, ['sunriseTime']),\n",
    "    ('sunset', time_of_day_transformer, ['sunsetTime']),\n",
    "    ('ss', StandardScaler(), other_numeric_features)\n",
    "])\n",
    "\n",
    "target_preprocessor = ColumnTransformer( transformers=[\n",
    "    ('imputer', SimpleImputer(strategy='constant', fill_value=0))\n",
    "])\n",
    "\n"
   ]
  },
  {
   "cell_type": "code",
   "execution_count": 518,
   "metadata": {},
   "outputs": [],
   "source": [
    "mini_X_train = X_train.head(1000).reset_index()"
   ]
  },
  {
   "cell_type": "code",
   "execution_count": 519,
   "metadata": {},
   "outputs": [
    {
     "name": "stderr",
     "output_type": "stream",
     "text": [
      "//anaconda3/envs/walk-env/lib/python3.7/site-packages/sklearn/utils/extmath.py:747: RuntimeWarning: invalid value encountered in true_divide\n",
      "  updated_mean = (last_sum + new_sum) / updated_sample_count\n",
      "//anaconda3/envs/walk-env/lib/python3.7/site-packages/sklearn/utils/extmath.py:688: RuntimeWarning: Degrees of freedom <= 0 for slice.\n",
      "  result = op(x, *args, **kwargs)\n"
     ]
    },
    {
     "data": {
      "text/plain": [
       "array([[        nan, -0.34863702,  1.        , ..., -0.26920613,\n",
       "        -1.14452402, -1.14533693],\n",
       "       [        nan, -0.04324438,  1.        , ...,  1.42876831,\n",
       "        -1.14452402, -0.9985412 ],\n",
       "       [        nan, -0.05890554,  1.        , ...,  0.50260043,\n",
       "        -1.14452402,  1.19465679],\n",
       "       ...,\n",
       "       [        nan, -0.79106481,  1.        , ...,  0.0395165 ,\n",
       "         1.65108911, -0.38339722],\n",
       "       [        nan, -1.98131303,  1.        , ..., -1.04101269,\n",
       "        -0.58540139,  2.99290439],\n",
       "       [        nan,  0.14077426,  1.        , ...,  0.65696175,\n",
       "         1.09196649, -0.93388118]])"
      ]
     },
     "execution_count": 519,
     "metadata": {},
     "output_type": "execute_result"
    }
   ],
   "source": [
    "preprocessor.fit_transform(mini_X_train)"
   ]
  },
  {
   "cell_type": "code",
   "execution_count": null,
   "metadata": {},
   "outputs": [],
   "source": []
  },
  {
   "cell_type": "code",
   "execution_count": 322,
   "metadata": {},
   "outputs": [
    {
     "data": {
      "text/plain": [
       "time.struct_time(tm_year=2019, tm_mon=6, tm_mday=18, tm_hour=9, tm_min=25, tm_sec=22, tm_wday=1, tm_yday=169, tm_isdst=0)"
      ]
     },
     "execution_count": 322,
     "metadata": {},
     "output_type": "execute_result"
    }
   ],
   "source": [
    "time.gmtime(mini_X_train['sunriseTime'][0])"
   ]
  },
  {
   "cell_type": "code",
   "execution_count": 183,
   "metadata": {},
   "outputs": [
    {
     "name": "stdout",
     "output_type": "stream",
     "text": [
      "  (0, 0)\t1.0\n"
     ]
    }
   ],
   "source": []
  },
  {
   "cell_type": "code",
   "execution_count": null,
   "metadata": {},
   "outputs": [],
   "source": []
  }
 ],
 "metadata": {
  "kernelspec": {
   "display_name": "Python 3 (walk-env)",
   "language": "python",
   "name": "walk-env"
  },
  "language_info": {
   "codemirror_mode": {
    "name": "ipython",
    "version": 3
   },
   "file_extension": ".py",
   "mimetype": "text/x-python",
   "name": "python",
   "nbconvert_exporter": "python",
   "pygments_lexer": "ipython3",
   "version": "3.7.4"
  }
 },
 "nbformat": 4,
 "nbformat_minor": 2
}
