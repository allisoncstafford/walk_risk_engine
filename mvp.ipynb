{
 "cells": [
  {
   "cell_type": "code",
   "execution_count": 3,
   "metadata": {},
   "outputs": [],
   "source": [
    "import sqlalchemy\n",
    "import pandas as pd\n",
    "import numpy as np\n",
    "from sklearn.linear_model import LinearRegression\n",
    "from sklearn.metrics import mean_squared_error\n",
    "from sklearn.ensemble import RandomForestClassifier\n",
    "from sklearn.metrics import confusion_matrix, f1_score, accuracy_score\n",
    "from sklearn.metrics import log_loss\n",
    "from imblearn.over_sampling import SMOTE\n",
    "from sklearn.compose import ColumnTransformer\n",
    "from imblearn.pipeline import Pipeline\n",
    "from sklearn.impute import SimpleImputer\n",
    "from sklearn.preprocessing import StandardScaler\n",
    "from sklearn.preprocessing import OneHotEncoder\n",
    "import time\n",
    "from sklearn.model_selection import train_test_split"
   ]
  },
  {
   "cell_type": "markdown",
   "metadata": {},
   "source": [
    "## MVP"
   ]
  },
  {
   "cell_type": "code",
   "execution_count": 4,
   "metadata": {},
   "outputs": [],
   "source": [
    "# from sqlalchemy import create_engine\n",
    "# engine = create_engine('postgresql:///walk')"
   ]
  },
  {
   "cell_type": "code",
   "execution_count": 5,
   "metadata": {},
   "outputs": [],
   "source": [
    "df = pd.read_sql_table('manhattan_loc_d_ar_wea', 'postgresql:///walk')"
   ]
  },
  {
   "cell_type": "code",
   "execution_count": 6,
   "metadata": {},
   "outputs": [],
   "source": [
    "def categorize_arrests(dataframe):\n",
    "    cat_df = pd.DataFrame(dataframe, columns=['n_arrests'])\n",
    "    cat_df.loc[cat_df['n_arrests'] > 0] = 1\n",
    "    cat_df = cat_df.fillna(value=0).astype(int)\n",
    "    output = cat_df.values.ravel()\n",
    "    return output"
   ]
  },
  {
   "cell_type": "code",
   "execution_count": 5,
   "metadata": {},
   "outputs": [],
   "source": [
    "last_ten = df.shape[0]*.9\n",
    "eval_df = df.reset_index(drop=True).loc[last_ten:]\n",
    "test_train_df = df.reset_index(drop=True).loc[:last_ten]\n",
    "X_eval = eval_df.drop(columns=['n_arrests'])\n",
    "y_eval = categorize_arrests(eval_df['n_arrests'])"
   ]
  },
  {
   "cell_type": "code",
   "execution_count": 6,
   "metadata": {},
   "outputs": [],
   "source": [
    "X = test_train_df.drop(columns=['n_arrests'])\n",
    "y = categorize_arrests(test_train_df['n_arrests'])\n",
    "\n",
    "X_train, X_test, y_train, y_test = train_test_split(X, y, test_size=0.2, random_state=30)"
   ]
  },
  {
   "cell_type": "code",
   "execution_count": 219,
   "metadata": {},
   "outputs": [
    {
     "data": {
      "text/html": [
       "<div>\n",
       "<style scoped>\n",
       "    .dataframe tbody tr th:only-of-type {\n",
       "        vertical-align: middle;\n",
       "    }\n",
       "\n",
       "    .dataframe tbody tr th {\n",
       "        vertical-align: top;\n",
       "    }\n",
       "\n",
       "    .dataframe thead th {\n",
       "        text-align: right;\n",
       "    }\n",
       "</style>\n",
       "<table border=\"1\" class=\"dataframe\">\n",
       "  <thead>\n",
       "    <tr style=\"text-align: right;\">\n",
       "      <th></th>\n",
       "      <th>latitude</th>\n",
       "      <th>longitude</th>\n",
       "      <th>date</th>\n",
       "      <th>n_arrests</th>\n",
       "      <th>ap_t_high100</th>\n",
       "      <th>ap_t_low100</th>\n",
       "      <th>cloud</th>\n",
       "      <th>humidity</th>\n",
       "      <th>icon</th>\n",
       "      <th>moon_phase</th>\n",
       "      <th>precip_inten_max10000</th>\n",
       "      <th>precip_proba100</th>\n",
       "      <th>precipType</th>\n",
       "      <th>pressure</th>\n",
       "      <th>sunriseTime</th>\n",
       "      <th>sunsetTime</th>\n",
       "      <th>uvIndex</th>\n",
       "      <th>wind_gust100</th>\n",
       "      <th>precip_accum100</th>\n",
       "      <th>ozone10</th>\n",
       "    </tr>\n",
       "  </thead>\n",
       "  <tbody>\n",
       "    <tr>\n",
       "      <td>0</td>\n",
       "      <td>40.683</td>\n",
       "      <td>-74.023</td>\n",
       "      <td>2018-01-02</td>\n",
       "      <td>NaN</td>\n",
       "      <td>1943</td>\n",
       "      <td>1085</td>\n",
       "      <td>5</td>\n",
       "      <td>57</td>\n",
       "      <td>clear-day</td>\n",
       "      <td>54</td>\n",
       "      <td>0</td>\n",
       "      <td>0</td>\n",
       "      <td>None</td>\n",
       "      <td>1029</td>\n",
       "      <td>1514895663</td>\n",
       "      <td>1514929247</td>\n",
       "      <td>2</td>\n",
       "      <td>1259</td>\n",
       "      <td>NaN</td>\n",
       "      <td>NaN</td>\n",
       "    </tr>\n",
       "    <tr>\n",
       "      <td>1</td>\n",
       "      <td>40.684</td>\n",
       "      <td>-74.012</td>\n",
       "      <td>2018-01-02</td>\n",
       "      <td>NaN</td>\n",
       "      <td>1943</td>\n",
       "      <td>1085</td>\n",
       "      <td>5</td>\n",
       "      <td>57</td>\n",
       "      <td>clear-day</td>\n",
       "      <td>54</td>\n",
       "      <td>0</td>\n",
       "      <td>0</td>\n",
       "      <td>None</td>\n",
       "      <td>1029</td>\n",
       "      <td>1514895663</td>\n",
       "      <td>1514929247</td>\n",
       "      <td>2</td>\n",
       "      <td>1259</td>\n",
       "      <td>NaN</td>\n",
       "      <td>NaN</td>\n",
       "    </tr>\n",
       "    <tr>\n",
       "      <td>2</td>\n",
       "      <td>40.684</td>\n",
       "      <td>-74.024</td>\n",
       "      <td>2018-01-02</td>\n",
       "      <td>NaN</td>\n",
       "      <td>1943</td>\n",
       "      <td>1085</td>\n",
       "      <td>5</td>\n",
       "      <td>57</td>\n",
       "      <td>clear-day</td>\n",
       "      <td>54</td>\n",
       "      <td>0</td>\n",
       "      <td>0</td>\n",
       "      <td>None</td>\n",
       "      <td>1029</td>\n",
       "      <td>1514895663</td>\n",
       "      <td>1514929247</td>\n",
       "      <td>2</td>\n",
       "      <td>1259</td>\n",
       "      <td>NaN</td>\n",
       "      <td>NaN</td>\n",
       "    </tr>\n",
       "    <tr>\n",
       "      <td>3</td>\n",
       "      <td>40.685</td>\n",
       "      <td>-74.022</td>\n",
       "      <td>2018-01-02</td>\n",
       "      <td>NaN</td>\n",
       "      <td>1943</td>\n",
       "      <td>1085</td>\n",
       "      <td>5</td>\n",
       "      <td>57</td>\n",
       "      <td>clear-day</td>\n",
       "      <td>54</td>\n",
       "      <td>0</td>\n",
       "      <td>0</td>\n",
       "      <td>None</td>\n",
       "      <td>1029</td>\n",
       "      <td>1514895663</td>\n",
       "      <td>1514929247</td>\n",
       "      <td>2</td>\n",
       "      <td>1259</td>\n",
       "      <td>NaN</td>\n",
       "      <td>NaN</td>\n",
       "    </tr>\n",
       "    <tr>\n",
       "      <td>4</td>\n",
       "      <td>40.685</td>\n",
       "      <td>-74.023</td>\n",
       "      <td>2018-01-02</td>\n",
       "      <td>NaN</td>\n",
       "      <td>1943</td>\n",
       "      <td>1085</td>\n",
       "      <td>5</td>\n",
       "      <td>57</td>\n",
       "      <td>clear-day</td>\n",
       "      <td>54</td>\n",
       "      <td>0</td>\n",
       "      <td>0</td>\n",
       "      <td>None</td>\n",
       "      <td>1029</td>\n",
       "      <td>1514895663</td>\n",
       "      <td>1514929247</td>\n",
       "      <td>2</td>\n",
       "      <td>1259</td>\n",
       "      <td>NaN</td>\n",
       "      <td>NaN</td>\n",
       "    </tr>\n",
       "  </tbody>\n",
       "</table>\n",
       "</div>"
      ],
      "text/plain": [
       "   latitude  longitude       date  n_arrests  ap_t_high100  ap_t_low100  \\\n",
       "0    40.683    -74.023 2018-01-02        NaN          1943         1085   \n",
       "1    40.684    -74.012 2018-01-02        NaN          1943         1085   \n",
       "2    40.684    -74.024 2018-01-02        NaN          1943         1085   \n",
       "3    40.685    -74.022 2018-01-02        NaN          1943         1085   \n",
       "4    40.685    -74.023 2018-01-02        NaN          1943         1085   \n",
       "\n",
       "   cloud  humidity       icon  moon_phase  precip_inten_max10000  \\\n",
       "0      5        57  clear-day          54                      0   \n",
       "1      5        57  clear-day          54                      0   \n",
       "2      5        57  clear-day          54                      0   \n",
       "3      5        57  clear-day          54                      0   \n",
       "4      5        57  clear-day          54                      0   \n",
       "\n",
       "   precip_proba100 precipType  pressure  sunriseTime  sunsetTime  uvIndex  \\\n",
       "0                0       None      1029   1514895663  1514929247        2   \n",
       "1                0       None      1029   1514895663  1514929247        2   \n",
       "2                0       None      1029   1514895663  1514929247        2   \n",
       "3                0       None      1029   1514895663  1514929247        2   \n",
       "4                0       None      1029   1514895663  1514929247        2   \n",
       "\n",
       "   wind_gust100  precip_accum100  ozone10  \n",
       "0          1259              NaN      NaN  \n",
       "1          1259              NaN      NaN  \n",
       "2          1259              NaN      NaN  \n",
       "3          1259              NaN      NaN  \n",
       "4          1259              NaN      NaN  "
      ]
     },
     "execution_count": 219,
     "metadata": {},
     "output_type": "execute_result"
    }
   ],
   "source": [
    "df.head()"
   ]
  },
  {
   "cell_type": "code",
   "execution_count": 93,
   "metadata": {},
   "outputs": [],
   "source": [
    "class DateTransformer():\n",
    "    \"\"\"Transforms df so that there are columns representing the features of the date.\n",
    "    \"\"\"\n",
    "    \n",
    "    def __init__(self):\n",
    "        pass\n",
    "    \n",
    "    def fit(self, X, y=None):\n",
    "        return self\n",
    "    \n",
    "    def transform(self, X, y=None):\n",
    "        X = pd.Series([pd.to_datetime(x, format=\"%Y-%m-%d\") for x in X['date']])\n",
    "        X_transf = pd.DataFrame()\n",
    "        X_transf['year'] = [x.year for x in X]\n",
    "        X_transf['month'] = [x.month for x in X]\n",
    "        X_transf['day'] = [x.day for x in X]\n",
    "        X_transf['weekday'] = [x.weekday() for x in X]\n",
    "        return np.array(X_transf)"
   ]
  },
  {
   "cell_type": "code",
   "execution_count": 8,
   "metadata": {},
   "outputs": [],
   "source": [
    "class TimeOfDayTransformer():    \n",
    "    def __init__(self):\n",
    "        pass\n",
    "    \n",
    "    def fit(self, X, y=None):\n",
    "        return self\n",
    "    \n",
    "    def transform(self, X, y=None):\n",
    "        structtime = [time.gmtime(x) for x in X.values]\n",
    "        X_transf = np.array([(x.tm_hour*60 + x.tm_min) for x in structtime]).reshape(-1, 1)\n",
    "        return X_transf"
   ]
  },
  {
   "cell_type": "code",
   "execution_count": 9,
   "metadata": {},
   "outputs": [],
   "source": [
    "class StringTransformer():    \n",
    "    def __init__(self):\n",
    "        pass\n",
    "    \n",
    "    def fit(self, X, y=None):\n",
    "        return self\n",
    "    \n",
    "    def transform(self, X, y=None):\n",
    "#         X_trans = np.array(X.astype(str)).reshape(-1, 1)\n",
    "#         print(X_trans)\n",
    "        return np.array(X.astype(str)).reshape(-1, 2)"
   ]
  },
  {
   "cell_type": "code",
   "execution_count": 116,
   "metadata": {},
   "outputs": [],
   "source": [
    "impute_zero_features = ['precip_accum100']\n",
    "impute_zero_transformer = Pipeline(steps=[\n",
    "    ('imputer', SimpleImputer(strategy='constant', fill_value=0)),\n",
    "    ('scaler', StandardScaler())\n",
    "])\n",
    "\n",
    "# impute_mean_features = ['ozone10']\n",
    "# impute_mean_transformer = Pipeline(steps=[\n",
    "#     ('imputer', SimpleImputer()),\n",
    "#     ('scaler', StandardScaler())\n",
    "# ])\n",
    "\n",
    "date_transformer = Pipeline(steps=[\n",
    "    ('date_expansion', DateTransformer()),\n",
    "    ('ohe', OneHotEncoder(categories='auto'))\n",
    "])\n",
    "\n",
    "# categorical_features = ['icon', 'precipType']\n",
    "# categorical_transformer = Pipeline(steps=[\n",
    "#     ('string', StringTransformer()),\n",
    "#     ('ohe', OneHotEncoder(categories='auto'))\n",
    "# ])\n",
    "\n",
    "time_of_day_features = ['sunriseTime', 'sunsetTime']\n",
    "time_of_day_transformer = Pipeline(steps=[\n",
    "    ('time', TimeOfDayTransformer()),\n",
    "    ('scaler', StandardScaler())\n",
    "])\n",
    "\n",
    "other_numeric_features = ['latitude', 'longitude', 'ap_t_high100',\n",
    "                         'ap_t_low100', 'cloud', 'humidity',\n",
    "                          'precip_inten_max10000', 'precip_proba100', \n",
    "                          'wind_gust100',] \n",
    "                        # removed: 'moon_phase','pressure','uvIndex', \n",
    "\n",
    "preprocessor = ColumnTransformer( transformers=[\n",
    "    ('missing0', impute_zero_transformer, impute_zero_features),\n",
    "#     ('missing_mean', impute_mean_transformer, impute_mean_features),\n",
    "    ('date', date_transformer, ['date']),\n",
    "#     ('categoricals', categorical_transformer, categorical_features),\n",
    "    ('sunrise', time_of_day_transformer, ['sunriseTime']),\n",
    "    ('sunset', time_of_day_transformer, ['sunsetTime']),\n",
    "    ('ss', StandardScaler(), other_numeric_features)\n",
    "    ], remainder='passthrough')\n",
    "\n",
    "\n"
   ]
  },
  {
   "cell_type": "code",
   "execution_count": 186,
   "metadata": {},
   "outputs": [],
   "source": [
    "rfc = RandomForestClassifier(n_estimators=10, max_depth=15, random_state=5,\n",
    "                            class_weight='balanced')\n",
    "# sm = SMOTE(random_state=20)"
   ]
  },
  {
   "cell_type": "code",
   "execution_count": 187,
   "metadata": {},
   "outputs": [],
   "source": [
    "pipe = Pipeline([\n",
    "    ('preprocess', preprocessor),\n",
    "#     ('smote', sm),\n",
    "    ('model', rfc)\n",
    "])"
   ]
  },
  {
   "cell_type": "code",
   "execution_count": 188,
   "metadata": {},
   "outputs": [
    {
     "name": "stdout",
     "output_type": "stream",
     "text": [
      "Current Time = 09:42:57\n"
     ]
    }
   ],
   "source": [
    "from datetime import datetime\n",
    "now = datetime.now()\n",
    "current_time = now.strftime(\"%H:%M:%S\")\n",
    "print(\"Current Time =\", current_time)"
   ]
  },
  {
   "cell_type": "code",
   "execution_count": 189,
   "metadata": {},
   "outputs": [
    {
     "data": {
      "text/plain": [
       "Pipeline(memory=None,\n",
       "         steps=[('preprocess',\n",
       "                 ColumnTransformer(n_jobs=None, remainder='passthrough',\n",
       "                                   sparse_threshold=0.3,\n",
       "                                   transformer_weights=None,\n",
       "                                   transformers=[('missing0',\n",
       "                                                  Pipeline(memory=None,\n",
       "                                                           steps=[('imputer',\n",
       "                                                                   SimpleImputer(add_indicator=False,\n",
       "                                                                                 copy=True,\n",
       "                                                                                 fill_value=0,\n",
       "                                                                                 missing_values=nan,\n",
       "                                                                                 strategy='constant',\n",
       "                                                                                 verbose=0)),\n",
       "                                                                  ('scaler',\n",
       "                                                                   StandardScaler(copy=True,...\n",
       "                 RandomForestClassifier(bootstrap=True, class_weight='balanced',\n",
       "                                        criterion='gini', max_depth=10,\n",
       "                                        max_features='auto',\n",
       "                                        max_leaf_nodes=None,\n",
       "                                        min_impurity_decrease=0.0,\n",
       "                                        min_impurity_split=None,\n",
       "                                        min_samples_leaf=1, min_samples_split=2,\n",
       "                                        min_weight_fraction_leaf=0.0,\n",
       "                                        n_estimators=10, n_jobs=None,\n",
       "                                        oob_score=False, random_state=5,\n",
       "                                        verbose=0, warm_start=False))],\n",
       "         verbose=False)"
      ]
     },
     "execution_count": 189,
     "metadata": {},
     "output_type": "execute_result"
    }
   ],
   "source": [
    "pipe.fit(X_train, y_train)"
   ]
  },
  {
   "cell_type": "code",
   "execution_count": 190,
   "metadata": {},
   "outputs": [
    {
     "name": "stdout",
     "output_type": "stream",
     "text": [
      "Current Time = 09:48:34\n"
     ]
    }
   ],
   "source": [
    "from datetime import datetime\n",
    "now = datetime.now()\n",
    "current_time = now.strftime(\"%H:%M:%S\")\n",
    "print(\"Current Time =\", current_time)"
   ]
  },
  {
   "cell_type": "code",
   "execution_count": 191,
   "metadata": {},
   "outputs": [],
   "source": [
    "train_preds = pipe.predict(X_train)\n",
    "train_proba = pipe.predict_proba(X_train)"
   ]
  },
  {
   "cell_type": "code",
   "execution_count": 192,
   "metadata": {},
   "outputs": [],
   "source": [
    "def print_scores(true, pred, pred_proba):\n",
    "    lloss = log_loss(true, pred_proba)\n",
    "    cf = confusion_matrix(true, pred)\n",
    "    acc = accuracy_score(true, pred)\n",
    "    f1 = f1_score(true, pred)\n",
    "    print(f\"log loss: {lloss}\\n\\nconfusion matrix:\\n{cf}\\naccuracy: {acc}\\nF1 score: {f1}\")"
   ]
  },
  {
   "cell_type": "code",
   "execution_count": 193,
   "metadata": {},
   "outputs": [
    {
     "name": "stdout",
     "output_type": "stream",
     "text": [
      "log loss: 0.6554919498912687\n",
      "\n",
      "confusion matrix:\n",
      "[[1414645 1018289]\n",
      " [  14579   29316]]\n",
      "accuracy: 0.5829877637899104\n",
      "F1 score: 0.05371690334402199\n"
     ]
    }
   ],
   "source": [
    "print_scores(y_train, train_preds, train_proba)"
   ]
  },
  {
   "cell_type": "code",
   "execution_count": 194,
   "metadata": {},
   "outputs": [],
   "source": [
    "test_preds = pipe.predict(X_test)\n",
    "test_proba = pipe.predict_proba(X_test)"
   ]
  },
  {
   "cell_type": "code",
   "execution_count": 195,
   "metadata": {
    "scrolled": true
   },
   "outputs": [
    {
     "name": "stdout",
     "output_type": "stream",
     "text": [
      "log loss: 0.6561418306816723\n",
      "\n",
      "confusion matrix:\n",
      "[[352946 255240]\n",
      " [  4175   6847]]\n",
      "accuracy: 0.5810535393599566\n",
      "F1 score: 0.050141152433643706\n"
     ]
    }
   ],
   "source": [
    "print_scores(y_test, test_preds, test_proba)"
   ]
  },
  {
   "cell_type": "code",
   "execution_count": 127,
   "metadata": {},
   "outputs": [],
   "source": [
    "from matplotlib import pyplot as plt\n",
    "%matplotlib inline"
   ]
  },
  {
   "cell_type": "code",
   "execution_count": 196,
   "metadata": {},
   "outputs": [
    {
     "data": {
      "text/plain": [
       "array([[0.46265232, 0.53734768],\n",
       "       [0.5607255 , 0.4392745 ],\n",
       "       [0.34505491, 0.65494509],\n",
       "       [0.46966621, 0.53033379],\n",
       "       [0.65626304, 0.34373696],\n",
       "       [0.81226988, 0.18773012],\n",
       "       [0.61327864, 0.38672136],\n",
       "       [0.50286469, 0.49713531],\n",
       "       [0.42348965, 0.57651035],\n",
       "       [0.74771592, 0.25228408],\n",
       "       [0.58251917, 0.41748083],\n",
       "       [0.48496381, 0.51503619],\n",
       "       [0.53599925, 0.46400075],\n",
       "       [0.59582504, 0.40417496],\n",
       "       [0.46988085, 0.53011915],\n",
       "       [0.46166842, 0.53833158],\n",
       "       [0.43956522, 0.56043478],\n",
       "       [0.49838447, 0.50161553],\n",
       "       [0.53390722, 0.46609278],\n",
       "       [0.56306723, 0.43693277]])"
      ]
     },
     "execution_count": 196,
     "metadata": {},
     "output_type": "execute_result"
    }
   ],
   "source": [
    "test_proba[:20]"
   ]
  },
  {
   "cell_type": "code",
   "execution_count": 197,
   "metadata": {},
   "outputs": [
    {
     "data": {
      "image/png": "[encoded data removed]",
      "text/plain": [
       "<Figure size 432x288 with 1 Axes>"
      ]
     },
     "metadata": {},
     "output_type": "display_data"
    }
   ],
   "source": [
    "fig, ax = plt.subplots()\n",
    "ax.hist(test_proba[:,0], bins=20)\n",
    "ax.tick_params(axis='x', colors='white')"
   ]
  },
  {
   "cell_type": "code",
   "execution_count": 201,
   "metadata": {},
   "outputs": [],
   "source": [
    "from sklearn.metrics import roc_curve"
   ]
  },
  {
   "cell_type": "code",
   "execution_count": 208,
   "metadata": {},
   "outputs": [],
   "source": [
    "fpr, tpr, thrsholds = roc_curve(y_test, test_proba[:, 1])"
   ]
  },
  {
   "cell_type": "code",
   "execution_count": 212,
   "metadata": {},
   "outputs": [
    {
     "data": {
      "image/png": "[encoded data removed]",
      "text/plain": [
       "<Figure size 432x288 with 1 Axes>"
      ]
     },
     "metadata": {
      "needs_background": "dark"
     },
     "output_type": "display_data"
    }
   ],
   "source": [
    "fig, ax = plt.subplots()\n",
    "ax.plot(fpr, tpr)\n",
    "ax.tick_params(axis='x', colors='white')\n",
    "ax.tick_params(axis='y', colors='white');"
   ]
  },
  {
   "cell_type": "code",
   "execution_count": 218,
   "metadata": {},
   "outputs": [
    {
     "data": {
      "text/plain": [
       "ColumnTransformer(n_jobs=None, remainder='passthrough', sparse_threshold=0.3,\n",
       "                  transformer_weights=None,\n",
       "                  transformers=[('missing0',\n",
       "                                 Pipeline(memory=None,\n",
       "                                          steps=[('imputer',\n",
       "                                                  SimpleImputer(add_indicator=False,\n",
       "                                                                copy=True,\n",
       "                                                                fill_value=0,\n",
       "                                                                missing_values=nan,\n",
       "                                                                strategy='constant',\n",
       "                                                                verbose=0)),\n",
       "                                                 ('scaler',\n",
       "                                                  StandardScaler(copy=True,\n",
       "                                                                 with_mean=True,\n",
       "                                                                 with_std=True))],\n",
       "                                          verbose=Fa...\n",
       "                                                  <__main__.TimeOfDayTransformer object at 0x1a88c78390>),\n",
       "                                                 ('scaler',\n",
       "                                                  StandardScaler(copy=True,\n",
       "                                                                 with_mean=True,\n",
       "                                                                 with_std=True))],\n",
       "                                          verbose=False),\n",
       "                                 ['sunsetTime']),\n",
       "                                ('ss',\n",
       "                                 StandardScaler(copy=True, with_mean=True,\n",
       "                                                with_std=True),\n",
       "                                 ['latitude', 'longitude', 'ap_t_high100',\n",
       "                                  'ap_t_low100', 'cloud', 'humidity',\n",
       "                                  'precip_inten_max10000', 'precip_proba100',\n",
       "                                  'wind_gust100'])],\n",
       "                  verbose=False)"
      ]
     },
     "execution_count": 218,
     "metadata": {},
     "output_type": "execute_result"
    }
   ],
   "source": [
    "pipe.named_steps['preprocess']"
   ]
  },
  {
   "cell_type": "code",
   "execution_count": 213,
   "metadata": {},
   "outputs": [
    {
     "data": {
      "text/plain": [
       "<BarContainer object of 76 artists>"
      ]
     },
     "execution_count": 213,
     "metadata": {},
     "output_type": "execute_result"
    },
    {
     "data": {
      "image/png": "[encoded data removed]",
      "text/plain": [
       "<Figure size 432x288 with 1 Axes>"
      ]
     },
     "metadata": {
      "needs_background": "light"
     },
     "output_type": "display_data"
    }
   ],
   "source": [
    "plt.barh(range(rfc.n_features_), rfc.feature_importances_)"
   ]
  },
  {
   "cell_type": "code",
   "execution_count": 171,
   "metadata": {},
   "outputs": [
    {
     "name": "stdout",
     "output_type": "stream",
     "text": [
      "1\n",
      "1\n",
      "1\n",
      "1\n",
      "1\n",
      "1\n",
      "1\n",
      "1\n",
      "1\n",
      "1\n"
     ]
    }
   ],
   "source": [
    "for estimator in rfc.estimators_:\n",
    "    print (estimator.tree_.node_count)"
   ]
  },
  {
   "cell_type": "code",
   "execution_count": null,
   "metadata": {},
   "outputs": [],
   "source": []
  },
  {
   "cell_type": "code",
   "execution_count": 198,
   "metadata": {},
   "outputs": [],
   "source": [
    "from sklearn.linear_model import LogisticRegression"
   ]
  },
  {
   "cell_type": "code",
   "execution_count": 199,
   "metadata": {},
   "outputs": [],
   "source": [
    "lr = LogisticRegression(random_state=0, solver='lbfgs')"
   ]
  },
  {
   "cell_type": "code",
   "execution_count": 200,
   "metadata": {},
   "outputs": [],
   "source": [
    "lr_pipe = Pipeline([\n",
    "    ('preprocess', preprocessor),\n",
    "    ('model', rfc)\n",
    "])"
   ]
  },
  {
   "cell_type": "code",
   "execution_count": null,
   "metadata": {},
   "outputs": [],
   "source": [
    "lr_"
   ]
  },
  {
   "cell_type": "code",
   "execution_count": null,
   "metadata": {},
   "outputs": [],
   "source": []
  },
  {
   "cell_type": "code",
   "execution_count": null,
   "metadata": {},
   "outputs": [],
   "source": []
  },
  {
   "cell_type": "code",
   "execution_count": null,
   "metadata": {},
   "outputs": [],
   "source": []
  },
  {
   "cell_type": "code",
   "execution_count": null,
   "metadata": {},
   "outputs": [],
   "source": []
  },
  {
   "cell_type": "code",
   "execution_count": 35,
   "metadata": {},
   "outputs": [],
   "source": [
    "import pickle"
   ]
  },
  {
   "cell_type": "code",
   "execution_count": 77,
   "metadata": {},
   "outputs": [],
   "source": [
    "output_file = open(\"walk1.pickle\", \"wb\")\n",
    "pickle.dump(rfc, output_file)\n",
    "output_file.close()"
   ]
  },
  {
   "cell_type": "code",
   "execution_count": 80,
   "metadata": {},
   "outputs": [],
   "source": [
    "from joblib import dump, load"
   ]
  },
  {
   "cell_type": "code",
   "execution_count": 81,
   "metadata": {},
   "outputs": [],
   "source": [
    "output_file = open(\"preprocessor.joblib\", \"wb\")\n",
    "dump(preprocessor, output_file)\n",
    "output_file.close()"
   ]
  },
  {
   "cell_type": "code",
   "execution_count": null,
   "metadata": {},
   "outputs": [],
   "source": []
  },
  {
   "cell_type": "code",
   "execution_count": null,
   "metadata": {},
   "outputs": [],
   "source": []
  },
  {
   "cell_type": "code",
   "execution_count": null,
   "metadata": {},
   "outputs": [],
   "source": []
  },
  {
   "cell_type": "code",
   "execution_count": null,
   "metadata": {},
   "outputs": [],
   "source": []
  },
  {
   "cell_type": "code",
   "execution_count": 51,
   "metadata": {},
   "outputs": [],
   "source": [
    "import pickle\n",
    "import pandas as pd\n",
    "import joblib"
   ]
  },
  {
   "cell_type": "code",
   "execution_count": 95,
   "metadata": {},
   "outputs": [],
   "source": [
    "model_file = open('walk1.pickle', \"rb\")\n",
    "loaded_model = pickle.load(model_file)\n",
    "model_file.close()"
   ]
  },
  {
   "cell_type": "code",
   "execution_count": 96,
   "metadata": {},
   "outputs": [],
   "source": [
    "preprocessor_file = open('preprocessor.joblib', 'rb')\n",
    "loaded_preprocessor = joblib.load(preprocessor_file)\n",
    "preprocessor_file.close()"
   ]
  },
  {
   "cell_type": "code",
   "execution_count": 7,
   "metadata": {},
   "outputs": [],
   "source": [
    "# path, warnings = get_route(secret_loc_goog, start_lat_long, end_lat_long)\n",
    "\n",
    "pts = pd.read_csv('practice_route_pts.csv') # pts = get_points_near_path(path, )\n",
    "pts = pts.drop(columns=['geometry', 'on_path'])"
   ]
  },
  {
   "cell_type": "code",
   "execution_count": 9,
   "metadata": {},
   "outputs": [
    {
     "data": {
      "text/plain": [
       "Index(['latitude', 'longitude', 'date', 'n_arrests', 'ap_t_high100',\n",
       "       'ap_t_low100', 'cloud', 'humidity', 'precip_inten_max10000',\n",
       "       'precip_proba100', 'sunriseTime', 'sunsetTime', 'wind_gust100',\n",
       "       'precip_accum100'],\n",
       "      dtype='object')"
      ]
     },
     "execution_count": 9,
     "metadata": {},
     "output_type": "execute_result"
    }
   ],
   "source": [
    "df.columns"
   ]
  },
  {
   "cell_type": "code",
   "execution_count": 10,
   "metadata": {},
   "outputs": [],
   "source": [
    "day_weather = pd.DataFrame(df.loc[0, 'date':'precip_accum100']).T"
   ]
  },
  {
   "cell_type": "code",
   "execution_count": 11,
   "metadata": {},
   "outputs": [
    {
     "data": {
      "text/html": [
       "<div>\n",
       "<style scoped>\n",
       "    .dataframe tbody tr th:only-of-type {\n",
       "        vertical-align: middle;\n",
       "    }\n",
       "\n",
       "    .dataframe tbody tr th {\n",
       "        vertical-align: top;\n",
       "    }\n",
       "\n",
       "    .dataframe thead th {\n",
       "        text-align: right;\n",
       "    }\n",
       "</style>\n",
       "<table border=\"1\" class=\"dataframe\">\n",
       "  <thead>\n",
       "    <tr style=\"text-align: right;\">\n",
       "      <th></th>\n",
       "      <th>date</th>\n",
       "      <th>n_arrests</th>\n",
       "      <th>ap_t_high100</th>\n",
       "      <th>ap_t_low100</th>\n",
       "      <th>cloud</th>\n",
       "      <th>humidity</th>\n",
       "      <th>precip_inten_max10000</th>\n",
       "      <th>precip_proba100</th>\n",
       "      <th>sunriseTime</th>\n",
       "      <th>sunsetTime</th>\n",
       "      <th>wind_gust100</th>\n",
       "      <th>precip_accum100</th>\n",
       "    </tr>\n",
       "  </thead>\n",
       "  <tbody>\n",
       "    <tr>\n",
       "      <td>0</td>\n",
       "      <td>2018-01-02</td>\n",
       "      <td>NaN</td>\n",
       "      <td>1943</td>\n",
       "      <td>1085</td>\n",
       "      <td>5</td>\n",
       "      <td>57</td>\n",
       "      <td>0</td>\n",
       "      <td>0</td>\n",
       "      <td>1514895663</td>\n",
       "      <td>1514929247</td>\n",
       "      <td>1259</td>\n",
       "      <td>NaN</td>\n",
       "    </tr>\n",
       "  </tbody>\n",
       "</table>\n",
       "</div>"
      ],
      "text/plain": [
       "        date n_arrests ap_t_high100 ap_t_low100 cloud humidity  \\\n",
       "0 2018-01-02       NaN         1943        1085     5       57   \n",
       "\n",
       "  precip_inten_max10000 precip_proba100 sunriseTime  sunsetTime wind_gust100  \\\n",
       "0                     0               0  1514895663  1514929247         1259   \n",
       "\n",
       "  precip_accum100  \n",
       "0             NaN  "
      ]
     },
     "execution_count": 11,
     "metadata": {},
     "output_type": "execute_result"
    }
   ],
   "source": [
    "day_weather.head()"
   ]
  },
  {
   "cell_type": "code",
   "execution_count": 12,
   "metadata": {},
   "outputs": [
    {
     "data": {
      "text/plain": [
       "Index(['date', 'ap_t_high100', 'ap_t_low100', 'cloud', 'humidity',\n",
       "       'precip_inten_max10000', 'precip_proba100', 'sunriseTime', 'sunsetTime',\n",
       "       'wind_gust100', 'precip_accum100'],\n",
       "      dtype='object')"
      ]
     },
     "execution_count": 12,
     "metadata": {},
     "output_type": "execute_result"
    }
   ],
   "source": [
    "day_weather = day_weather.drop(columns=['n_arrests'])\n",
    "day_weather.columns"
   ]
  },
  {
   "cell_type": "code",
   "execution_count": 13,
   "metadata": {},
   "outputs": [],
   "source": [
    "for col in day_weather.columns:\n",
    "\n",
    "    pts[col] = day_weather[col].values[0]"
   ]
  },
  {
   "cell_type": "code",
   "execution_count": 14,
   "metadata": {},
   "outputs": [
    {
     "data": {
      "text/html": [
       "<div>\n",
       "<style scoped>\n",
       "    .dataframe tbody tr th:only-of-type {\n",
       "        vertical-align: middle;\n",
       "    }\n",
       "\n",
       "    .dataframe tbody tr th {\n",
       "        vertical-align: top;\n",
       "    }\n",
       "\n",
       "    .dataframe thead th {\n",
       "        text-align: right;\n",
       "    }\n",
       "</style>\n",
       "<table border=\"1\" class=\"dataframe\">\n",
       "  <thead>\n",
       "    <tr style=\"text-align: right;\">\n",
       "      <th></th>\n",
       "      <th>latitude</th>\n",
       "      <th>longitude</th>\n",
       "      <th>date</th>\n",
       "      <th>ap_t_high100</th>\n",
       "      <th>ap_t_low100</th>\n",
       "      <th>cloud</th>\n",
       "      <th>humidity</th>\n",
       "      <th>precip_inten_max10000</th>\n",
       "      <th>precip_proba100</th>\n",
       "      <th>sunriseTime</th>\n",
       "      <th>sunsetTime</th>\n",
       "      <th>wind_gust100</th>\n",
       "      <th>precip_accum100</th>\n",
       "    </tr>\n",
       "  </thead>\n",
       "  <tbody>\n",
       "    <tr>\n",
       "      <td>0</td>\n",
       "      <td>40.722</td>\n",
       "      <td>-73.993</td>\n",
       "      <td>2018-01-02</td>\n",
       "      <td>1943</td>\n",
       "      <td>1085</td>\n",
       "      <td>5</td>\n",
       "      <td>57</td>\n",
       "      <td>0</td>\n",
       "      <td>0</td>\n",
       "      <td>1514895663</td>\n",
       "      <td>1514929247</td>\n",
       "      <td>1259</td>\n",
       "      <td>NaN</td>\n",
       "    </tr>\n",
       "    <tr>\n",
       "      <td>1</td>\n",
       "      <td>40.722</td>\n",
       "      <td>-73.992</td>\n",
       "      <td>2018-01-02</td>\n",
       "      <td>1943</td>\n",
       "      <td>1085</td>\n",
       "      <td>5</td>\n",
       "      <td>57</td>\n",
       "      <td>0</td>\n",
       "      <td>0</td>\n",
       "      <td>1514895663</td>\n",
       "      <td>1514929247</td>\n",
       "      <td>1259</td>\n",
       "      <td>NaN</td>\n",
       "    </tr>\n",
       "    <tr>\n",
       "      <td>2</td>\n",
       "      <td>40.722</td>\n",
       "      <td>-73.991</td>\n",
       "      <td>2018-01-02</td>\n",
       "      <td>1943</td>\n",
       "      <td>1085</td>\n",
       "      <td>5</td>\n",
       "      <td>57</td>\n",
       "      <td>0</td>\n",
       "      <td>0</td>\n",
       "      <td>1514895663</td>\n",
       "      <td>1514929247</td>\n",
       "      <td>1259</td>\n",
       "      <td>NaN</td>\n",
       "    </tr>\n",
       "    <tr>\n",
       "      <td>3</td>\n",
       "      <td>40.722</td>\n",
       "      <td>-73.990</td>\n",
       "      <td>2018-01-02</td>\n",
       "      <td>1943</td>\n",
       "      <td>1085</td>\n",
       "      <td>5</td>\n",
       "      <td>57</td>\n",
       "      <td>0</td>\n",
       "      <td>0</td>\n",
       "      <td>1514895663</td>\n",
       "      <td>1514929247</td>\n",
       "      <td>1259</td>\n",
       "      <td>NaN</td>\n",
       "    </tr>\n",
       "    <tr>\n",
       "      <td>4</td>\n",
       "      <td>40.722</td>\n",
       "      <td>-73.989</td>\n",
       "      <td>2018-01-02</td>\n",
       "      <td>1943</td>\n",
       "      <td>1085</td>\n",
       "      <td>5</td>\n",
       "      <td>57</td>\n",
       "      <td>0</td>\n",
       "      <td>0</td>\n",
       "      <td>1514895663</td>\n",
       "      <td>1514929247</td>\n",
       "      <td>1259</td>\n",
       "      <td>NaN</td>\n",
       "    </tr>\n",
       "  </tbody>\n",
       "</table>\n",
       "</div>"
      ],
      "text/plain": [
       "   latitude  longitude       date  ap_t_high100  ap_t_low100  cloud  humidity  \\\n",
       "0    40.722    -73.993 2018-01-02          1943         1085      5        57   \n",
       "1    40.722    -73.992 2018-01-02          1943         1085      5        57   \n",
       "2    40.722    -73.991 2018-01-02          1943         1085      5        57   \n",
       "3    40.722    -73.990 2018-01-02          1943         1085      5        57   \n",
       "4    40.722    -73.989 2018-01-02          1943         1085      5        57   \n",
       "\n",
       "   precip_inten_max10000  precip_proba100  sunriseTime  sunsetTime  \\\n",
       "0                      0                0   1514895663  1514929247   \n",
       "1                      0                0   1514895663  1514929247   \n",
       "2                      0                0   1514895663  1514929247   \n",
       "3                      0                0   1514895663  1514929247   \n",
       "4                      0                0   1514895663  1514929247   \n",
       "\n",
       "   wind_gust100  precip_accum100  \n",
       "0          1259              NaN  \n",
       "1          1259              NaN  \n",
       "2          1259              NaN  \n",
       "3          1259              NaN  \n",
       "4          1259              NaN  "
      ]
     },
     "execution_count": 14,
     "metadata": {},
     "output_type": "execute_result"
    }
   ],
   "source": [
    "pts.head()"
   ]
  },
  {
   "cell_type": "code",
   "execution_count": 15,
   "metadata": {},
   "outputs": [
    {
     "data": {
      "text/plain": [
       "Index(['latitude', 'longitude', 'date', 'ap_t_high100', 'ap_t_low100', 'cloud',\n",
       "       'humidity', 'precip_inten_max10000', 'precip_proba100', 'sunriseTime',\n",
       "       'sunsetTime', 'wind_gust100', 'precip_accum100'],\n",
       "      dtype='object')"
      ]
     },
     "execution_count": 15,
     "metadata": {},
     "output_type": "execute_result"
    }
   ],
   "source": [
    "pts.columns"
   ]
  },
  {
   "cell_type": "code",
   "execution_count": 104,
   "metadata": {},
   "outputs": [],
   "source": [
    "inputs = loaded_preprocessor.transform(pts)"
   ]
  },
  {
   "cell_type": "code",
   "execution_count": 105,
   "metadata": {},
   "outputs": [],
   "source": [
    "preds = loaded_model.predict_proba(inputs)"
   ]
  },
  {
   "cell_type": "code",
   "execution_count": 148,
   "metadata": {},
   "outputs": [],
   "source": [
    "arr_proba = [x[1] for x in preds]"
   ]
  },
  {
   "cell_type": "code",
   "execution_count": 152,
   "metadata": {},
   "outputs": [
    {
     "data": {
      "text/plain": [
       "0.17083333333333336"
      ]
     },
     "execution_count": 152,
     "metadata": {},
     "output_type": "execute_result"
    }
   ],
   "source": [
    "sum(arr_proba)/24"
   ]
  },
  {
   "cell_type": "code",
   "execution_count": 153,
   "metadata": {},
   "outputs": [
    {
     "data": {
      "text/plain": [
       "[0.0,\n",
       " 0.0,\n",
       " 0.0,\n",
       " 0.0,\n",
       " 0.0,\n",
       " 0.1,\n",
       " 0.1,\n",
       " 0.0,\n",
       " 0.0,\n",
       " 0.0,\n",
       " 0.0,\n",
       " 0.0,\n",
       " 0.0,\n",
       " 0.2,\n",
       " 0.0,\n",
       " 0.0,\n",
       " 0.0,\n",
       " 0.0,\n",
       " 0.1,\n",
       " 0.1,\n",
       " 0.1,\n",
       " 0.0,\n",
       " 0.0,\n",
       " 0.0,\n",
       " 0.0,\n",
       " 0.0,\n",
       " 0.0,\n",
       " 0.0,\n",
       " 0.0,\n",
       " 0.0,\n",
       " 0.0,\n",
       " 0.0,\n",
       " 0.0,\n",
       " 0.0,\n",
       " 0.2,\n",
       " 0.0,\n",
       " 0.0,\n",
       " 0.1,\n",
       " 0.1,\n",
       " 0.0,\n",
       " 0.5,\n",
       " 0.1,\n",
       " 0.0,\n",
       " 0.1,\n",
       " 0.0,\n",
       " 0.9,\n",
       " 0.0,\n",
       " 0.0,\n",
       " 0.1,\n",
       " 0.0,\n",
       " 0.3,\n",
       " 0.0,\n",
       " 0.1,\n",
       " 0.2,\n",
       " 0.2,\n",
       " 0.0,\n",
       " 0.2,\n",
       " 0.3,\n",
       " 0.0]"
      ]
     },
     "execution_count": 153,
     "metadata": {},
     "output_type": "execute_result"
    }
   ],
   "source": [
    "arr_proba"
   ]
  },
  {
   "cell_type": "code",
   "execution_count": null,
   "metadata": {},
   "outputs": [],
   "source": []
  },
  {
   "cell_type": "code",
   "execution_count": null,
   "metadata": {},
   "outputs": [],
   "source": []
  },
  {
   "cell_type": "code",
   "execution_count": null,
   "metadata": {},
   "outputs": [],
   "source": []
  },
  {
   "cell_type": "code",
   "execution_count": 114,
   "metadata": {},
   "outputs": [
    {
     "name": "stdout",
     "output_type": "stream",
     "text": [
      "820477\n",
      "820449\n",
      "821323\n",
      "816221\n",
      "817471\n",
      "822543\n",
      "824973\n",
      "822973\n",
      "824789\n",
      "829049\n"
     ]
    }
   ],
   "source": [
    "for estimator in loaded_model.estimators_:\n",
    "    print (estimator.tree_.node_count)"
   ]
  },
  {
   "cell_type": "code",
   "execution_count": 115,
   "metadata": {},
   "outputs": [
    {
     "data": {
      "text/plain": [
       "array([1.04267456e-04, 1.13306095e-03, 1.94367735e-04, 3.15435432e-04,\n",
       "       2.78068793e-04, 1.92479290e-04, 1.32624706e-04, 1.57298549e-04,\n",
       "       1.37649603e-04, 1.03071565e-04, 9.50281788e-05, 1.07603126e-04,\n",
       "       1.52797350e-04, 1.46776035e-04, 9.47345782e-05, 1.86469708e-04,\n",
       "       1.35097065e-04, 1.47082817e-04, 7.06907557e-05, 1.13847645e-04,\n",
       "       1.04882674e-04, 9.72572029e-05, 1.16873009e-04, 1.12705466e-04,\n",
       "       1.15632194e-04, 1.18698393e-04, 8.99298058e-05, 1.14451324e-04,\n",
       "       9.82026912e-05, 1.31693543e-04, 1.59635443e-04, 1.00359028e-04,\n",
       "       1.19401169e-04, 9.09422634e-05, 1.33177737e-04, 1.32779773e-04,\n",
       "       1.69433988e-04, 1.21309143e-04, 9.50059831e-05, 1.58526157e-04,\n",
       "       2.01113213e-04, 1.23441776e-04, 1.50524618e-04, 1.20048833e-04,\n",
       "       1.00015023e-04, 1.09615753e-04, 7.93741213e-05, 8.23310152e-04,\n",
       "       3.48761832e-04, 4.65851298e-04, 5.00033121e-04, 3.24996302e-04,\n",
       "       3.10827997e-04, 1.91908813e-03, 1.92089183e-04, 1.56727035e-04,\n",
       "       2.62305549e-04, 2.37402416e-04, 7.19714224e-05, 1.94210277e-04,\n",
       "       2.10133437e-04, 5.70488817e-05, 1.84817459e-03, 1.87281407e-03,\n",
       "       4.64161587e-01, 5.03393156e-01, 2.11489891e-03, 1.94465662e-03,\n",
       "       1.62595059e-03, 1.63493214e-03, 1.67902935e-03, 1.14393438e-03,\n",
       "       8.46849884e-04, 1.44520359e-03, 9.77532238e-04, 1.97304183e-03])"
      ]
     },
     "execution_count": 115,
     "metadata": {},
     "output_type": "execute_result"
    }
   ],
   "source": [
    "loaded_model.feature_importances_"
   ]
  },
  {
   "cell_type": "code",
   "execution_count": null,
   "metadata": {},
   "outputs": [],
   "source": []
  },
  {
   "cell_type": "code",
   "execution_count": null,
   "metadata": {},
   "outputs": [],
   "source": []
  },
  {
   "cell_type": "markdown",
   "metadata": {},
   "source": [
    "# Minimum MVP"
   ]
  },
  {
   "cell_type": "code",
   "execution_count": 51,
   "metadata": {},
   "outputs": [],
   "source": [
    "def predict_arrest_proba(start, end):\n",
    "    return y.mean()"
   ]
  },
  {
   "cell_type": "code",
   "execution_count": 61,
   "metadata": {},
   "outputs": [
    {
     "data": {
      "text/plain": [
       "0.018"
      ]
     },
     "execution_count": 61,
     "metadata": {},
     "output_type": "execute_result"
    }
   ],
   "source": [
    "round(predict_arrest_proba(\"\",\"\"), 3)"
   ]
  },
  {
   "cell_type": "code",
   "execution_count": 63,
   "metadata": {},
   "outputs": [
    {
     "data": {
      "text/plain": [
       "0.016"
      ]
     },
     "execution_count": 63,
     "metadata": {},
     "output_type": "execute_result"
    }
   ],
   "source": [
    "round(y_eval.mean(), 3)"
   ]
  },
  {
   "cell_type": "markdown",
   "metadata": {},
   "source": [
    "# 2nd MVP"
   ]
  },
  {
   "cell_type": "code",
   "execution_count": 2,
   "metadata": {},
   "outputs": [],
   "source": [
    "import pandas as pd"
   ]
  },
  {
   "cell_type": "code",
   "execution_count": 3,
   "metadata": {},
   "outputs": [],
   "source": [
    "lat_long_arrests_df = pd.read_sql_query(\"\"\"\n",
    "                    SELECT latitude, \n",
    "                            longitude, \n",
    "                            COUNT(n_arrests) as arrest_days \n",
    "                    FROM manhattan_loc_d_ar_wea \n",
    "                    GROUP BY latitude, longitude;\"\"\"\n",
    "                                    , 'postgresql:///walk')\n",
    "\n",
    "final_date = pd.read_sql_query(\"\"\"SELECT date\n",
    "                                    FROM manhattan_loc_d_ar_wea\n",
    "                                    ORDER BY date DESC\n",
    "                                    LIMIT 1\"\"\", 'postgresql:///walk')\n",
    "\n",
    "start_date = pd.read_sql_query(\"\"\"SELECT date\n",
    "                                    FROM manhattan_loc_d_ar_wea\n",
    "                                    ORDER BY date ASC\n",
    "                                    LIMIT 1\"\"\", 'postgresql:///walk')\n",
    "\n",
    "total_days = (final_date.iloc[0,0] - start_date.iloc[0,0]).days\n",
    "\n",
    "# set probability for each location based on the rate of days with arrests in the data set\n",
    "lat_long_arrest_df['probability'] = lat_long_arrest_df['arrest_days'] / total_days\n",
    "\n",
    "# create latlong column as unique identifier to join on\n",
    "pts_df['latlong'] = (round(pts_df['latitude'], 3).astype(str) \n",
    "                     + round(pts_df['longitude'], 3).astype(str))\n",
    "lat_long_arrest_df['latlong'] = (round(lat_long_arrest_df['latitude'], 3).astype(str) \n",
    "                              + round(lat_long_arrest_df['longitude'], 3).astype(str))\n",
    "\n",
    "# clean lat_long_est_df\n",
    "lat_long_arrest_df = lat_long_arrest_df.drop(columns=['latitude', 'longitude'])\n",
    "\n",
    "# left join data tables on 'latlong', adding the probability of arrest occuring to each latlong in pts_df\n",
    "pts_proba_df = pts_df.set_index('latlong').join(lat_long_arrest_df.set_index('latlong'))\n"
   ]
  },
  {
   "cell_type": "code",
   "execution_count": null,
   "metadata": {},
   "outputs": [],
   "source": []
  }
 ],
 "metadata": {
  "kernelspec": {
   "display_name": "Python 3 (walk-env)",
   "language": "python",
   "name": "walk-env"
  },
  "language_info": {
   "codemirror_mode": {
    "name": "ipython",
    "version": 3
   },
   "file_extension": ".py",
   "mimetype": "text/x-python",
   "name": "python",
   "nbconvert_exporter": "python",
   "pygments_lexer": "ipython3",
   "version": "3.7.4"
  }
 },
 "nbformat": 4,
 "nbformat_minor": 2
}
