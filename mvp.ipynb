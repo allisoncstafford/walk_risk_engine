{
 "cells": [
  {
   "cell_type": "code",
   "execution_count": 3,
   "metadata": {},
   "outputs": [],
   "source": [
    "import sqlalchemy\n",
    "import pandas as pd\n",
    "import numpy as np"
   ]
  },
  {
   "cell_type": "markdown",
   "metadata": {},
   "source": [
    "## MVP"
   ]
  },
  {
   "cell_type": "code",
   "execution_count": 4,
   "metadata": {},
   "outputs": [],
   "source": [
    "# from sqlalchemy import create_engine\n",
    "# engine = create_engine('postgresql:///walk')"
   ]
  },
  {
   "cell_type": "code",
   "execution_count": 5,
   "metadata": {},
   "outputs": [],
   "source": [
    "df = pd.read_sql_table('manhattan_loc_d_ar_wea', 'postgresql:///walk')"
   ]
  },
  {
   "cell_type": "code",
   "execution_count": 6,
   "metadata": {},
   "outputs": [],
   "source": [
    "from sklearn.model_selection import train_test_split"
   ]
  },
  {
   "cell_type": "code",
   "execution_count": 7,
   "metadata": {},
   "outputs": [],
   "source": [
    "def categorize_arrests(dataframe):\n",
    "    cat_df = pd.DataFrame(dataframe, columns=['n_arrests'])\n",
    "    cat_df.loc[cat_df['n_arrests'] > 0] = 1\n",
    "    cat_df = cat_df.fillna(value=0).astype(int)\n",
    "    output = cat_df.values.ravel()\n",
    "    return output"
   ]
  },
  {
   "cell_type": "code",
   "execution_count": 37,
   "metadata": {},
   "outputs": [],
   "source": [
    "last_ten = df.shape[0]*.9\n",
    "eval_df = df.reset_index(drop=True).loc[last_ten:]\n",
    "test_train_df = df.reset_index(drop=True).loc[:last_ten]\n",
    "X_eval = eval_df.drop(columns=['n_arrests'])\n",
    "y_eval = categorize_arrests(eval_df['n_arrests'])"
   ]
  },
  {
   "cell_type": "code",
   "execution_count": 38,
   "metadata": {},
   "outputs": [],
   "source": [
    "X = test_train_df.drop(columns=['n_arrests'])\n",
    "y = categorize_arrests(test_train_df['n_arrests'])\n",
    "\n",
    "X_train, X_test, y_train, y_test = train_test_split(X, y, test_size=0.2, random_state=30)"
   ]
  },
  {
   "cell_type": "code",
   "execution_count": null,
   "metadata": {},
   "outputs": [],
   "source": []
  },
  {
   "cell_type": "code",
   "execution_count": 50,
   "metadata": {},
   "outputs": [],
   "source": [
    "from sklearn.compose import ColumnTransformer\n",
    "from imblearn.pipeline import Pipeline\n",
    "from sklearn.impute import SimpleImputer\n",
    "from sklearn.preprocessing import StandardScaler\n",
    "from sklearn.preprocessing import OneHotEncoder\n",
    "import time"
   ]
  },
  {
   "cell_type": "code",
   "execution_count": 10,
   "metadata": {},
   "outputs": [],
   "source": [
    "class DateTransformer():\n",
    "    \"\"\"Transforms df so that there are columns representing the features of the date.\n",
    "    \"\"\"\n",
    "    \n",
    "    def __init__(self):\n",
    "        pass\n",
    "    \n",
    "    def fit(self, X, y=None):\n",
    "        return self\n",
    "    \n",
    "    def transform(self, X, y=None):\n",
    "        X = pd.Series([pd.to_datetime(x, format=\"%Y-%m-%d\") for x in X['date']])\n",
    "        X_transf = pd.DataFrame()\n",
    "        X_transf['year'] = [x.year for x in X]\n",
    "        X_transf['month'] = [x.month for x in X]\n",
    "        X_transf['day'] = [x.day for x in X]\n",
    "        X_transf['weekday'] = [x.weekday() for x in X]\n",
    "        return np.array(X_transf)"
   ]
  },
  {
   "cell_type": "code",
   "execution_count": 11,
   "metadata": {},
   "outputs": [],
   "source": [
    "class TimeOfDayTransformer():    \n",
    "    def __init__(self):\n",
    "        pass\n",
    "    \n",
    "    def fit(self, X, y=None):\n",
    "        return self\n",
    "    \n",
    "    def transform(self, X, y=None):\n",
    "        structtime = [time.gmtime(x) for x in X.values]\n",
    "        X_transf = np.array([(x.tm_hour*60 + x.tm_min) for x in structtime]).reshape(-1, 1)\n",
    "        return X_transf"
   ]
  },
  {
   "cell_type": "code",
   "execution_count": 12,
   "metadata": {},
   "outputs": [],
   "source": [
    "class StringTransformer():    \n",
    "    def __init__(self):\n",
    "        pass\n",
    "    \n",
    "    def fit(self, X, y=None):\n",
    "        return self\n",
    "    \n",
    "    def transform(self, X, y=None):\n",
    "#         X_trans = np.array(X.astype(str)).reshape(-1, 1)\n",
    "#         print(X_trans)\n",
    "        return np.array(X.astype(str)).reshape(-1, 2)"
   ]
  },
  {
   "cell_type": "code",
   "execution_count": 13,
   "metadata": {},
   "outputs": [],
   "source": [
    "impute_zero_features = ['precip_accum100']\n",
    "impute_zero_transformer = Pipeline(steps=[\n",
    "    ('imputer', SimpleImputer(strategy='constant', fill_value=0)),\n",
    "    ('scaler', StandardScaler())\n",
    "])\n",
    "\n",
    "impute_mean_features = ['ozone10']\n",
    "impute_mean_transformer = Pipeline(steps=[\n",
    "    ('imputer', SimpleImputer()),\n",
    "    ('scaler', StandardScaler())\n",
    "])\n",
    "\n",
    "date_transformer = Pipeline(steps=[\n",
    "    ('date_expansion', DateTransformer()),\n",
    "    ('ohe', OneHotEncoder(categories='auto'))\n",
    "])\n",
    "\n",
    "categorical_features = ['icon', 'precipType']\n",
    "categorical_transformer = Pipeline(steps=[\n",
    "    ('string', StringTransformer()),\n",
    "    ('ohe', OneHotEncoder(categories='auto'))\n",
    "])\n",
    "\n",
    "time_of_day_features = ['sunriseTime', 'sunsetTime']\n",
    "time_of_day_transformer = Pipeline(steps=[\n",
    "    ('time', TimeOfDayTransformer()),\n",
    "    ('scaler', StandardScaler())\n",
    "])\n",
    "\n",
    "other_numeric_features = ['latitude', 'longitude', 'ap_t_high100',\n",
    "                         'ap_t_low100', 'cloud', 'humidity', 'moon_phase',\n",
    "                          'precip_inten_max10000', 'precip_proba100', 'pressure',\n",
    "                         'uvIndex', 'wind_gust100',]\n",
    "\n",
    "preprocessor = ColumnTransformer( transformers=[\n",
    "    ('missing0', impute_zero_transformer, impute_zero_features),\n",
    "    ('missing_mean', impute_mean_transformer, impute_mean_features),\n",
    "    ('date', date_transformer, ['date']),\n",
    "    ('categoricals', categorical_transformer, categorical_features),\n",
    "    ('sunrise', time_of_day_transformer, ['sunriseTime']),\n",
    "    ('sunset', time_of_day_transformer, ['sunsetTime']),\n",
    "    ('ss', StandardScaler(), other_numeric_features)\n",
    "    ], remainder='passthrough')\n",
    "\n",
    "\n"
   ]
  },
  {
   "cell_type": "code",
   "execution_count": 46,
   "metadata": {},
   "outputs": [],
   "source": [
    "from sklearn.linear_model import LinearRegression\n",
    "from sklearn.metrics import mean_squared_error\n",
    "from sklearn.ensemble import RandomForestClassifier\n",
    "from sklearn.metrics import confusion_matrix, f1_score, accuracy_score\n",
    "from sklearn.metrics import log_loss\n",
    "from imblearn.over_sampling import SMOTE"
   ]
  },
  {
   "cell_type": "code",
   "execution_count": 47,
   "metadata": {},
   "outputs": [],
   "source": [
    "rfc = RandomForestClassifier()\n",
    "sm = SMOTE(random_state=20)"
   ]
  },
  {
   "cell_type": "code",
   "execution_count": 53,
   "metadata": {},
   "outputs": [],
   "source": [
    "pipe = Pipeline([\n",
    "    ('preprocess', preprocessor),\n",
    "    ('smote', sm),\n",
    "    ('model', rfc)\n",
    "])"
   ]
  },
  {
   "cell_type": "code",
   "execution_count": 54,
   "metadata": {},
   "outputs": [
    {
     "name": "stdout",
     "output_type": "stream",
     "text": [
      "Current Time = 10:41:54\n"
     ]
    }
   ],
   "source": [
    "from datetime import datetime\n",
    "now = datetime.now()\n",
    "current_time = now.strftime(\"%H:%M:%S\")\n",
    "print(\"Current Time =\", current_time)"
   ]
  },
  {
   "cell_type": "code",
   "execution_count": 55,
   "metadata": {},
   "outputs": [
    {
     "name": "stderr",
     "output_type": "stream",
     "text": [
      "//anaconda3/envs/walk-env/lib/python3.7/site-packages/sklearn/ensemble/forest.py:245: FutureWarning: The default value of n_estimators will change from 10 in version 0.20 to 100 in 0.22.\n",
      "  \"10 in version 0.20 to 100 in 0.22.\", FutureWarning)\n"
     ]
    },
    {
     "data": {
      "text/plain": [
       "Pipeline(memory=None,\n",
       "         steps=[('preprocess',\n",
       "                 ColumnTransformer(n_jobs=None, remainder='passthrough',\n",
       "                                   sparse_threshold=0.3,\n",
       "                                   transformer_weights=None,\n",
       "                                   transformers=[('missing0',\n",
       "                                                  Pipeline(memory=None,\n",
       "                                                           steps=[('imputer',\n",
       "                                                                   SimpleImputer(add_indicator=False,\n",
       "                                                                                 copy=True,\n",
       "                                                                                 fill_value=0,\n",
       "                                                                                 missing_values=nan,\n",
       "                                                                                 strategy='constant',\n",
       "                                                                                 verbose=0)),\n",
       "                                                                  ('scaler',\n",
       "                                                                   StandardScaler(copy=True,...\n",
       "                 RandomForestClassifier(bootstrap=True, class_weight=None,\n",
       "                                        criterion='gini', max_depth=None,\n",
       "                                        max_features='auto',\n",
       "                                        max_leaf_nodes=None,\n",
       "                                        min_impurity_decrease=0.0,\n",
       "                                        min_impurity_split=None,\n",
       "                                        min_samples_leaf=1, min_samples_split=2,\n",
       "                                        min_weight_fraction_leaf=0.0,\n",
       "                                        n_estimators=10, n_jobs=None,\n",
       "                                        oob_score=False, random_state=None,\n",
       "                                        verbose=0, warm_start=False))],\n",
       "         verbose=False)"
      ]
     },
     "execution_count": 55,
     "metadata": {},
     "output_type": "execute_result"
    }
   ],
   "source": [
    "# ~30 min runtime\n",
    "pipe.fit(X_train, y_train)"
   ]
  },
  {
   "cell_type": "code",
   "execution_count": 56,
   "metadata": {},
   "outputs": [
    {
     "name": "stdout",
     "output_type": "stream",
     "text": [
      "Current Time = 15:25:34\n"
     ]
    }
   ],
   "source": [
    "from datetime import datetime\n",
    "now = datetime.now()\n",
    "current_time = now.strftime(\"%H:%M:%S\")\n",
    "print(\"Current Time =\", current_time)"
   ]
  },
  {
   "cell_type": "code",
   "execution_count": 64,
   "metadata": {},
   "outputs": [],
   "source": [
    "train_preds = pipe.predict(X_train)\n",
    "train_proba = pipe.predict_proba(X_train)"
   ]
  },
  {
   "cell_type": "code",
   "execution_count": 65,
   "metadata": {},
   "outputs": [],
   "source": [
    "def print_scores(true, pred, pred_proba):\n",
    "    lloss = log_loss(true, pred_proba)\n",
    "    cf = confusion_matrix(true, pred)\n",
    "    acc = accuracy_score(true, pred)\n",
    "    f1 = f1_score(true, pred)\n",
    "    print(f\"log loss: {lloss}\\n\\nconfusion matrix:\\n{cf}\\naccuracy: {acc}\\nF1 score: {f1}\")"
   ]
  },
  {
   "cell_type": "code",
   "execution_count": 66,
   "metadata": {},
   "outputs": [
    {
     "name": "stdout",
     "output_type": "stream",
     "text": [
      "log loss: 0.03984980781059711\n",
      "\n",
      "confusion matrix:\n",
      "[[2430491    2443]\n",
      " [   3481   40414]]\n",
      "accuracy: 0.9976082321387548\n",
      "F1 score: 0.9317133898930284\n"
     ]
    }
   ],
   "source": [
    "print_scores(y_train, train_preds, train_proba)"
   ]
  },
  {
   "cell_type": "code",
   "execution_count": 67,
   "metadata": {},
   "outputs": [],
   "source": [
    "test_preds = pipe.predict(X_test)\n",
    "test_proba = pipe.predict_proba(X_test)"
   ]
  },
  {
   "cell_type": "code",
   "execution_count": 68,
   "metadata": {},
   "outputs": [
    {
     "name": "stdout",
     "output_type": "stream",
     "text": [
      "log loss: 0.5385519013940447\n",
      "\n",
      "confusion matrix:\n",
      "[[587134  21052]\n",
      " [ 10141    881]]\n",
      "accuracy: 0.9496243588584127\n",
      "F1 score: 0.05346684873312092\n"
     ]
    }
   ],
   "source": [
    "print_scores(y_test, test_preds, test_proba)"
   ]
  },
  {
   "cell_type": "code",
   "execution_count": 69,
   "metadata": {},
   "outputs": [],
   "source": [
    "from matplotlib import pyplot as plt\n",
    "%matplotlib inline"
   ]
  },
  {
   "cell_type": "code",
   "execution_count": 75,
   "metadata": {},
   "outputs": [
    {
     "data": {
      "text/plain": [
       "<BarContainer object of 76 artists>"
      ]
     },
     "execution_count": 75,
     "metadata": {},
     "output_type": "execute_result"
    },
    {
     "data": {
      "image/png": "[encoded data removed]",
      "text/plain": [
       "<Figure size 432x288 with 1 Axes>"
      ]
     },
     "metadata": {
      "needs_background": "light"
     },
     "output_type": "display_data"
    }
   ],
   "source": [
    "plt.barh(range(rfc.n_features_), rfc.feature_importances_)"
   ]
  },
  {
   "cell_type": "code",
   "execution_count": 76,
   "metadata": {},
   "outputs": [],
   "source": [
    "import pickle"
   ]
  },
  {
   "cell_type": "code",
   "execution_count": 77,
   "metadata": {},
   "outputs": [],
   "source": [
    "output_file = open(\"walk1.pickle\", \"wb\")\n",
    "pickle.dump(rfc, output_file)\n",
    "output_file.close()"
   ]
  },
  {
   "cell_type": "code",
   "execution_count": 80,
   "metadata": {},
   "outputs": [],
   "source": [
    "from joblib import dump, load"
   ]
  },
  {
   "cell_type": "code",
   "execution_count": 81,
   "metadata": {},
   "outputs": [],
   "source": [
    "output_file = open(\"preprocessor.joblib\", \"wb\")\n",
    "dump(preprocessor, output_file)\n",
    "output_file.close()"
   ]
  },
  {
   "cell_type": "code",
   "execution_count": null,
   "metadata": {},
   "outputs": [],
   "source": [
    "# model_file = open('walk1.pickle', \"rb\")\n",
    "# loaded_model = pickle.load(model_file)\n",
    "# model_file.close()"
   ]
  }
 ],
 "metadata": {
  "kernelspec": {
   "display_name": "Python 3 (walk-env)",
   "language": "python",
   "name": "walk-env"
  }
 },
 "nbformat": 4,
 "nbformat_minor": 2
}
